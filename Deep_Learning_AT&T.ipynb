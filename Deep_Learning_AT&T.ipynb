{
  "cells": [
    {
      "cell_type": "markdown",
      "metadata": {
        "id": "4cc2KEDw_27m"
      },
      "source": [
        "# 1- Imports\n",
        "# 2- Data Exploration\n",
        "# 3- Preprocessing\n",
        "# 4- Model\n",
        "# Conclusion"
      ]
    },
    {
      "cell_type": "markdown",
      "metadata": {
        "id": "Q8wrO0ClAVQn"
      },
      "source": [
        "# 1- Imports"
      ]
    },
    {
      "cell_type": "code",
      "execution_count": 1,
      "metadata": {
        "id": "sH7ruVe0lSBC"
      },
      "outputs": [],
      "source": [
        "# Importing libraries\n",
        "import numpy as np \n",
        "import pandas as pd\n",
        "import tensorflow as tf\n",
        "\n",
        "import spacy\n",
        "import en_core_web_sm\n",
        "nlp = en_core_web_sm.load()\n",
        "from spacy.lang.en.stop_words import STOP_WORDS\n",
        "\n",
        "import matplotlib.pyplot as plt\n",
        "import seaborn as sns\n",
        "import plotly.express as px\n",
        "\n",
        "from sklearn.model_selection import train_test_split\n",
        "from sklearn.metrics import classification_report,confusion_matrix\n",
        "\n",
        "from tensorflow.keras import Sequential\n",
        "from tensorflow.keras.layers import Dense, Embedding, GlobalMaxPool1D, BatchNormalization, GlobalAveragePooling1D\n",
        "from tensorflow.keras.models import Sequential\n",
        "from tensorflow.keras.losses import BinaryCrossentropy\n",
        "from tensorflow.keras.optimizers import Adam\n",
        "from tensorflow.keras.metrics import BinaryAccuracy\n",
        "\n",
        "from IPython.display import Image"
      ]
    },
    {
      "cell_type": "code",
      "execution_count": 2,
      "metadata": {
        "id": "cq7M_ovlpCyJ"
      },
      "outputs": [],
      "source": [
        "# Importing the dataset\n",
        "dataset = pd.read_csv(\"https://full-stack-bigdata-datasets.s3.eu-west-3.amazonaws.com/Deep+Learning/project/spam.csv\", encoding =  \"ISO-8859-1\")"
      ]
    },
    {
      "cell_type": "markdown",
      "metadata": {
        "id": "NmRoSsHjAZ6y"
      },
      "source": [
        "# 2- Data Exploration"
      ]
    },
    {
      "cell_type": "code",
      "execution_count": 3,
      "metadata": {
        "colab": {
          "base_uri": "https://localhost:8080/",
          "height": 607
        },
        "id": "Bh2YvTE6pskg",
        "outputId": "5c0caf5b-3fbf-430b-94c8-c0548fe49fe5"
      },
      "outputs": [
        {
          "name": "stdout",
          "output_type": "stream",
          "text": [
            "Number of rows : 5572\n",
            "Number of columns : 5\n",
            "\n",
            "Display of dataset: \n"
          ]
        },
        {
          "data": {
            "text/html": [
              "\n",
              "  <div id=\"df-765f7b23-4761-4b9d-81dd-1109a9757cdc\">\n",
              "    <div class=\"colab-df-container\">\n",
              "      <div>\n",
              "<style scoped>\n",
              "    .dataframe tbody tr th:only-of-type {\n",
              "        vertical-align: middle;\n",
              "    }\n",
              "\n",
              "    .dataframe tbody tr th {\n",
              "        vertical-align: top;\n",
              "    }\n",
              "\n",
              "    .dataframe thead th {\n",
              "        text-align: right;\n",
              "    }\n",
              "</style>\n",
              "<table border=\"1\" class=\"dataframe\">\n",
              "  <thead>\n",
              "    <tr style=\"text-align: right;\">\n",
              "      <th></th>\n",
              "      <th>v1</th>\n",
              "      <th>v2</th>\n",
              "      <th>Unnamed: 2</th>\n",
              "      <th>Unnamed: 3</th>\n",
              "      <th>Unnamed: 4</th>\n",
              "    </tr>\n",
              "  </thead>\n",
              "  <tbody>\n",
              "    <tr>\n",
              "      <th>0</th>\n",
              "      <td>ham</td>\n",
              "      <td>Go until jurong point, crazy.. Available only ...</td>\n",
              "      <td>NaN</td>\n",
              "      <td>NaN</td>\n",
              "      <td>NaN</td>\n",
              "    </tr>\n",
              "    <tr>\n",
              "      <th>1</th>\n",
              "      <td>ham</td>\n",
              "      <td>Ok lar... Joking wif u oni...</td>\n",
              "      <td>NaN</td>\n",
              "      <td>NaN</td>\n",
              "      <td>NaN</td>\n",
              "    </tr>\n",
              "    <tr>\n",
              "      <th>2</th>\n",
              "      <td>spam</td>\n",
              "      <td>Free entry in 2 a wkly comp to win FA Cup fina...</td>\n",
              "      <td>NaN</td>\n",
              "      <td>NaN</td>\n",
              "      <td>NaN</td>\n",
              "    </tr>\n",
              "    <tr>\n",
              "      <th>3</th>\n",
              "      <td>ham</td>\n",
              "      <td>U dun say so early hor... U c already then say...</td>\n",
              "      <td>NaN</td>\n",
              "      <td>NaN</td>\n",
              "      <td>NaN</td>\n",
              "    </tr>\n",
              "    <tr>\n",
              "      <th>4</th>\n",
              "      <td>ham</td>\n",
              "      <td>Nah I don't think he goes to usf, he lives aro...</td>\n",
              "      <td>NaN</td>\n",
              "      <td>NaN</td>\n",
              "      <td>NaN</td>\n",
              "    </tr>\n",
              "  </tbody>\n",
              "</table>\n",
              "</div>\n",
              "      <button class=\"colab-df-convert\" onclick=\"convertToInteractive('df-765f7b23-4761-4b9d-81dd-1109a9757cdc')\"\n",
              "              title=\"Convert this dataframe to an interactive table.\"\n",
              "              style=\"display:none;\">\n",
              "        \n",
              "  <svg xmlns=\"http://www.w3.org/2000/svg\" height=\"24px\"viewBox=\"0 0 24 24\"\n",
              "       width=\"24px\">\n",
              "    <path d=\"M0 0h24v24H0V0z\" fill=\"none\"/>\n",
              "    <path d=\"M18.56 5.44l.94 2.06.94-2.06 2.06-.94-2.06-.94-.94-2.06-.94 2.06-2.06.94zm-11 1L8.5 8.5l.94-2.06 2.06-.94-2.06-.94L8.5 2.5l-.94 2.06-2.06.94zm10 10l.94 2.06.94-2.06 2.06-.94-2.06-.94-.94-2.06-.94 2.06-2.06.94z\"/><path d=\"M17.41 7.96l-1.37-1.37c-.4-.4-.92-.59-1.43-.59-.52 0-1.04.2-1.43.59L10.3 9.45l-7.72 7.72c-.78.78-.78 2.05 0 2.83L4 21.41c.39.39.9.59 1.41.59.51 0 1.02-.2 1.41-.59l7.78-7.78 2.81-2.81c.8-.78.8-2.07 0-2.86zM5.41 20L4 18.59l7.72-7.72 1.47 1.35L5.41 20z\"/>\n",
              "  </svg>\n",
              "      </button>\n",
              "      \n",
              "  <style>\n",
              "    .colab-df-container {\n",
              "      display:flex;\n",
              "      flex-wrap:wrap;\n",
              "      gap: 12px;\n",
              "    }\n",
              "\n",
              "    .colab-df-convert {\n",
              "      background-color: #E8F0FE;\n",
              "      border: none;\n",
              "      border-radius: 50%;\n",
              "      cursor: pointer;\n",
              "      display: none;\n",
              "      fill: #1967D2;\n",
              "      height: 32px;\n",
              "      padding: 0 0 0 0;\n",
              "      width: 32px;\n",
              "    }\n",
              "\n",
              "    .colab-df-convert:hover {\n",
              "      background-color: #E2EBFA;\n",
              "      box-shadow: 0px 1px 2px rgba(60, 64, 67, 0.3), 0px 1px 3px 1px rgba(60, 64, 67, 0.15);\n",
              "      fill: #174EA6;\n",
              "    }\n",
              "\n",
              "    [theme=dark] .colab-df-convert {\n",
              "      background-color: #3B4455;\n",
              "      fill: #D2E3FC;\n",
              "    }\n",
              "\n",
              "    [theme=dark] .colab-df-convert:hover {\n",
              "      background-color: #434B5C;\n",
              "      box-shadow: 0px 1px 3px 1px rgba(0, 0, 0, 0.15);\n",
              "      filter: drop-shadow(0px 1px 2px rgba(0, 0, 0, 0.3));\n",
              "      fill: #FFFFFF;\n",
              "    }\n",
              "  </style>\n",
              "\n",
              "      <script>\n",
              "        const buttonEl =\n",
              "          document.querySelector('#df-765f7b23-4761-4b9d-81dd-1109a9757cdc button.colab-df-convert');\n",
              "        buttonEl.style.display =\n",
              "          google.colab.kernel.accessAllowed ? 'block' : 'none';\n",
              "\n",
              "        async function convertToInteractive(key) {\n",
              "          const element = document.querySelector('#df-765f7b23-4761-4b9d-81dd-1109a9757cdc');\n",
              "          const dataTable =\n",
              "            await google.colab.kernel.invokeFunction('convertToInteractive',\n",
              "                                                     [key], {});\n",
              "          if (!dataTable) return;\n",
              "\n",
              "          const docLinkHtml = 'Like what you see? Visit the ' +\n",
              "            '<a target=\"_blank\" href=https://colab.research.google.com/notebooks/data_table.ipynb>data table notebook</a>'\n",
              "            + ' to learn more about interactive tables.';\n",
              "          element.innerHTML = '';\n",
              "          dataTable['output_type'] = 'display_data';\n",
              "          await google.colab.output.renderOutput(dataTable, element);\n",
              "          const docLink = document.createElement('div');\n",
              "          docLink.innerHTML = docLinkHtml;\n",
              "          element.appendChild(docLink);\n",
              "        }\n",
              "      </script>\n",
              "    </div>\n",
              "  </div>\n",
              "  "
            ],
            "text/plain": [
              "     v1                                                 v2 Unnamed: 2  \\\n",
              "0   ham  Go until jurong point, crazy.. Available only ...        NaN   \n",
              "1   ham                      Ok lar... Joking wif u oni...        NaN   \n",
              "2  spam  Free entry in 2 a wkly comp to win FA Cup fina...        NaN   \n",
              "3   ham  U dun say so early hor... U c already then say...        NaN   \n",
              "4   ham  Nah I don't think he goes to usf, he lives aro...        NaN   \n",
              "\n",
              "  Unnamed: 3 Unnamed: 4  \n",
              "0        NaN        NaN  \n",
              "1        NaN        NaN  \n",
              "2        NaN        NaN  \n",
              "3        NaN        NaN  \n",
              "4        NaN        NaN  "
            ]
          },
          "metadata": {},
          "output_type": "display_data"
        },
        {
          "name": "stdout",
          "output_type": "stream",
          "text": [
            "\n",
            "Basics statistics: \n"
          ]
        },
        {
          "data": {
            "text/html": [
              "\n",
              "  <div id=\"df-0f7dde7a-3514-4273-b568-87e1b334465a\">\n",
              "    <div class=\"colab-df-container\">\n",
              "      <div>\n",
              "<style scoped>\n",
              "    .dataframe tbody tr th:only-of-type {\n",
              "        vertical-align: middle;\n",
              "    }\n",
              "\n",
              "    .dataframe tbody tr th {\n",
              "        vertical-align: top;\n",
              "    }\n",
              "\n",
              "    .dataframe thead th {\n",
              "        text-align: right;\n",
              "    }\n",
              "</style>\n",
              "<table border=\"1\" class=\"dataframe\">\n",
              "  <thead>\n",
              "    <tr style=\"text-align: right;\">\n",
              "      <th></th>\n",
              "      <th>v1</th>\n",
              "      <th>v2</th>\n",
              "      <th>Unnamed: 2</th>\n",
              "      <th>Unnamed: 3</th>\n",
              "      <th>Unnamed: 4</th>\n",
              "    </tr>\n",
              "  </thead>\n",
              "  <tbody>\n",
              "    <tr>\n",
              "      <th>count</th>\n",
              "      <td>5572</td>\n",
              "      <td>5572</td>\n",
              "      <td>50</td>\n",
              "      <td>12</td>\n",
              "      <td>6</td>\n",
              "    </tr>\n",
              "    <tr>\n",
              "      <th>unique</th>\n",
              "      <td>2</td>\n",
              "      <td>5169</td>\n",
              "      <td>43</td>\n",
              "      <td>10</td>\n",
              "      <td>5</td>\n",
              "    </tr>\n",
              "    <tr>\n",
              "      <th>top</th>\n",
              "      <td>ham</td>\n",
              "      <td>Sorry, I'll call later</td>\n",
              "      <td>bt not his girlfrnd... G o o d n i g h t . . .@\"</td>\n",
              "      <td>MK17 92H. 450Ppw 16\"</td>\n",
              "      <td>GNT:-)\"</td>\n",
              "    </tr>\n",
              "    <tr>\n",
              "      <th>freq</th>\n",
              "      <td>4825</td>\n",
              "      <td>30</td>\n",
              "      <td>3</td>\n",
              "      <td>2</td>\n",
              "      <td>2</td>\n",
              "    </tr>\n",
              "  </tbody>\n",
              "</table>\n",
              "</div>\n",
              "      <button class=\"colab-df-convert\" onclick=\"convertToInteractive('df-0f7dde7a-3514-4273-b568-87e1b334465a')\"\n",
              "              title=\"Convert this dataframe to an interactive table.\"\n",
              "              style=\"display:none;\">\n",
              "        \n",
              "  <svg xmlns=\"http://www.w3.org/2000/svg\" height=\"24px\"viewBox=\"0 0 24 24\"\n",
              "       width=\"24px\">\n",
              "    <path d=\"M0 0h24v24H0V0z\" fill=\"none\"/>\n",
              "    <path d=\"M18.56 5.44l.94 2.06.94-2.06 2.06-.94-2.06-.94-.94-2.06-.94 2.06-2.06.94zm-11 1L8.5 8.5l.94-2.06 2.06-.94-2.06-.94L8.5 2.5l-.94 2.06-2.06.94zm10 10l.94 2.06.94-2.06 2.06-.94-2.06-.94-.94-2.06-.94 2.06-2.06.94z\"/><path d=\"M17.41 7.96l-1.37-1.37c-.4-.4-.92-.59-1.43-.59-.52 0-1.04.2-1.43.59L10.3 9.45l-7.72 7.72c-.78.78-.78 2.05 0 2.83L4 21.41c.39.39.9.59 1.41.59.51 0 1.02-.2 1.41-.59l7.78-7.78 2.81-2.81c.8-.78.8-2.07 0-2.86zM5.41 20L4 18.59l7.72-7.72 1.47 1.35L5.41 20z\"/>\n",
              "  </svg>\n",
              "      </button>\n",
              "      \n",
              "  <style>\n",
              "    .colab-df-container {\n",
              "      display:flex;\n",
              "      flex-wrap:wrap;\n",
              "      gap: 12px;\n",
              "    }\n",
              "\n",
              "    .colab-df-convert {\n",
              "      background-color: #E8F0FE;\n",
              "      border: none;\n",
              "      border-radius: 50%;\n",
              "      cursor: pointer;\n",
              "      display: none;\n",
              "      fill: #1967D2;\n",
              "      height: 32px;\n",
              "      padding: 0 0 0 0;\n",
              "      width: 32px;\n",
              "    }\n",
              "\n",
              "    .colab-df-convert:hover {\n",
              "      background-color: #E2EBFA;\n",
              "      box-shadow: 0px 1px 2px rgba(60, 64, 67, 0.3), 0px 1px 3px 1px rgba(60, 64, 67, 0.15);\n",
              "      fill: #174EA6;\n",
              "    }\n",
              "\n",
              "    [theme=dark] .colab-df-convert {\n",
              "      background-color: #3B4455;\n",
              "      fill: #D2E3FC;\n",
              "    }\n",
              "\n",
              "    [theme=dark] .colab-df-convert:hover {\n",
              "      background-color: #434B5C;\n",
              "      box-shadow: 0px 1px 3px 1px rgba(0, 0, 0, 0.15);\n",
              "      filter: drop-shadow(0px 1px 2px rgba(0, 0, 0, 0.3));\n",
              "      fill: #FFFFFF;\n",
              "    }\n",
              "  </style>\n",
              "\n",
              "      <script>\n",
              "        const buttonEl =\n",
              "          document.querySelector('#df-0f7dde7a-3514-4273-b568-87e1b334465a button.colab-df-convert');\n",
              "        buttonEl.style.display =\n",
              "          google.colab.kernel.accessAllowed ? 'block' : 'none';\n",
              "\n",
              "        async function convertToInteractive(key) {\n",
              "          const element = document.querySelector('#df-0f7dde7a-3514-4273-b568-87e1b334465a');\n",
              "          const dataTable =\n",
              "            await google.colab.kernel.invokeFunction('convertToInteractive',\n",
              "                                                     [key], {});\n",
              "          if (!dataTable) return;\n",
              "\n",
              "          const docLinkHtml = 'Like what you see? Visit the ' +\n",
              "            '<a target=\"_blank\" href=https://colab.research.google.com/notebooks/data_table.ipynb>data table notebook</a>'\n",
              "            + ' to learn more about interactive tables.';\n",
              "          element.innerHTML = '';\n",
              "          dataTable['output_type'] = 'display_data';\n",
              "          await google.colab.output.renderOutput(dataTable, element);\n",
              "          const docLink = document.createElement('div');\n",
              "          docLink.innerHTML = docLinkHtml;\n",
              "          element.appendChild(docLink);\n",
              "        }\n",
              "      </script>\n",
              "    </div>\n",
              "  </div>\n",
              "  "
            ],
            "text/plain": [
              "          v1                      v2  \\\n",
              "count   5572                    5572   \n",
              "unique     2                    5169   \n",
              "top      ham  Sorry, I'll call later   \n",
              "freq    4825                      30   \n",
              "\n",
              "                                               Unnamed: 2  \\\n",
              "count                                                  50   \n",
              "unique                                                 43   \n",
              "top      bt not his girlfrnd... G o o d n i g h t . . .@\"   \n",
              "freq                                                    3   \n",
              "\n",
              "                   Unnamed: 3 Unnamed: 4  \n",
              "count                      12          6  \n",
              "unique                     10          5  \n",
              "top      MK17 92H. 450Ppw 16\"    GNT:-)\"  \n",
              "freq                        2          2  "
            ]
          },
          "metadata": {},
          "output_type": "display_data"
        },
        {
          "name": "stdout",
          "output_type": "stream",
          "text": [
            "\n",
            "Percentage of missing values: \n"
          ]
        },
        {
          "data": {
            "text/plain": [
              "v1             0.000000\n",
              "v2             0.000000\n",
              "Unnamed: 2    99.102656\n",
              "Unnamed: 3    99.784637\n",
              "Unnamed: 4    99.892319\n",
              "dtype: float64"
            ]
          },
          "metadata": {},
          "output_type": "display_data"
        }
      ],
      "source": [
        "# Displaying basic stats\n",
        "print(\"Number of rows : {}\".format(dataset.shape[0]))\n",
        "print(\"Number of columns : {}\".format(dataset.shape[1]))\n",
        "print()\n",
        "\n",
        "print(\"Display of dataset: \")\n",
        "display(dataset.head())\n",
        "print()\n",
        "\n",
        "print(\"Basics statistics: \")\n",
        "data_desc = dataset.describe(include='all')\n",
        "display(data_desc)\n",
        "print()\n",
        "\n",
        "print(\"Percentage of missing values: \")\n",
        "display(100*dataset.isnull().sum()/dataset.shape[0])"
      ]
    },
    {
      "cell_type": "code",
      "execution_count": 4,
      "metadata": {
        "colab": {
          "base_uri": "https://localhost:8080/",
          "height": 238
        },
        "id": "RHaKXaQhLphJ",
        "outputId": "fa40ee1d-72b1-45a7-db6e-82e7499aa72f"
      },
      "outputs": [
        {
          "data": {
            "text/html": [
              "\n",
              "  <div id=\"df-0c45077d-fddb-4acc-879a-ac71374591ee\">\n",
              "    <div class=\"colab-df-container\">\n",
              "      <div>\n",
              "<style scoped>\n",
              "    .dataframe tbody tr th:only-of-type {\n",
              "        vertical-align: middle;\n",
              "    }\n",
              "\n",
              "    .dataframe tbody tr th {\n",
              "        vertical-align: top;\n",
              "    }\n",
              "\n",
              "    .dataframe thead th {\n",
              "        text-align: right;\n",
              "    }\n",
              "</style>\n",
              "<table border=\"1\" class=\"dataframe\">\n",
              "  <thead>\n",
              "    <tr style=\"text-align: right;\">\n",
              "      <th></th>\n",
              "      <th>v1</th>\n",
              "      <th>v2</th>\n",
              "      <th>Unnamed: 2</th>\n",
              "      <th>Unnamed: 3</th>\n",
              "      <th>Unnamed: 4</th>\n",
              "    </tr>\n",
              "  </thead>\n",
              "  <tbody>\n",
              "    <tr>\n",
              "      <th>281</th>\n",
              "      <td>ham</td>\n",
              "      <td>\\Wen u miss someone</td>\n",
              "      <td>the person is definitely special for u..... B...</td>\n",
              "      <td>why to miss them</td>\n",
              "      <td>just Keep-in-touch\\\" gdeve..\"</td>\n",
              "    </tr>\n",
              "    <tr>\n",
              "      <th>1038</th>\n",
              "      <td>ham</td>\n",
              "      <td>Edison has rightly said, \\A fool can ask more ...</td>\n",
              "      <td>GN</td>\n",
              "      <td>GE</td>\n",
              "      <td>GNT:-)\"</td>\n",
              "    </tr>\n",
              "    <tr>\n",
              "      <th>2255</th>\n",
              "      <td>ham</td>\n",
              "      <td>I just lov this line: \\Hurt me with the truth</td>\n",
              "      <td>I don't mind</td>\n",
              "      <td>i wil tolerat.bcs ur my someone..... But</td>\n",
              "      <td>Never comfort me with a lie\\\" gud ni8 and swe...</td>\n",
              "    </tr>\n",
              "    <tr>\n",
              "      <th>3525</th>\n",
              "      <td>ham</td>\n",
              "      <td>\\HEY BABE! FAR 2 SPUN-OUT 2 SPK AT DA MO... DE...</td>\n",
              "      <td>HAD A COOL NYTHO</td>\n",
              "      <td>TX 4 FONIN HON</td>\n",
              "      <td>CALL 2MWEN IM BK FRMCLOUD 9! J X\\\"\"</td>\n",
              "    </tr>\n",
              "    <tr>\n",
              "      <th>4668</th>\n",
              "      <td>ham</td>\n",
              "      <td>When I was born, GOD said, \\Oh No! Another IDI...</td>\n",
              "      <td>GOD said</td>\n",
              "      <td>\\\"OH No! COMPETITION\\\". Who knew</td>\n",
              "      <td>one day these two will become FREINDS FOREVER!\"</td>\n",
              "    </tr>\n",
              "    <tr>\n",
              "      <th>5048</th>\n",
              "      <td>ham</td>\n",
              "      <td>Edison has rightly said, \\A fool can ask more ...</td>\n",
              "      <td>GN</td>\n",
              "      <td>GE</td>\n",
              "      <td>GNT:-)\"</td>\n",
              "    </tr>\n",
              "  </tbody>\n",
              "</table>\n",
              "</div>\n",
              "      <button class=\"colab-df-convert\" onclick=\"convertToInteractive('df-0c45077d-fddb-4acc-879a-ac71374591ee')\"\n",
              "              title=\"Convert this dataframe to an interactive table.\"\n",
              "              style=\"display:none;\">\n",
              "        \n",
              "  <svg xmlns=\"http://www.w3.org/2000/svg\" height=\"24px\"viewBox=\"0 0 24 24\"\n",
              "       width=\"24px\">\n",
              "    <path d=\"M0 0h24v24H0V0z\" fill=\"none\"/>\n",
              "    <path d=\"M18.56 5.44l.94 2.06.94-2.06 2.06-.94-2.06-.94-.94-2.06-.94 2.06-2.06.94zm-11 1L8.5 8.5l.94-2.06 2.06-.94-2.06-.94L8.5 2.5l-.94 2.06-2.06.94zm10 10l.94 2.06.94-2.06 2.06-.94-2.06-.94-.94-2.06-.94 2.06-2.06.94z\"/><path d=\"M17.41 7.96l-1.37-1.37c-.4-.4-.92-.59-1.43-.59-.52 0-1.04.2-1.43.59L10.3 9.45l-7.72 7.72c-.78.78-.78 2.05 0 2.83L4 21.41c.39.39.9.59 1.41.59.51 0 1.02-.2 1.41-.59l7.78-7.78 2.81-2.81c.8-.78.8-2.07 0-2.86zM5.41 20L4 18.59l7.72-7.72 1.47 1.35L5.41 20z\"/>\n",
              "  </svg>\n",
              "      </button>\n",
              "      \n",
              "  <style>\n",
              "    .colab-df-container {\n",
              "      display:flex;\n",
              "      flex-wrap:wrap;\n",
              "      gap: 12px;\n",
              "    }\n",
              "\n",
              "    .colab-df-convert {\n",
              "      background-color: #E8F0FE;\n",
              "      border: none;\n",
              "      border-radius: 50%;\n",
              "      cursor: pointer;\n",
              "      display: none;\n",
              "      fill: #1967D2;\n",
              "      height: 32px;\n",
              "      padding: 0 0 0 0;\n",
              "      width: 32px;\n",
              "    }\n",
              "\n",
              "    .colab-df-convert:hover {\n",
              "      background-color: #E2EBFA;\n",
              "      box-shadow: 0px 1px 2px rgba(60, 64, 67, 0.3), 0px 1px 3px 1px rgba(60, 64, 67, 0.15);\n",
              "      fill: #174EA6;\n",
              "    }\n",
              "\n",
              "    [theme=dark] .colab-df-convert {\n",
              "      background-color: #3B4455;\n",
              "      fill: #D2E3FC;\n",
              "    }\n",
              "\n",
              "    [theme=dark] .colab-df-convert:hover {\n",
              "      background-color: #434B5C;\n",
              "      box-shadow: 0px 1px 3px 1px rgba(0, 0, 0, 0.15);\n",
              "      filter: drop-shadow(0px 1px 2px rgba(0, 0, 0, 0.3));\n",
              "      fill: #FFFFFF;\n",
              "    }\n",
              "  </style>\n",
              "\n",
              "      <script>\n",
              "        const buttonEl =\n",
              "          document.querySelector('#df-0c45077d-fddb-4acc-879a-ac71374591ee button.colab-df-convert');\n",
              "        buttonEl.style.display =\n",
              "          google.colab.kernel.accessAllowed ? 'block' : 'none';\n",
              "\n",
              "        async function convertToInteractive(key) {\n",
              "          const element = document.querySelector('#df-0c45077d-fddb-4acc-879a-ac71374591ee');\n",
              "          const dataTable =\n",
              "            await google.colab.kernel.invokeFunction('convertToInteractive',\n",
              "                                                     [key], {});\n",
              "          if (!dataTable) return;\n",
              "\n",
              "          const docLinkHtml = 'Like what you see? Visit the ' +\n",
              "            '<a target=\"_blank\" href=https://colab.research.google.com/notebooks/data_table.ipynb>data table notebook</a>'\n",
              "            + ' to learn more about interactive tables.';\n",
              "          element.innerHTML = '';\n",
              "          dataTable['output_type'] = 'display_data';\n",
              "          await google.colab.output.renderOutput(dataTable, element);\n",
              "          const docLink = document.createElement('div');\n",
              "          docLink.innerHTML = docLinkHtml;\n",
              "          element.appendChild(docLink);\n",
              "        }\n",
              "      </script>\n",
              "    </div>\n",
              "  </div>\n",
              "  "
            ],
            "text/plain": [
              "       v1                                                 v2  \\\n",
              "281   ham                                \\Wen u miss someone   \n",
              "1038  ham  Edison has rightly said, \\A fool can ask more ...   \n",
              "2255  ham      I just lov this line: \\Hurt me with the truth   \n",
              "3525  ham  \\HEY BABE! FAR 2 SPUN-OUT 2 SPK AT DA MO... DE...   \n",
              "4668  ham  When I was born, GOD said, \\Oh No! Another IDI...   \n",
              "5048  ham  Edison has rightly said, \\A fool can ask more ...   \n",
              "\n",
              "                                             Unnamed: 2  \\\n",
              "281    the person is definitely special for u..... B...   \n",
              "1038                                                 GN   \n",
              "2255                                       I don't mind   \n",
              "3525                                   HAD A COOL NYTHO   \n",
              "4668                                           GOD said   \n",
              "5048                                                 GN   \n",
              "\n",
              "                                    Unnamed: 3  \\\n",
              "281                           why to miss them   \n",
              "1038                                        GE   \n",
              "2255  i wil tolerat.bcs ur my someone..... But   \n",
              "3525                            TX 4 FONIN HON   \n",
              "4668          \\\"OH No! COMPETITION\\\". Who knew   \n",
              "5048                                        GE   \n",
              "\n",
              "                                             Unnamed: 4  \n",
              "281                       just Keep-in-touch\\\" gdeve..\"  \n",
              "1038                                            GNT:-)\"  \n",
              "2255   Never comfort me with a lie\\\" gud ni8 and swe...  \n",
              "3525                CALL 2MWEN IM BK FRMCLOUD 9! J X\\\"\"  \n",
              "4668    one day these two will become FREINDS FOREVER!\"  \n",
              "5048                                            GNT:-)\"  "
            ]
          },
          "execution_count": 4,
          "metadata": {},
          "output_type": "execute_result"
        }
      ],
      "source": [
        "# As we can see many Nans on columns 2, 3 and 4, checking what are the data in column 4\n",
        "dataset[dataset['Unnamed: 4'].notna()].head(6)"
      ]
    },
    {
      "cell_type": "code",
      "execution_count": 5,
      "metadata": {
        "colab": {
          "base_uri": "https://localhost:8080/",
          "height": 206
        },
        "id": "LOQcRVPgUH0Z",
        "outputId": "26a237b3-7047-4e8e-c2f1-f3164c7f3281"
      },
      "outputs": [
        {
          "data": {
            "text/html": [
              "\n",
              "  <div id=\"df-d107dbf7-f5c3-42a4-8019-fd63486d2b5c\">\n",
              "    <div class=\"colab-df-container\">\n",
              "      <div>\n",
              "<style scoped>\n",
              "    .dataframe tbody tr th:only-of-type {\n",
              "        vertical-align: middle;\n",
              "    }\n",
              "\n",
              "    .dataframe tbody tr th {\n",
              "        vertical-align: top;\n",
              "    }\n",
              "\n",
              "    .dataframe thead th {\n",
              "        text-align: right;\n",
              "    }\n",
              "</style>\n",
              "<table border=\"1\" class=\"dataframe\">\n",
              "  <thead>\n",
              "    <tr style=\"text-align: right;\">\n",
              "      <th></th>\n",
              "      <th>v1</th>\n",
              "      <th>text</th>\n",
              "    </tr>\n",
              "  </thead>\n",
              "  <tbody>\n",
              "    <tr>\n",
              "      <th>0</th>\n",
              "      <td>ham</td>\n",
              "      <td>Go until jurong point, crazy.. Available only ...</td>\n",
              "    </tr>\n",
              "    <tr>\n",
              "      <th>1</th>\n",
              "      <td>ham</td>\n",
              "      <td>Ok lar... Joking wif u oni...</td>\n",
              "    </tr>\n",
              "    <tr>\n",
              "      <th>2</th>\n",
              "      <td>spam</td>\n",
              "      <td>Free entry in 2 a wkly comp to win FA Cup fina...</td>\n",
              "    </tr>\n",
              "    <tr>\n",
              "      <th>3</th>\n",
              "      <td>ham</td>\n",
              "      <td>U dun say so early hor... U c already then say...</td>\n",
              "    </tr>\n",
              "    <tr>\n",
              "      <th>4</th>\n",
              "      <td>ham</td>\n",
              "      <td>Nah I don't think he goes to usf, he lives aro...</td>\n",
              "    </tr>\n",
              "  </tbody>\n",
              "</table>\n",
              "</div>\n",
              "      <button class=\"colab-df-convert\" onclick=\"convertToInteractive('df-d107dbf7-f5c3-42a4-8019-fd63486d2b5c')\"\n",
              "              title=\"Convert this dataframe to an interactive table.\"\n",
              "              style=\"display:none;\">\n",
              "        \n",
              "  <svg xmlns=\"http://www.w3.org/2000/svg\" height=\"24px\"viewBox=\"0 0 24 24\"\n",
              "       width=\"24px\">\n",
              "    <path d=\"M0 0h24v24H0V0z\" fill=\"none\"/>\n",
              "    <path d=\"M18.56 5.44l.94 2.06.94-2.06 2.06-.94-2.06-.94-.94-2.06-.94 2.06-2.06.94zm-11 1L8.5 8.5l.94-2.06 2.06-.94-2.06-.94L8.5 2.5l-.94 2.06-2.06.94zm10 10l.94 2.06.94-2.06 2.06-.94-2.06-.94-.94-2.06-.94 2.06-2.06.94z\"/><path d=\"M17.41 7.96l-1.37-1.37c-.4-.4-.92-.59-1.43-.59-.52 0-1.04.2-1.43.59L10.3 9.45l-7.72 7.72c-.78.78-.78 2.05 0 2.83L4 21.41c.39.39.9.59 1.41.59.51 0 1.02-.2 1.41-.59l7.78-7.78 2.81-2.81c.8-.78.8-2.07 0-2.86zM5.41 20L4 18.59l7.72-7.72 1.47 1.35L5.41 20z\"/>\n",
              "  </svg>\n",
              "      </button>\n",
              "      \n",
              "  <style>\n",
              "    .colab-df-container {\n",
              "      display:flex;\n",
              "      flex-wrap:wrap;\n",
              "      gap: 12px;\n",
              "    }\n",
              "\n",
              "    .colab-df-convert {\n",
              "      background-color: #E8F0FE;\n",
              "      border: none;\n",
              "      border-radius: 50%;\n",
              "      cursor: pointer;\n",
              "      display: none;\n",
              "      fill: #1967D2;\n",
              "      height: 32px;\n",
              "      padding: 0 0 0 0;\n",
              "      width: 32px;\n",
              "    }\n",
              "\n",
              "    .colab-df-convert:hover {\n",
              "      background-color: #E2EBFA;\n",
              "      box-shadow: 0px 1px 2px rgba(60, 64, 67, 0.3), 0px 1px 3px 1px rgba(60, 64, 67, 0.15);\n",
              "      fill: #174EA6;\n",
              "    }\n",
              "\n",
              "    [theme=dark] .colab-df-convert {\n",
              "      background-color: #3B4455;\n",
              "      fill: #D2E3FC;\n",
              "    }\n",
              "\n",
              "    [theme=dark] .colab-df-convert:hover {\n",
              "      background-color: #434B5C;\n",
              "      box-shadow: 0px 1px 3px 1px rgba(0, 0, 0, 0.15);\n",
              "      filter: drop-shadow(0px 1px 2px rgba(0, 0, 0, 0.3));\n",
              "      fill: #FFFFFF;\n",
              "    }\n",
              "  </style>\n",
              "\n",
              "      <script>\n",
              "        const buttonEl =\n",
              "          document.querySelector('#df-d107dbf7-f5c3-42a4-8019-fd63486d2b5c button.colab-df-convert');\n",
              "        buttonEl.style.display =\n",
              "          google.colab.kernel.accessAllowed ? 'block' : 'none';\n",
              "\n",
              "        async function convertToInteractive(key) {\n",
              "          const element = document.querySelector('#df-d107dbf7-f5c3-42a4-8019-fd63486d2b5c');\n",
              "          const dataTable =\n",
              "            await google.colab.kernel.invokeFunction('convertToInteractive',\n",
              "                                                     [key], {});\n",
              "          if (!dataTable) return;\n",
              "\n",
              "          const docLinkHtml = 'Like what you see? Visit the ' +\n",
              "            '<a target=\"_blank\" href=https://colab.research.google.com/notebooks/data_table.ipynb>data table notebook</a>'\n",
              "            + ' to learn more about interactive tables.';\n",
              "          element.innerHTML = '';\n",
              "          dataTable['output_type'] = 'display_data';\n",
              "          await google.colab.output.renderOutput(dataTable, element);\n",
              "          const docLink = document.createElement('div');\n",
              "          docLink.innerHTML = docLinkHtml;\n",
              "          element.appendChild(docLink);\n",
              "        }\n",
              "      </script>\n",
              "    </div>\n",
              "  </div>\n",
              "  "
            ],
            "text/plain": [
              "     v1                                               text\n",
              "0   ham  Go until jurong point, crazy.. Available only ...\n",
              "1   ham                   Ok lar... Joking wif u oni...   \n",
              "2  spam  Free entry in 2 a wkly comp to win FA Cup fina...\n",
              "3   ham  U dun say so early hor... U c already then say...\n",
              "4   ham  Nah I don't think he goes to usf, he lives aro..."
            ]
          },
          "execution_count": 5,
          "metadata": {},
          "output_type": "execute_result"
        }
      ],
      "source": [
        "# Columns 2 , 3 and 4 are part of the message that was divided into 4 columns.\n",
        "# Creating a new column to concatenate all text columns and dropping the useless ones\n",
        "dataset['text'] = dataset['v2'].fillna('') + \" \" + dataset['Unnamed: 2'].fillna('') + \" \" + dataset['Unnamed: 3'].fillna('') + \" \" + dataset['Unnamed: 4'].fillna('')\n",
        "\n",
        "useless_cols = [ 'v2', 'Unnamed: 2', 'Unnamed: 3', 'Unnamed: 4']\n",
        "dataset = dataset.drop(useless_cols, axis=1)\n",
        "\n",
        "dataset.head()"
      ]
    },
    {
      "cell_type": "code",
      "execution_count": 6,
      "metadata": {
        "colab": {
          "base_uri": "https://localhost:8080/",
          "height": 542
        },
        "id": "dKNiUA_SrHJ4",
        "outputId": "541b24e0-5210-4b5b-db63-082978017966"
      },
      "outputs": [
        {
          "data": {
            "text/html": [
              "<html>\n",
              "<head><meta charset=\"utf-8\" /></head>\n",
              "<body>\n",
              "    <div>            <script src=\"https://cdnjs.cloudflare.com/ajax/libs/mathjax/2.7.5/MathJax.js?config=TeX-AMS-MML_SVG\"></script><script type=\"text/javascript\">if (window.MathJax) {MathJax.Hub.Config({SVG: {font: \"STIX-Web\"}});}</script>                <script type=\"text/javascript\">window.PlotlyConfig = {MathJaxConfig: 'local'};</script>\n",
              "        <script src=\"https://cdn.plot.ly/plotly-2.8.3.min.js\"></script>                <div id=\"ff36ab71-18fd-45f2-a0eb-1a6d3c897fb0\" class=\"plotly-graph-div\" style=\"height:525px; width:100%;\"></div>            <script type=\"text/javascript\">                                    window.PLOTLYENV=window.PLOTLYENV || {};                                    if (document.getElementById(\"ff36ab71-18fd-45f2-a0eb-1a6d3c897fb0\")) {                    Plotly.newPlot(                        \"ff36ab71-18fd-45f2-a0eb-1a6d3c897fb0\",                        [{\"customdata\":[[\"ham\"],[\"ham\"],[\"spam\"],[\"ham\"],[\"ham\"],[\"spam\"],[\"ham\"],[\"ham\"],[\"spam\"],[\"spam\"],[\"ham\"],[\"spam\"],[\"spam\"],[\"ham\"],[\"ham\"],[\"spam\"],[\"ham\"],[\"ham\"],[\"ham\"],[\"spam\"],[\"ham\"],[\"ham\"],[\"ham\"],[\"ham\"],[\"ham\"],[\"ham\"],[\"ham\"],[\"ham\"],[\"ham\"],[\"ham\"],[\"ham\"],[\"ham\"],[\"ham\"],[\"ham\"],[\"spam\"],[\"ham\"],[\"ham\"],[\"ham\"],[\"ham\"],[\"ham\"],[\"ham\"],[\"ham\"],[\"spam\"],[\"ham\"],[\"ham\"],[\"ham\"],[\"ham\"],[\"ham\"],[\"ham\"],[\"ham\"],[\"ham\"],[\"ham\"],[\"ham\"],[\"ham\"],[\"spam\"],[\"ham\"],[\"spam\"],[\"ham\"],[\"ham\"],[\"ham\"],[\"ham\"],[\"ham\"],[\"ham\"],[\"ham\"],[\"ham\"],[\"spam\"],[\"ham\"],[\"spam\"],[\"spam\"],[\"ham\"],[\"ham\"],[\"ham\"],[\"ham\"],[\"ham\"],[\"ham\"],[\"ham\"],[\"ham\"],[\"ham\"],[\"ham\"],[\"ham\"],[\"ham\"],[\"ham\"],[\"ham\"],[\"ham\"],[\"ham\"],[\"ham\"],[\"ham\"],[\"ham\"],[\"ham\"],[\"ham\"],[\"ham\"],[\"ham\"],[\"ham\"],[\"spam\"],[\"ham\"],[\"spam\"],[\"ham\"],[\"ham\"],[\"ham\"],[\"ham\"],[\"ham\"],[\"ham\"],[\"ham\"],[\"ham\"],[\"ham\"],[\"ham\"],[\"ham\"],[\"ham\"],[\"ham\"],[\"ham\"],[\"ham\"],[\"ham\"],[\"ham\"],[\"spam\"],[\"ham\"],[\"ham\"],[\"spam\"],[\"ham\"],[\"ham\"],[\"spam\"],[\"spam\"],[\"ham\"],[\"spam\"],[\"ham\"],[\"ham\"],[\"ham\"],[\"ham\"],[\"ham\"],[\"ham\"],[\"ham\"],[\"ham\"],[\"ham\"],[\"ham\"],[\"spam\"],[\"spam\"],[\"ham\"],[\"ham\"],[\"ham\"],[\"spam\"],[\"ham\"],[\"ham\"],[\"ham\"],[\"ham\"],[\"ham\"],[\"ham\"],[\"ham\"],[\"spam\"],[\"ham\"],[\"ham\"],[\"ham\"],[\"ham\"],[\"ham\"],[\"ham\"],[\"ham\"],[\"ham\"],[\"ham\"],[\"ham\"],[\"ham\"],[\"spam\"],[\"spam\"],[\"ham\"],[\"ham\"],[\"ham\"],[\"spam\"],[\"spam\"],[\"ham\"],[\"spam\"],[\"ham\"],[\"ham\"],[\"ham\"],[\"ham\"],[\"ham\"],[\"ham\"],[\"ham\"],[\"ham\"],[\"ham\"],[\"ham\"],[\"ham\"],[\"ham\"],[\"ham\"],[\"ham\"],[\"ham\"],[\"ham\"],[\"ham\"],[\"ham\"],[\"ham\"],[\"ham\"],[\"spam\"],[\"ham\"],[\"ham\"],[\"spam\"],[\"ham\"],[\"ham\"],[\"ham\"],[\"ham\"],[\"ham\"],[\"ham\"],[\"ham\"],[\"ham\"],[\"ham\"],[\"ham\"],[\"ham\"],[\"ham\"],[\"ham\"],[\"ham\"],[\"ham\"],[\"ham\"],[\"ham\"],[\"ham\"],[\"ham\"],[\"ham\"],[\"ham\"],[\"ham\"],[\"ham\"],[\"ham\"],[\"ham\"],[\"ham\"],[\"ham\"],[\"ham\"],[\"ham\"],[\"ham\"],[\"ham\"],[\"ham\"],[\"ham\"],[\"spam\"],[\"ham\"],[\"spam\"],[\"ham\"],[\"ham\"],[\"ham\"],[\"ham\"],[\"ham\"],[\"ham\"],[\"ham\"],[\"spam\"],[\"ham\"],[\"ham\"],[\"ham\"],[\"ham\"],[\"spam\"],[\"ham\"],[\"ham\"],[\"ham\"],[\"ham\"],[\"ham\"],[\"ham\"],[\"ham\"],[\"ham\"],[\"ham\"],[\"spam\"],[\"ham\"],[\"ham\"],[\"ham\"],[\"ham\"],[\"ham\"],[\"ham\"],[\"ham\"],[\"ham\"],[\"spam\"],[\"ham\"],[\"ham\"],[\"ham\"],[\"ham\"],[\"spam\"],[\"ham\"],[\"ham\"],[\"ham\"],[\"spam\"],[\"ham\"],[\"spam\"],[\"ham\"],[\"ham\"],[\"spam\"],[\"ham\"],[\"ham\"],[\"ham\"],[\"ham\"],[\"ham\"],[\"ham\"],[\"ham\"],[\"ham\"],[\"ham\"],[\"ham\"],[\"ham\"],[\"ham\"],[\"ham\"],[\"ham\"],[\"ham\"],[\"ham\"],[\"ham\"],[\"ham\"],[\"ham\"],[\"ham\"],[\"ham\"],[\"ham\"],[\"spam\"],[\"ham\"],[\"ham\"],[\"ham\"],[\"ham\"],[\"ham\"],[\"ham\"],[\"ham\"],[\"ham\"],[\"spam\"],[\"ham\"],[\"ham\"],[\"ham\"],[\"spam\"],[\"ham\"],[\"ham\"],[\"spam\"],[\"ham\"],[\"ham\"],[\"ham\"],[\"ham\"],[\"ham\"],[\"ham\"],[\"spam\"],[\"ham\"],[\"ham\"],[\"ham\"],[\"ham\"],[\"ham\"],[\"ham\"],[\"ham\"],[\"ham\"],[\"ham\"],[\"ham\"],[\"ham\"],[\"ham\"],[\"ham\"],[\"spam\"],[\"ham\"],[\"spam\"],[\"ham\"],[\"ham\"],[\"ham\"],[\"ham\"],[\"ham\"],[\"ham\"],[\"ham\"],[\"ham\"],[\"ham\"],[\"ham\"],[\"ham\"],[\"ham\"],[\"ham\"],[\"spam\"],[\"ham\"],[\"ham\"],[\"ham\"],[\"ham\"],[\"ham\"],[\"ham\"],[\"ham\"],[\"spam\"],[\"spam\"],[\"ham\"],[\"ham\"],[\"ham\"],[\"ham\"],[\"ham\"],[\"ham\"],[\"ham\"],[\"ham\"],[\"spam\"],[\"spam\"],[\"ham\"],[\"ham\"],[\"ham\"],[\"ham\"],[\"ham\"],[\"ham\"],[\"spam\"],[\"ham\"],[\"ham\"],[\"ham\"],[\"ham\"],[\"ham\"],[\"ham\"],[\"ham\"],[\"ham\"],[\"ham\"],[\"spam\"],[\"ham\"],[\"ham\"],[\"ham\"],[\"spam\"],[\"ham\"],[\"ham\"],[\"ham\"],[\"ham\"],[\"ham\"],[\"ham\"],[\"ham\"],[\"ham\"],[\"ham\"],[\"ham\"],[\"ham\"],[\"spam\"],[\"ham\"],[\"ham\"],[\"ham\"],[\"ham\"],[\"ham\"],[\"ham\"],[\"ham\"],[\"ham\"],[\"ham\"],[\"ham\"],[\"ham\"],[\"ham\"],[\"ham\"],[\"spam\"],[\"ham\"],[\"ham\"],[\"spam\"],[\"ham\"],[\"spam\"],[\"ham\"],[\"spam\"],[\"ham\"],[\"spam\"],[\"ham\"],[\"ham\"],[\"ham\"],[\"ham\"],[\"ham\"],[\"ham\"],[\"ham\"],[\"ham\"],[\"spam\"],[\"ham\"],[\"ham\"],[\"ham\"],[\"ham\"],[\"ham\"],[\"ham\"],[\"ham\"],[\"ham\"],[\"ham\"],[\"ham\"],[\"ham\"],[\"ham\"],[\"ham\"],[\"ham\"],[\"ham\"],[\"ham\"],[\"ham\"],[\"ham\"],[\"ham\"],[\"ham\"],[\"ham\"],[\"spam\"],[\"ham\"],[\"ham\"],[\"ham\"],[\"ham\"],[\"ham\"],[\"ham\"],[\"ham\"],[\"spam\"],[\"ham\"],[\"ham\"],[\"ham\"],[\"ham\"],[\"ham\"],[\"ham\"],[\"ham\"],[\"spam\"],[\"ham\"],[\"ham\"],[\"spam\"],[\"ham\"],[\"ham\"],[\"ham\"],[\"ham\"],[\"ham\"],[\"ham\"],[\"ham\"],[\"ham\"],[\"ham\"],[\"ham\"],[\"ham\"],[\"ham\"],[\"spam\"],[\"ham\"],[\"ham\"],[\"ham\"],[\"ham\"],[\"spam\"],[\"ham\"],[\"ham\"],[\"ham\"],[\"ham\"],[\"ham\"],[\"ham\"],[\"ham\"],[\"ham\"],[\"ham\"],[\"ham\"],[\"ham\"],[\"ham\"],[\"spam\"],[\"ham\"],[\"ham\"],[\"ham\"],[\"ham\"],[\"ham\"],[\"ham\"],[\"ham\"],[\"ham\"],[\"ham\"],[\"spam\"],[\"ham\"],[\"spam\"],[\"spam\"],[\"ham\"],[\"ham\"],[\"ham\"],[\"ham\"],[\"ham\"],[\"ham\"],[\"spam\"],[\"ham\"],[\"spam\"],[\"ham\"],[\"spam\"],[\"ham\"],[\"spam\"],[\"ham\"],[\"ham\"],[\"ham\"],[\"ham\"],[\"ham\"],[\"ham\"],[\"ham\"],[\"ham\"],[\"ham\"],[\"spam\"],[\"ham\"],[\"ham\"],[\"ham\"],[\"ham\"],[\"ham\"],[\"ham\"],[\"ham\"],[\"ham\"],[\"ham\"],[\"ham\"],[\"ham\"],[\"ham\"],[\"ham\"],[\"ham\"],[\"ham\"],[\"ham\"],[\"ham\"],[\"ham\"],[\"ham\"],[\"ham\"],[\"ham\"],[\"ham\"],[\"spam\"],[\"ham\"],[\"ham\"],[\"ham\"],[\"ham\"],[\"ham\"],[\"ham\"],[\"ham\"],[\"ham\"],[\"ham\"],[\"ham\"],[\"ham\"],[\"spam\"],[\"ham\"],[\"ham\"],[\"spam\"],[\"ham\"],[\"ham\"],[\"ham\"],[\"spam\"],[\"ham\"],[\"ham\"],[\"ham\"],[\"ham\"],[\"ham\"],[\"ham\"],[\"ham\"],[\"spam\"],[\"spam\"],[\"spam\"],[\"ham\"],[\"ham\"],[\"ham\"],[\"ham\"],[\"spam\"],[\"ham\"],[\"ham\"],[\"ham\"],[\"ham\"],[\"ham\"],[\"ham\"],[\"ham\"],[\"ham\"],[\"spam\"],[\"ham\"],[\"ham\"],[\"ham\"],[\"spam\"],[\"ham\"],[\"ham\"],[\"ham\"],[\"ham\"],[\"ham\"],[\"ham\"],[\"ham\"],[\"ham\"],[\"ham\"],[\"ham\"],[\"ham\"],[\"ham\"],[\"ham\"],[\"ham\"],[\"ham\"],[\"ham\"],[\"ham\"],[\"spam\"],[\"spam\"],[\"ham\"],[\"ham\"],[\"ham\"],[\"ham\"],[\"spam\"],[\"ham\"],[\"ham\"],[\"ham\"],[\"ham\"],[\"ham\"],[\"ham\"],[\"ham\"],[\"ham\"],[\"ham\"],[\"ham\"],[\"ham\"],[\"ham\"],[\"spam\"],[\"ham\"],[\"spam\"],[\"ham\"],[\"ham\"],[\"ham\"],[\"ham\"],[\"ham\"],[\"ham\"],[\"ham\"],[\"ham\"],[\"ham\"],[\"spam\"],[\"ham\"],[\"ham\"],[\"ham\"],[\"ham\"],[\"ham\"],[\"ham\"],[\"ham\"],[\"ham\"],[\"ham\"],[\"ham\"],[\"ham\"],[\"spam\"],[\"spam\"],[\"ham\"],[\"ham\"],[\"ham\"],[\"ham\"],[\"ham\"],[\"ham\"],[\"ham\"],[\"ham\"],[\"ham\"],[\"ham\"],[\"spam\"],[\"ham\"],[\"ham\"],[\"ham\"],[\"ham\"],[\"ham\"],[\"spam\"],[\"ham\"],[\"ham\"],[\"ham\"],[\"ham\"],[\"ham\"],[\"ham\"],[\"ham\"],[\"ham\"],[\"ham\"],[\"ham\"],[\"ham\"],[\"ham\"],[\"ham\"],[\"ham\"],[\"ham\"],[\"ham\"],[\"ham\"],[\"ham\"],[\"spam\"],[\"spam\"],[\"ham\"],[\"ham\"],[\"spam\"],[\"ham\"],[\"ham\"],[\"ham\"],[\"spam\"],[\"ham\"],[\"spam\"],[\"ham\"],[\"ham\"],[\"ham\"],[\"ham\"],[\"ham\"],[\"ham\"],[\"ham\"],[\"ham\"],[\"ham\"],[\"ham\"],[\"ham\"],[\"spam\"],[\"ham\"],[\"ham\"],[\"ham\"],[\"ham\"],[\"ham\"],[\"ham\"],[\"spam\"],[\"ham\"],[\"ham\"],[\"ham\"],[\"ham\"],[\"ham\"],[\"ham\"],[\"ham\"],[\"ham\"],[\"ham\"],[\"spam\"],[\"ham\"],[\"ham\"],[\"spam\"],[\"spam\"],[\"ham\"],[\"ham\"],[\"ham\"],[\"ham\"],[\"ham\"],[\"ham\"],[\"ham\"],[\"ham\"],[\"spam\"],[\"ham\"],[\"spam\"],[\"ham\"],[\"ham\"],[\"spam\"],[\"ham\"],[\"ham\"],[\"ham\"],[\"ham\"],[\"ham\"],[\"ham\"],[\"ham\"],[\"ham\"],[\"ham\"],[\"ham\"],[\"ham\"],[\"ham\"],[\"ham\"],[\"ham\"],[\"ham\"],[\"ham\"],[\"ham\"],[\"spam\"],[\"ham\"],[\"ham\"],[\"ham\"],[\"spam\"],[\"spam\"],[\"ham\"],[\"ham\"],[\"ham\"],[\"ham\"],[\"ham\"],[\"ham\"],[\"ham\"],[\"spam\"],[\"ham\"],[\"ham\"],[\"ham\"],[\"spam\"],[\"ham\"],[\"spam\"],[\"spam\"],[\"ham\"],[\"ham\"],[\"ham\"],[\"ham\"],[\"ham\"],[\"ham\"],[\"ham\"],[\"ham\"],[\"spam\"],[\"ham\"],[\"spam\"],[\"ham\"],[\"ham\"],[\"ham\"],[\"ham\"],[\"ham\"],[\"ham\"],[\"ham\"],[\"spam\"],[\"spam\"],[\"ham\"],[\"ham\"],[\"ham\"],[\"ham\"],[\"ham\"],[\"ham\"],[\"spam\"],[\"ham\"],[\"spam\"],[\"ham\"],[\"ham\"],[\"ham\"],[\"spam\"],[\"ham\"],[\"spam\"],[\"spam\"],[\"ham\"],[\"ham\"],[\"ham\"],[\"spam\"],[\"ham\"],[\"ham\"],[\"ham\"],[\"ham\"],[\"ham\"],[\"spam\"],[\"ham\"],[\"ham\"],[\"ham\"],[\"ham\"],[\"ham\"],[\"spam\"],[\"ham\"],[\"ham\"],[\"ham\"],[\"ham\"],[\"ham\"],[\"ham\"],[\"ham\"],[\"ham\"],[\"ham\"],[\"spam\"],[\"ham\"],[\"spam\"],[\"spam\"],[\"spam\"],[\"ham\"],[\"ham\"],[\"ham\"],[\"ham\"],[\"ham\"],[\"spam\"],[\"ham\"],[\"spam\"],[\"spam\"],[\"spam\"],[\"spam\"],[\"ham\"],[\"ham\"],[\"ham\"],[\"ham\"],[\"ham\"],[\"ham\"],[\"ham\"],[\"ham\"],[\"ham\"],[\"ham\"],[\"ham\"],[\"ham\"],[\"ham\"],[\"ham\"],[\"ham\"],[\"ham\"],[\"ham\"],[\"ham\"],[\"spam\"],[\"ham\"],[\"ham\"],[\"ham\"],[\"ham\"],[\"ham\"],[\"ham\"],[\"spam\"],[\"ham\"],[\"ham\"],[\"spam\"],[\"ham\"],[\"ham\"],[\"ham\"],[\"ham\"],[\"ham\"],[\"ham\"],[\"ham\"],[\"ham\"],[\"ham\"],[\"ham\"],[\"ham\"],[\"ham\"],[\"ham\"],[\"ham\"],[\"ham\"],[\"ham\"],[\"ham\"],[\"ham\"],[\"ham\"],[\"spam\"],[\"ham\"],[\"ham\"],[\"ham\"],[\"ham\"],[\"spam\"],[\"ham\"],[\"ham\"],[\"ham\"],[\"spam\"],[\"ham\"],[\"ham\"],[\"ham\"],[\"spam\"],[\"ham\"],[\"ham\"],[\"ham\"],[\"spam\"],[\"ham\"],[\"ham\"],[\"ham\"],[\"ham\"],[\"ham\"],[\"ham\"],[\"ham\"],[\"spam\"],[\"ham\"],[\"ham\"],[\"ham\"],[\"ham\"],[\"ham\"],[\"ham\"],[\"spam\"],[\"ham\"],[\"ham\"],[\"ham\"],[\"ham\"],[\"ham\"],[\"ham\"],[\"ham\"],[\"ham\"],[\"ham\"],[\"ham\"],[\"ham\"],[\"ham\"],[\"ham\"],[\"ham\"],[\"ham\"],[\"ham\"],[\"ham\"],[\"ham\"],[\"ham\"],[\"ham\"],[\"spam\"],[\"ham\"],[\"ham\"],[\"ham\"],[\"ham\"],[\"ham\"],[\"ham\"],[\"ham\"],[\"ham\"],[\"ham\"],[\"ham\"],[\"ham\"],[\"ham\"],[\"ham\"],[\"ham\"],[\"ham\"],[\"ham\"],[\"ham\"],[\"ham\"],[\"spam\"],[\"ham\"],[\"ham\"],[\"ham\"],[\"ham\"],[\"spam\"],[\"ham\"],[\"ham\"],[\"ham\"],[\"ham\"],[\"ham\"],[\"ham\"],[\"ham\"],[\"ham\"],[\"ham\"],[\"spam\"],[\"ham\"],[\"ham\"],[\"ham\"],[\"ham\"],[\"spam\"],[\"ham\"],[\"ham\"],[\"ham\"],[\"ham\"],[\"ham\"],[\"ham\"],[\"ham\"],[\"ham\"],[\"ham\"],[\"ham\"],[\"ham\"],[\"ham\"],[\"ham\"],[\"ham\"],[\"ham\"],[\"ham\"],[\"ham\"],[\"ham\"],[\"ham\"],[\"ham\"],[\"ham\"],[\"ham\"],[\"spam\"],[\"ham\"],[\"ham\"],[\"spam\"],[\"ham\"],[\"spam\"],[\"ham\"],[\"ham\"],[\"ham\"],[\"ham\"],[\"ham\"],[\"ham\"],[\"ham\"],[\"ham\"],[\"ham\"],[\"spam\"],[\"ham\"],[\"ham\"],[\"ham\"],[\"spam\"],[\"ham\"],[\"ham\"],[\"ham\"],[\"ham\"],[\"spam\"],[\"ham\"],[\"ham\"],[\"spam\"],[\"spam\"],[\"ham\"],[\"ham\"],[\"ham\"],[\"ham\"],[\"ham\"],[\"ham\"],[\"ham\"],[\"ham\"],[\"ham\"],[\"ham\"],[\"ham\"],[\"ham\"],[\"ham\"],[\"ham\"],[\"ham\"],[\"spam\"],[\"ham\"],[\"spam\"],[\"ham\"],[\"ham\"],[\"ham\"],[\"ham\"],[\"ham\"],[\"spam\"],[\"ham\"],[\"ham\"],[\"ham\"],[\"ham\"],[\"ham\"],[\"ham\"],[\"ham\"],[\"spam\"],[\"ham\"],[\"ham\"],[\"ham\"],[\"ham\"],[\"ham\"],[\"ham\"],[\"ham\"],[\"ham\"],[\"ham\"],[\"ham\"],[\"ham\"],[\"ham\"],[\"spam\"],[\"ham\"],[\"spam\"],[\"ham\"],[\"spam\"],[\"ham\"],[\"ham\"],[\"ham\"],[\"spam\"],[\"ham\"],[\"ham\"],[\"spam\"],[\"ham\"],[\"ham\"],[\"ham\"],[\"ham\"],[\"ham\"],[\"ham\"],[\"ham\"],[\"spam\"],[\"ham\"],[\"ham\"],[\"ham\"],[\"ham\"],[\"spam\"],[\"ham\"],[\"ham\"],[\"ham\"],[\"spam\"],[\"ham\"],[\"ham\"],[\"ham\"],[\"ham\"],[\"ham\"],[\"ham\"],[\"ham\"],[\"spam\"],[\"ham\"],[\"ham\"],[\"ham\"],[\"ham\"],[\"ham\"],[\"ham\"],[\"ham\"],[\"ham\"],[\"spam\"],[\"ham\"],[\"ham\"],[\"ham\"],[\"ham\"],[\"ham\"],[\"ham\"],[\"ham\"],[\"ham\"],[\"spam\"],[\"ham\"],[\"ham\"],[\"ham\"],[\"ham\"],[\"ham\"],[\"ham\"],[\"ham\"],[\"ham\"],[\"ham\"],[\"ham\"],[\"ham\"],[\"ham\"],[\"ham\"],[\"ham\"],[\"ham\"],[\"ham\"],[\"ham\"],[\"ham\"],[\"ham\"],[\"ham\"],[\"ham\"],[\"spam\"],[\"ham\"],[\"spam\"],[\"ham\"],[\"ham\"],[\"ham\"],[\"ham\"],[\"ham\"],[\"ham\"],[\"ham\"],[\"ham\"],[\"spam\"],[\"ham\"],[\"spam\"],[\"ham\"],[\"ham\"],[\"ham\"],[\"ham\"],[\"ham\"],[\"ham\"],[\"ham\"],[\"ham\"],[\"ham\"],[\"spam\"],[\"ham\"],[\"ham\"],[\"ham\"],[\"spam\"],[\"ham\"],[\"ham\"],[\"ham\"],[\"spam\"],[\"ham\"],[\"spam\"],[\"ham\"],[\"spam\"],[\"ham\"],[\"ham\"],[\"ham\"],[\"ham\"],[\"ham\"],[\"ham\"],[\"ham\"],[\"ham\"],[\"ham\"],[\"ham\"],[\"ham\"],[\"ham\"],[\"ham\"],[\"ham\"],[\"ham\"],[\"ham\"],[\"ham\"],[\"ham\"],[\"ham\"],[\"ham\"],[\"ham\"],[\"ham\"],[\"spam\"],[\"ham\"],[\"ham\"],[\"ham\"],[\"ham\"],[\"ham\"],[\"ham\"],[\"ham\"],[\"ham\"],[\"ham\"],[\"ham\"],[\"spam\"],[\"ham\"],[\"ham\"],[\"ham\"],[\"ham\"],[\"ham\"],[\"spam\"],[\"ham\"],[\"ham\"],[\"ham\"],[\"ham\"],[\"spam\"],[\"ham\"],[\"ham\"],[\"ham\"],[\"ham\"],[\"ham\"],[\"ham\"],[\"ham\"],[\"ham\"],[\"ham\"],[\"ham\"],[\"ham\"],[\"ham\"],[\"ham\"],[\"ham\"],[\"ham\"],[\"ham\"],[\"ham\"],[\"ham\"],[\"ham\"],[\"ham\"],[\"ham\"],[\"ham\"],[\"ham\"],[\"ham\"],[\"ham\"],[\"ham\"],[\"ham\"],[\"ham\"],[\"ham\"],[\"ham\"],[\"ham\"],[\"ham\"],[\"spam\"],[\"spam\"],[\"ham\"],[\"ham\"],[\"ham\"],[\"ham\"],[\"ham\"],[\"ham\"],[\"ham\"],[\"ham\"],[\"ham\"],[\"spam\"],[\"ham\"],[\"ham\"],[\"ham\"],[\"ham\"],[\"ham\"],[\"ham\"],[\"ham\"],[\"ham\"],[\"ham\"],[\"spam\"],[\"ham\"],[\"ham\"],[\"ham\"],[\"ham\"],[\"ham\"],[\"ham\"],[\"ham\"],[\"ham\"],[\"ham\"],[\"ham\"],[\"ham\"],[\"ham\"],[\"ham\"],[\"ham\"],[\"ham\"],[\"ham\"],[\"ham\"],[\"ham\"],[\"ham\"],[\"ham\"],[\"ham\"],[\"spam\"],[\"ham\"],[\"ham\"],[\"ham\"],[\"ham\"],[\"ham\"],[\"ham\"],[\"ham\"],[\"ham\"],[\"ham\"],[\"ham\"],[\"ham\"],[\"ham\"],[\"ham\"],[\"ham\"],[\"ham\"],[\"spam\"],[\"ham\"],[\"ham\"],[\"ham\"],[\"ham\"],[\"ham\"],[\"ham\"],[\"ham\"],[\"spam\"],[\"spam\"],[\"ham\"],[\"ham\"],[\"spam\"],[\"ham\"],[\"spam\"],[\"ham\"],[\"ham\"],[\"ham\"],[\"ham\"],[\"ham\"],[\"ham\"],[\"ham\"],[\"ham\"],[\"ham\"],[\"ham\"],[\"ham\"],[\"ham\"],[\"ham\"],[\"ham\"],[\"ham\"],[\"ham\"],[\"ham\"],[\"ham\"],[\"ham\"],[\"ham\"],[\"ham\"],[\"ham\"],[\"ham\"],[\"ham\"],[\"ham\"],[\"ham\"],[\"spam\"],[\"ham\"],[\"ham\"],[\"ham\"],[\"ham\"],[\"ham\"],[\"ham\"],[\"spam\"],[\"ham\"],[\"ham\"],[\"ham\"],[\"ham\"],[\"ham\"],[\"ham\"],[\"ham\"],[\"ham\"],[\"spam\"],[\"ham\"],[\"ham\"],[\"ham\"],[\"ham\"],[\"ham\"],[\"ham\"],[\"spam\"],[\"ham\"],[\"ham\"],[\"ham\"],[\"ham\"],[\"ham\"],[\"ham\"],[\"ham\"],[\"ham\"],[\"ham\"],[\"ham\"],[\"ham\"],[\"ham\"],[\"ham\"],[\"spam\"],[\"ham\"],[\"ham\"],[\"ham\"],[\"ham\"],[\"spam\"],[\"ham\"],[\"ham\"],[\"ham\"],[\"ham\"],[\"ham\"],[\"ham\"],[\"spam\"],[\"ham\"],[\"spam\"],[\"ham\"],[\"spam\"],[\"ham\"],[\"ham\"],[\"spam\"],[\"ham\"],[\"ham\"],[\"spam\"],[\"ham\"],[\"ham\"],[\"spam\"],[\"ham\"],[\"ham\"],[\"ham\"],[\"ham\"],[\"ham\"],[\"ham\"],[\"ham\"],[\"ham\"],[\"ham\"],[\"ham\"],[\"ham\"],[\"ham\"],[\"ham\"],[\"ham\"],[\"ham\"],[\"ham\"],[\"ham\"],[\"ham\"],[\"ham\"],[\"ham\"],[\"ham\"],[\"ham\"],[\"spam\"],[\"ham\"],[\"ham\"],[\"ham\"],[\"ham\"],[\"ham\"],[\"ham\"],[\"ham\"],[\"spam\"],[\"ham\"],[\"spam\"],[\"ham\"],[\"ham\"],[\"ham\"],[\"ham\"],[\"spam\"],[\"ham\"],[\"ham\"],[\"ham\"],[\"ham\"],[\"ham\"],[\"ham\"],[\"ham\"],[\"ham\"],[\"ham\"],[\"ham\"],[\"spam\"],[\"ham\"],[\"ham\"],[\"spam\"],[\"ham\"],[\"ham\"],[\"ham\"],[\"ham\"],[\"ham\"],[\"ham\"],[\"ham\"],[\"ham\"],[\"ham\"],[\"ham\"],[\"ham\"],[\"ham\"],[\"ham\"],[\"ham\"],[\"spam\"],[\"ham\"],[\"ham\"],[\"ham\"],[\"ham\"],[\"ham\"],[\"ham\"],[\"ham\"],[\"spam\"],[\"ham\"],[\"ham\"],[\"ham\"],[\"ham\"],[\"ham\"],[\"ham\"],[\"ham\"],[\"ham\"],[\"ham\"],[\"ham\"],[\"ham\"],[\"ham\"],[\"ham\"],[\"ham\"],[\"ham\"],[\"ham\"],[\"ham\"],[\"ham\"],[\"ham\"],[\"ham\"],[\"ham\"],[\"ham\"],[\"ham\"],[\"ham\"],[\"ham\"],[\"ham\"],[\"ham\"],[\"ham\"],[\"spam\"],[\"spam\"],[\"ham\"],[\"ham\"],[\"ham\"],[\"ham\"],[\"ham\"],[\"ham\"],[\"ham\"],[\"ham\"],[\"ham\"],[\"ham\"],[\"ham\"],[\"ham\"],[\"ham\"],[\"ham\"],[\"ham\"],[\"ham\"],[\"ham\"],[\"ham\"],[\"ham\"],[\"spam\"],[\"ham\"],[\"ham\"],[\"spam\"],[\"spam\"],[\"ham\"],[\"ham\"],[\"ham\"],[\"ham\"],[\"ham\"],[\"ham\"],[\"ham\"],[\"ham\"],[\"ham\"],[\"ham\"],[\"ham\"],[\"ham\"],[\"ham\"],[\"ham\"],[\"spam\"],[\"ham\"],[\"ham\"],[\"ham\"],[\"ham\"],[\"ham\"],[\"ham\"],[\"ham\"],[\"ham\"],[\"ham\"],[\"spam\"],[\"ham\"],[\"spam\"],[\"ham\"],[\"ham\"],[\"spam\"],[\"ham\"],[\"ham\"],[\"ham\"],[\"ham\"],[\"ham\"],[\"ham\"],[\"spam\"],[\"ham\"],[\"ham\"],[\"spam\"],[\"ham\"],[\"spam\"],[\"ham\"],[\"ham\"],[\"ham\"],[\"ham\"],[\"ham\"],[\"ham\"],[\"ham\"],[\"ham\"],[\"ham\"],[\"ham\"],[\"ham\"],[\"ham\"],[\"spam\"],[\"ham\"],[\"ham\"],[\"ham\"],[\"ham\"],[\"ham\"],[\"spam\"],[\"ham\"],[\"ham\"],[\"ham\"],[\"spam\"],[\"ham\"],[\"ham\"],[\"ham\"],[\"ham\"],[\"ham\"],[\"ham\"],[\"ham\"],[\"ham\"],[\"ham\"],[\"spam\"],[\"spam\"],[\"ham\"],[\"ham\"],[\"ham\"],[\"ham\"],[\"ham\"],[\"ham\"],[\"ham\"],[\"ham\"],[\"ham\"],[\"ham\"],[\"ham\"],[\"ham\"],[\"spam\"],[\"spam\"],[\"ham\"],[\"ham\"],[\"spam\"],[\"ham\"],[\"ham\"],[\"ham\"],[\"ham\"],[\"ham\"],[\"ham\"],[\"ham\"],[\"spam\"],[\"ham\"],[\"ham\"],[\"ham\"],[\"ham\"],[\"ham\"],[\"ham\"],[\"ham\"],[\"ham\"],[\"ham\"],[\"ham\"],[\"ham\"],[\"ham\"],[\"ham\"],[\"ham\"],[\"spam\"],[\"ham\"],[\"ham\"],[\"ham\"],[\"spam\"],[\"ham\"],[\"ham\"],[\"ham\"],[\"ham\"],[\"ham\"],[\"ham\"],[\"ham\"],[\"ham\"],[\"ham\"],[\"ham\"],[\"ham\"],[\"ham\"],[\"ham\"],[\"ham\"],[\"ham\"],[\"spam\"],[\"ham\"],[\"ham\"],[\"ham\"],[\"ham\"],[\"ham\"],[\"ham\"],[\"spam\"],[\"ham\"],[\"ham\"],[\"ham\"],[\"spam\"],[\"ham\"],[\"ham\"],[\"ham\"],[\"ham\"],[\"ham\"],[\"ham\"],[\"ham\"],[\"ham\"],[\"ham\"],[\"ham\"],[\"ham\"],[\"ham\"],[\"ham\"],[\"ham\"],[\"ham\"],[\"ham\"],[\"ham\"],[\"ham\"],[\"ham\"],[\"spam\"],[\"ham\"],[\"spam\"],[\"ham\"],[\"ham\"],[\"ham\"],[\"ham\"],[\"ham\"],[\"ham\"],[\"ham\"],[\"ham\"],[\"ham\"],[\"spam\"],[\"spam\"],[\"ham\"],[\"spam\"],[\"spam\"],[\"ham\"],[\"ham\"],[\"ham\"],[\"ham\"],[\"ham\"],[\"ham\"],[\"ham\"],[\"ham\"],[\"ham\"],[\"ham\"],[\"ham\"],[\"spam\"],[\"ham\"],[\"ham\"],[\"ham\"],[\"ham\"],[\"ham\"],[\"ham\"],[\"ham\"],[\"ham\"],[\"ham\"],[\"ham\"],[\"ham\"],[\"ham\"],[\"ham\"],[\"spam\"],[\"ham\"],[\"ham\"],[\"ham\"],[\"ham\"],[\"ham\"],[\"ham\"],[\"ham\"],[\"ham\"],[\"ham\"],[\"ham\"],[\"ham\"],[\"ham\"],[\"ham\"],[\"ham\"],[\"ham\"],[\"ham\"],[\"ham\"],[\"ham\"],[\"ham\"],[\"ham\"],[\"ham\"],[\"ham\"],[\"spam\"],[\"ham\"],[\"ham\"],[\"ham\"],[\"ham\"],[\"ham\"],[\"ham\"],[\"ham\"],[\"ham\"],[\"spam\"],[\"ham\"],[\"ham\"],[\"ham\"],[\"ham\"],[\"ham\"],[\"ham\"],[\"ham\"],[\"ham\"],[\"spam\"],[\"ham\"],[\"ham\"],[\"ham\"],[\"ham\"],[\"spam\"],[\"ham\"],[\"ham\"],[\"ham\"],[\"ham\"],[\"ham\"],[\"ham\"],[\"ham\"],[\"ham\"],[\"ham\"],[\"ham\"],[\"ham\"],[\"ham\"],[\"ham\"],[\"ham\"],[\"ham\"],[\"ham\"],[\"ham\"],[\"ham\"],[\"ham\"],[\"ham\"],[\"spam\"],[\"spam\"],[\"spam\"],[\"ham\"],[\"ham\"],[\"ham\"],[\"spam\"],[\"ham\"],[\"ham\"],[\"ham\"],[\"ham\"],[\"ham\"],[\"ham\"],[\"spam\"],[\"spam\"],[\"ham\"],[\"ham\"],[\"ham\"],[\"ham\"],[\"spam\"],[\"ham\"],[\"spam\"],[\"ham\"],[\"ham\"],[\"ham\"],[\"ham\"],[\"ham\"],[\"ham\"],[\"ham\"],[\"ham\"],[\"spam\"],[\"ham\"],[\"ham\"],[\"ham\"],[\"ham\"],[\"ham\"],[\"ham\"],[\"ham\"],[\"ham\"],[\"ham\"],[\"ham\"],[\"spam\"],[\"ham\"],[\"ham\"],[\"ham\"],[\"ham\"],[\"ham\"],[\"ham\"],[\"ham\"],[\"ham\"],[\"ham\"],[\"ham\"],[\"ham\"],[\"ham\"],[\"ham\"],[\"spam\"],[\"spam\"],[\"ham\"],[\"ham\"],[\"ham\"],[\"ham\"],[\"ham\"],[\"ham\"],[\"ham\"],[\"ham\"],[\"ham\"],[\"spam\"],[\"ham\"],[\"spam\"],[\"ham\"],[\"ham\"],[\"ham\"],[\"ham\"],[\"ham\"],[\"ham\"],[\"ham\"],[\"ham\"],[\"ham\"],[\"ham\"],[\"ham\"],[\"ham\"],[\"ham\"],[\"ham\"],[\"ham\"],[\"ham\"],[\"ham\"],[\"ham\"],[\"spam\"],[\"ham\"],[\"spam\"],[\"ham\"],[\"ham\"],[\"ham\"],[\"ham\"],[\"ham\"],[\"ham\"],[\"spam\"],[\"ham\"],[\"ham\"],[\"ham\"],[\"ham\"],[\"ham\"],[\"ham\"],[\"ham\"],[\"spam\"],[\"ham\"],[\"ham\"],[\"ham\"],[\"ham\"],[\"ham\"],[\"ham\"],[\"spam\"],[\"ham\"],[\"ham\"],[\"ham\"],[\"ham\"],[\"ham\"],[\"ham\"],[\"ham\"],[\"spam\"],[\"ham\"],[\"ham\"],[\"ham\"],[\"ham\"],[\"ham\"],[\"ham\"],[\"ham\"],[\"ham\"],[\"ham\"],[\"spam\"],[\"ham\"],[\"ham\"],[\"ham\"],[\"ham\"],[\"ham\"],[\"ham\"],[\"ham\"],[\"ham\"],[\"ham\"],[\"ham\"],[\"spam\"],[\"ham\"],[\"ham\"],[\"ham\"],[\"ham\"],[\"ham\"],[\"ham\"],[\"ham\"],[\"ham\"],[\"spam\"],[\"ham\"],[\"ham\"],[\"ham\"],[\"ham\"],[\"ham\"],[\"ham\"],[\"ham\"],[\"ham\"],[\"ham\"],[\"ham\"],[\"ham\"],[\"ham\"],[\"ham\"],[\"ham\"],[\"ham\"],[\"ham\"],[\"ham\"],[\"ham\"],[\"ham\"],[\"ham\"],[\"spam\"],[\"ham\"],[\"ham\"],[\"ham\"],[\"ham\"],[\"ham\"],[\"ham\"],[\"ham\"],[\"ham\"],[\"spam\"],[\"ham\"],[\"ham\"],[\"ham\"],[\"ham\"],[\"ham\"],[\"ham\"],[\"ham\"],[\"ham\"],[\"ham\"],[\"ham\"],[\"spam\"],[\"ham\"],[\"ham\"],[\"ham\"],[\"ham\"],[\"ham\"],[\"spam\"],[\"spam\"],[\"ham\"],[\"ham\"],[\"spam\"],[\"ham\"],[\"ham\"],[\"ham\"],[\"ham\"],[\"spam\"],[\"ham\"],[\"ham\"],[\"ham\"],[\"ham\"],[\"ham\"],[\"ham\"],[\"ham\"],[\"ham\"],[\"ham\"],[\"spam\"],[\"ham\"],[\"ham\"],[\"ham\"],[\"ham\"],[\"spam\"],[\"spam\"],[\"ham\"],[\"ham\"],[\"ham\"],[\"ham\"],[\"spam\"],[\"ham\"],[\"ham\"],[\"ham\"],[\"ham\"],[\"ham\"],[\"ham\"],[\"ham\"],[\"ham\"],[\"spam\"],[\"ham\"],[\"ham\"],[\"ham\"],[\"spam\"],[\"ham\"],[\"spam\"],[\"ham\"],[\"ham\"],[\"ham\"],[\"spam\"],[\"ham\"],[\"ham\"],[\"ham\"],[\"ham\"],[\"spam\"],[\"ham\"],[\"ham\"],[\"ham\"],[\"ham\"],[\"ham\"],[\"ham\"],[\"ham\"],[\"ham\"],[\"spam\"],[\"ham\"],[\"ham\"],[\"ham\"],[\"ham\"],[\"ham\"],[\"ham\"],[\"ham\"],[\"ham\"],[\"ham\"],[\"ham\"],[\"ham\"],[\"spam\"],[\"spam\"],[\"ham\"],[\"ham\"],[\"ham\"],[\"ham\"],[\"ham\"],[\"ham\"],[\"ham\"],[\"ham\"],[\"ham\"],[\"ham\"],[\"ham\"],[\"ham\"],[\"ham\"],[\"spam\"],[\"ham\"],[\"ham\"],[\"ham\"],[\"ham\"],[\"ham\"],[\"ham\"],[\"ham\"],[\"ham\"],[\"ham\"],[\"spam\"],[\"ham\"],[\"ham\"],[\"ham\"],[\"ham\"],[\"ham\"],[\"ham\"],[\"ham\"],[\"ham\"],[\"ham\"],[\"ham\"],[\"ham\"],[\"ham\"],[\"ham\"],[\"ham\"],[\"ham\"],[\"ham\"],[\"ham\"],[\"ham\"],[\"spam\"],[\"ham\"],[\"ham\"],[\"ham\"],[\"ham\"],[\"ham\"],[\"ham\"],[\"ham\"],[\"ham\"],[\"ham\"],[\"ham\"],[\"ham\"],[\"ham\"],[\"ham\"],[\"ham\"],[\"ham\"],[\"ham\"],[\"ham\"],[\"spam\"],[\"ham\"],[\"spam\"],[\"ham\"],[\"ham\"],[\"ham\"],[\"ham\"],[\"ham\"],[\"ham\"],[\"ham\"],[\"ham\"],[\"ham\"],[\"ham\"],[\"spam\"],[\"ham\"],[\"ham\"],[\"ham\"],[\"spam\"],[\"ham\"],[\"ham\"],[\"ham\"],[\"ham\"],[\"ham\"],[\"ham\"],[\"ham\"],[\"ham\"],[\"ham\"],[\"ham\"],[\"ham\"],[\"ham\"],[\"ham\"],[\"ham\"],[\"ham\"],[\"ham\"],[\"ham\"],[\"ham\"],[\"ham\"],[\"ham\"],[\"ham\"],[\"ham\"],[\"spam\"],[\"spam\"],[\"ham\"],[\"spam\"],[\"ham\"],[\"ham\"],[\"ham\"],[\"ham\"],[\"ham\"],[\"ham\"],[\"ham\"],[\"ham\"],[\"ham\"],[\"ham\"],[\"spam\"],[\"ham\"],[\"ham\"],[\"spam\"],[\"ham\"],[\"ham\"],[\"spam\"],[\"ham\"],[\"spam\"],[\"ham\"],[\"ham\"],[\"ham\"],[\"ham\"],[\"ham\"],[\"ham\"],[\"ham\"],[\"ham\"],[\"ham\"],[\"ham\"],[\"ham\"],[\"ham\"],[\"ham\"],[\"ham\"],[\"ham\"],[\"ham\"],[\"ham\"],[\"ham\"],[\"ham\"],[\"ham\"],[\"spam\"],[\"ham\"],[\"ham\"],[\"ham\"],[\"ham\"],[\"spam\"],[\"ham\"],[\"spam\"],[\"ham\"],[\"ham\"],[\"spam\"],[\"ham\"],[\"ham\"],[\"ham\"],[\"ham\"],[\"ham\"],[\"ham\"],[\"ham\"],[\"spam\"],[\"spam\"],[\"ham\"],[\"spam\"],[\"spam\"],[\"spam\"],[\"ham\"],[\"ham\"],[\"ham\"],[\"ham\"],[\"ham\"],[\"ham\"],[\"ham\"],[\"ham\"],[\"ham\"],[\"ham\"],[\"ham\"],[\"ham\"],[\"ham\"],[\"ham\"],[\"spam\"],[\"ham\"],[\"ham\"],[\"ham\"],[\"ham\"],[\"ham\"],[\"ham\"],[\"ham\"],[\"ham\"],[\"ham\"],[\"ham\"],[\"ham\"],[\"ham\"],[\"ham\"],[\"ham\"],[\"spam\"],[\"ham\"],[\"ham\"],[\"ham\"],[\"ham\"],[\"ham\"],[\"ham\"],[\"ham\"],[\"ham\"],[\"spam\"],[\"ham\"],[\"spam\"],[\"ham\"],[\"ham\"],[\"ham\"],[\"ham\"],[\"ham\"],[\"spam\"],[\"ham\"],[\"ham\"],[\"ham\"],[\"spam\"],[\"ham\"],[\"ham\"],[\"spam\"],[\"ham\"],[\"ham\"],[\"ham\"],[\"ham\"],[\"ham\"],[\"ham\"],[\"spam\"],[\"ham\"],[\"ham\"],[\"ham\"],[\"spam\"],[\"ham\"],[\"ham\"],[\"ham\"],[\"ham\"],[\"ham\"],[\"ham\"],[\"ham\"],[\"spam\"],[\"ham\"],[\"ham\"],[\"ham\"],[\"ham\"],[\"ham\"],[\"ham\"],[\"ham\"],[\"ham\"],[\"ham\"],[\"ham\"],[\"ham\"],[\"ham\"],[\"ham\"],[\"ham\"],[\"ham\"],[\"spam\"],[\"ham\"],[\"ham\"],[\"ham\"],[\"ham\"],[\"ham\"],[\"ham\"],[\"ham\"],[\"ham\"],[\"ham\"],[\"ham\"],[\"spam\"],[\"ham\"],[\"ham\"],[\"ham\"],[\"ham\"],[\"ham\"],[\"ham\"],[\"spam\"],[\"ham\"],[\"ham\"],[\"ham\"],[\"ham\"],[\"ham\"],[\"ham\"],[\"spam\"],[\"ham\"],[\"ham\"],[\"spam\"],[\"ham\"],[\"ham\"],[\"ham\"],[\"ham\"],[\"ham\"],[\"ham\"],[\"ham\"],[\"spam\"],[\"ham\"],[\"ham\"],[\"ham\"],[\"ham\"],[\"ham\"],[\"ham\"],[\"ham\"],[\"ham\"],[\"ham\"],[\"ham\"],[\"ham\"],[\"ham\"],[\"ham\"],[\"ham\"],[\"ham\"],[\"ham\"],[\"ham\"],[\"ham\"],[\"ham\"],[\"ham\"],[\"ham\"],[\"ham\"],[\"ham\"],[\"ham\"],[\"ham\"],[\"ham\"],[\"ham\"],[\"ham\"],[\"ham\"],[\"ham\"],[\"ham\"],[\"ham\"],[\"ham\"],[\"ham\"],[\"spam\"],[\"ham\"],[\"ham\"],[\"ham\"],[\"ham\"],[\"ham\"],[\"ham\"],[\"spam\"],[\"spam\"],[\"ham\"],[\"ham\"],[\"ham\"],[\"ham\"],[\"ham\"],[\"ham\"],[\"ham\"],[\"ham\"],[\"ham\"],[\"ham\"],[\"ham\"],[\"ham\"],[\"ham\"],[\"ham\"],[\"spam\"],[\"ham\"],[\"ham\"],[\"ham\"],[\"ham\"],[\"ham\"],[\"ham\"],[\"ham\"],[\"ham\"],[\"ham\"],[\"ham\"],[\"ham\"],[\"ham\"],[\"ham\"],[\"ham\"],[\"ham\"],[\"ham\"],[\"ham\"],[\"spam\"],[\"ham\"],[\"ham\"],[\"ham\"],[\"ham\"],[\"ham\"],[\"ham\"],[\"ham\"],[\"ham\"],[\"ham\"],[\"ham\"],[\"spam\"],[\"ham\"],[\"ham\"],[\"ham\"],[\"ham\"],[\"ham\"],[\"ham\"],[\"ham\"],[\"ham\"],[\"ham\"],[\"ham\"],[\"ham\"],[\"ham\"],[\"ham\"],[\"ham\"],[\"ham\"],[\"ham\"],[\"ham\"],[\"ham\"],[\"ham\"],[\"ham\"],[\"ham\"],[\"ham\"],[\"spam\"],[\"ham\"],[\"ham\"],[\"ham\"],[\"ham\"],[\"ham\"],[\"ham\"],[\"ham\"],[\"spam\"],[\"ham\"],[\"spam\"],[\"ham\"],[\"ham\"],[\"ham\"],[\"ham\"],[\"ham\"],[\"ham\"],[\"ham\"],[\"ham\"],[\"ham\"],[\"ham\"],[\"ham\"],[\"ham\"],[\"ham\"],[\"ham\"],[\"ham\"],[\"spam\"],[\"spam\"],[\"ham\"],[\"ham\"],[\"ham\"],[\"ham\"],[\"ham\"],[\"spam\"],[\"ham\"],[\"spam\"],[\"ham\"],[\"ham\"],[\"ham\"],[\"ham\"],[\"ham\"],[\"ham\"],[\"spam\"],[\"ham\"],[\"ham\"],[\"ham\"],[\"ham\"],[\"ham\"],[\"spam\"],[\"ham\"],[\"ham\"],[\"ham\"],[\"ham\"],[\"ham\"],[\"ham\"],[\"ham\"],[\"ham\"],[\"ham\"],[\"ham\"],[\"ham\"],[\"ham\"],[\"ham\"],[\"ham\"],[\"ham\"],[\"spam\"],[\"ham\"],[\"ham\"],[\"ham\"],[\"ham\"],[\"ham\"],[\"ham\"],[\"ham\"],[\"spam\"],[\"ham\"],[\"ham\"],[\"ham\"],[\"ham\"],[\"ham\"],[\"spam\"],[\"ham\"],[\"ham\"],[\"ham\"],[\"ham\"],[\"ham\"],[\"spam\"],[\"ham\"],[\"ham\"],[\"ham\"],[\"ham\"],[\"ham\"],[\"ham\"],[\"ham\"],[\"ham\"],[\"ham\"],[\"spam\"],[\"ham\"],[\"ham\"],[\"ham\"],[\"ham\"],[\"ham\"],[\"ham\"],[\"ham\"],[\"ham\"],[\"ham\"],[\"ham\"],[\"ham\"],[\"ham\"],[\"ham\"],[\"ham\"],[\"ham\"],[\"ham\"],[\"ham\"],[\"ham\"],[\"ham\"],[\"ham\"],[\"spam\"],[\"spam\"],[\"ham\"],[\"ham\"],[\"ham\"],[\"ham\"],[\"spam\"],[\"spam\"],[\"ham\"],[\"ham\"],[\"ham\"],[\"ham\"],[\"ham\"],[\"ham\"],[\"ham\"],[\"ham\"],[\"ham\"],[\"spam\"],[\"ham\"],[\"ham\"],[\"ham\"],[\"ham\"],[\"ham\"],[\"spam\"],[\"ham\"],[\"ham\"],[\"ham\"],[\"ham\"],[\"spam\"],[\"ham\"],[\"spam\"],[\"ham\"],[\"ham\"],[\"ham\"],[\"ham\"],[\"ham\"],[\"spam\"],[\"ham\"],[\"ham\"],[\"ham\"],[\"ham\"],[\"ham\"],[\"spam\"],[\"ham\"],[\"ham\"],[\"spam\"],[\"ham\"],[\"ham\"],[\"spam\"],[\"ham\"],[\"ham\"],[\"ham\"],[\"ham\"],[\"ham\"],[\"ham\"],[\"ham\"],[\"spam\"],[\"ham\"],[\"ham\"],[\"ham\"],[\"ham\"],[\"ham\"],[\"ham\"],[\"ham\"],[\"ham\"],[\"ham\"],[\"spam\"],[\"spam\"],[\"ham\"],[\"ham\"],[\"ham\"],[\"ham\"],[\"ham\"],[\"ham\"],[\"ham\"],[\"ham\"],[\"ham\"],[\"ham\"],[\"ham\"],[\"spam\"],[\"ham\"],[\"ham\"],[\"ham\"],[\"ham\"],[\"ham\"],[\"ham\"],[\"ham\"],[\"ham\"],[\"ham\"],[\"ham\"],[\"ham\"],[\"ham\"],[\"ham\"],[\"ham\"],[\"ham\"],[\"ham\"],[\"ham\"],[\"ham\"],[\"ham\"],[\"ham\"],[\"ham\"],[\"ham\"],[\"ham\"],[\"ham\"],[\"spam\"],[\"ham\"],[\"ham\"],[\"spam\"],[\"ham\"],[\"ham\"],[\"ham\"],[\"spam\"],[\"ham\"],[\"ham\"],[\"ham\"],[\"ham\"],[\"spam\"],[\"ham\"],[\"ham\"],[\"ham\"],[\"ham\"],[\"ham\"],[\"ham\"],[\"ham\"],[\"ham\"],[\"ham\"],[\"ham\"],[\"ham\"],[\"spam\"],[\"ham\"],[\"ham\"],[\"ham\"],[\"ham\"],[\"ham\"],[\"ham\"],[\"ham\"],[\"ham\"],[\"ham\"],[\"ham\"],[\"ham\"],[\"spam\"],[\"ham\"],[\"ham\"],[\"ham\"],[\"spam\"],[\"ham\"],[\"ham\"],[\"ham\"],[\"ham\"],[\"ham\"],[\"ham\"],[\"ham\"],[\"ham\"],[\"ham\"],[\"spam\"],[\"ham\"],[\"ham\"],[\"spam\"],[\"ham\"],[\"spam\"],[\"ham\"],[\"ham\"],[\"spam\"],[\"ham\"],[\"ham\"],[\"ham\"],[\"spam\"],[\"ham\"],[\"ham\"],[\"ham\"],[\"spam\"],[\"ham\"],[\"ham\"],[\"ham\"],[\"ham\"],[\"ham\"],[\"ham\"],[\"ham\"],[\"ham\"],[\"ham\"],[\"ham\"],[\"ham\"],[\"ham\"],[\"ham\"],[\"spam\"],[\"ham\"],[\"spam\"],[\"ham\"],[\"ham\"],[\"ham\"],[\"ham\"],[\"ham\"],[\"ham\"],[\"ham\"],[\"ham\"],[\"ham\"],[\"ham\"],[\"ham\"],[\"ham\"],[\"spam\"],[\"ham\"],[\"ham\"],[\"ham\"],[\"ham\"],[\"ham\"],[\"ham\"],[\"ham\"],[\"spam\"],[\"ham\"],[\"ham\"],[\"ham\"],[\"ham\"],[\"ham\"],[\"ham\"],[\"ham\"],[\"spam\"],[\"ham\"],[\"spam\"],[\"ham\"],[\"ham\"],[\"ham\"],[\"ham\"],[\"ham\"],[\"ham\"],[\"ham\"],[\"ham\"],[\"ham\"],[\"ham\"],[\"ham\"],[\"ham\"],[\"ham\"],[\"ham\"],[\"ham\"],[\"spam\"],[\"ham\"],[\"ham\"],[\"ham\"],[\"ham\"],[\"spam\"],[\"ham\"],[\"ham\"],[\"ham\"],[\"ham\"],[\"ham\"],[\"ham\"],[\"ham\"],[\"spam\"],[\"ham\"],[\"ham\"],[\"ham\"],[\"ham\"],[\"spam\"],[\"ham\"],[\"ham\"],[\"ham\"],[\"ham\"],[\"ham\"],[\"ham\"],[\"ham\"],[\"ham\"],[\"ham\"],[\"ham\"],[\"ham\"],[\"ham\"],[\"ham\"],[\"ham\"],[\"ham\"],[\"ham\"],[\"ham\"],[\"ham\"],[\"ham\"],[\"ham\"],[\"ham\"],[\"ham\"],[\"ham\"],[\"ham\"],[\"ham\"],[\"spam\"],[\"ham\"],[\"ham\"],[\"ham\"],[\"spam\"],[\"ham\"],[\"ham\"],[\"ham\"],[\"ham\"],[\"ham\"],[\"ham\"],[\"ham\"],[\"ham\"],[\"spam\"],[\"ham\"],[\"ham\"],[\"ham\"],[\"ham\"],[\"spam\"],[\"ham\"],[\"ham\"],[\"ham\"],[\"ham\"],[\"ham\"],[\"spam\"],[\"ham\"],[\"ham\"],[\"ham\"],[\"ham\"],[\"ham\"],[\"ham\"],[\"ham\"],[\"ham\"],[\"ham\"],[\"ham\"],[\"ham\"],[\"ham\"],[\"ham\"],[\"ham\"],[\"spam\"],[\"ham\"],[\"ham\"],[\"ham\"],[\"ham\"],[\"ham\"],[\"ham\"],[\"spam\"],[\"ham\"],[\"ham\"],[\"spam\"],[\"ham\"],[\"spam\"],[\"ham\"],[\"ham\"],[\"ham\"],[\"ham\"],[\"ham\"],[\"ham\"],[\"ham\"],[\"ham\"],[\"ham\"],[\"spam\"],[\"ham\"],[\"ham\"],[\"spam\"],[\"ham\"],[\"ham\"],[\"ham\"],[\"spam\"],[\"spam\"],[\"ham\"],[\"ham\"],[\"ham\"],[\"spam\"],[\"ham\"],[\"ham\"],[\"ham\"],[\"ham\"],[\"ham\"],[\"ham\"],[\"ham\"],[\"ham\"],[\"ham\"],[\"ham\"],[\"ham\"],[\"ham\"],[\"ham\"],[\"ham\"],[\"ham\"],[\"ham\"],[\"ham\"],[\"ham\"],[\"ham\"],[\"ham\"],[\"ham\"],[\"ham\"],[\"ham\"],[\"ham\"],[\"ham\"],[\"ham\"],[\"ham\"],[\"ham\"],[\"ham\"],[\"ham\"],[\"ham\"],[\"ham\"],[\"ham\"],[\"ham\"],[\"ham\"],[\"ham\"],[\"ham\"],[\"ham\"],[\"ham\"],[\"ham\"],[\"ham\"],[\"spam\"],[\"ham\"],[\"ham\"],[\"spam\"],[\"ham\"],[\"ham\"],[\"ham\"],[\"ham\"],[\"spam\"],[\"ham\"],[\"ham\"],[\"spam\"],[\"ham\"],[\"ham\"],[\"ham\"],[\"ham\"],[\"ham\"],[\"ham\"],[\"ham\"],[\"ham\"],[\"ham\"],[\"ham\"],[\"ham\"],[\"ham\"],[\"ham\"],[\"ham\"],[\"ham\"],[\"ham\"],[\"ham\"],[\"ham\"],[\"ham\"],[\"ham\"],[\"ham\"],[\"ham\"],[\"ham\"],[\"ham\"],[\"spam\"],[\"ham\"],[\"ham\"],[\"ham\"],[\"ham\"],[\"ham\"],[\"ham\"],[\"ham\"],[\"ham\"],[\"ham\"],[\"ham\"],[\"ham\"],[\"ham\"],[\"ham\"],[\"ham\"],[\"ham\"],[\"ham\"],[\"ham\"],[\"ham\"],[\"spam\"],[\"ham\"],[\"ham\"],[\"ham\"],[\"ham\"],[\"ham\"],[\"ham\"],[\"ham\"],[\"ham\"],[\"ham\"],[\"ham\"],[\"ham\"],[\"spam\"],[\"ham\"],[\"ham\"],[\"spam\"],[\"ham\"],[\"ham\"],[\"ham\"],[\"ham\"],[\"ham\"],[\"spam\"],[\"ham\"],[\"ham\"],[\"ham\"],[\"ham\"],[\"ham\"],[\"ham\"],[\"ham\"],[\"ham\"],[\"spam\"],[\"ham\"],[\"ham\"],[\"ham\"],[\"ham\"],[\"ham\"],[\"ham\"],[\"ham\"],[\"ham\"],[\"ham\"],[\"ham\"],[\"ham\"],[\"spam\"],[\"ham\"],[\"spam\"],[\"ham\"],[\"ham\"],[\"ham\"],[\"ham\"],[\"ham\"],[\"ham\"],[\"ham\"],[\"ham\"],[\"spam\"],[\"ham\"],[\"ham\"],[\"spam\"],[\"ham\"],[\"ham\"],[\"ham\"],[\"ham\"],[\"ham\"],[\"ham\"],[\"spam\"],[\"ham\"],[\"spam\"],[\"ham\"],[\"ham\"],[\"ham\"],[\"ham\"],[\"ham\"],[\"ham\"],[\"ham\"],[\"ham\"],[\"ham\"],[\"ham\"],[\"ham\"],[\"ham\"],[\"spam\"],[\"ham\"],[\"ham\"],[\"spam\"],[\"ham\"],[\"ham\"],[\"ham\"],[\"ham\"],[\"ham\"],[\"ham\"],[\"ham\"],[\"ham\"],[\"ham\"],[\"ham\"],[\"ham\"],[\"ham\"],[\"ham\"],[\"ham\"],[\"ham\"],[\"ham\"],[\"ham\"],[\"ham\"],[\"ham\"],[\"ham\"],[\"ham\"],[\"ham\"],[\"ham\"],[\"ham\"],[\"spam\"],[\"ham\"],[\"ham\"],[\"ham\"],[\"ham\"],[\"spam\"],[\"ham\"],[\"ham\"],[\"ham\"],[\"ham\"],[\"ham\"],[\"ham\"],[\"spam\"],[\"spam\"],[\"ham\"],[\"ham\"],[\"ham\"],[\"ham\"],[\"ham\"],[\"ham\"],[\"ham\"],[\"ham\"],[\"ham\"],[\"ham\"],[\"ham\"],[\"ham\"],[\"ham\"],[\"ham\"],[\"ham\"],[\"ham\"],[\"ham\"],[\"ham\"],[\"ham\"],[\"ham\"],[\"ham\"],[\"ham\"],[\"ham\"],[\"ham\"],[\"ham\"],[\"ham\"],[\"ham\"],[\"ham\"],[\"ham\"],[\"spam\"],[\"ham\"],[\"ham\"],[\"ham\"],[\"ham\"],[\"ham\"],[\"spam\"],[\"ham\"],[\"ham\"],[\"ham\"],[\"ham\"],[\"ham\"],[\"spam\"],[\"ham\"],[\"ham\"],[\"ham\"],[\"ham\"],[\"ham\"],[\"ham\"],[\"ham\"],[\"ham\"],[\"ham\"],[\"ham\"],[\"ham\"],[\"ham\"],[\"ham\"],[\"ham\"],[\"ham\"],[\"ham\"],[\"spam\"],[\"spam\"],[\"ham\"],[\"ham\"],[\"ham\"],[\"ham\"],[\"ham\"],[\"ham\"],[\"ham\"],[\"spam\"],[\"spam\"],[\"ham\"],[\"ham\"],[\"spam\"],[\"ham\"],[\"ham\"],[\"ham\"],[\"ham\"],[\"ham\"],[\"ham\"],[\"ham\"],[\"ham\"],[\"ham\"],[\"ham\"],[\"ham\"],[\"ham\"],[\"ham\"],[\"spam\"],[\"ham\"],[\"ham\"],[\"ham\"],[\"ham\"],[\"ham\"],[\"ham\"],[\"ham\"],[\"ham\"],[\"ham\"],[\"ham\"],[\"ham\"],[\"ham\"],[\"ham\"],[\"ham\"],[\"ham\"],[\"ham\"],[\"ham\"],[\"spam\"],[\"ham\"],[\"ham\"],[\"ham\"],[\"ham\"],[\"ham\"],[\"ham\"],[\"ham\"],[\"ham\"],[\"ham\"],[\"ham\"],[\"ham\"],[\"ham\"],[\"ham\"],[\"ham\"],[\"ham\"],[\"ham\"],[\"ham\"],[\"ham\"],[\"ham\"],[\"ham\"],[\"ham\"],[\"ham\"],[\"ham\"],[\"ham\"],[\"ham\"],[\"spam\"],[\"ham\"],[\"ham\"],[\"ham\"],[\"ham\"],[\"ham\"],[\"ham\"],[\"ham\"],[\"ham\"],[\"ham\"],[\"ham\"],[\"ham\"],[\"ham\"],[\"ham\"],[\"ham\"],[\"ham\"],[\"ham\"],[\"ham\"],[\"ham\"],[\"ham\"],[\"ham\"],[\"ham\"],[\"spam\"],[\"ham\"],[\"ham\"],[\"spam\"],[\"ham\"],[\"ham\"],[\"ham\"],[\"ham\"],[\"ham\"],[\"spam\"],[\"ham\"],[\"ham\"],[\"ham\"],[\"ham\"],[\"ham\"],[\"spam\"],[\"ham\"],[\"ham\"],[\"ham\"],[\"spam\"],[\"ham\"],[\"ham\"],[\"ham\"],[\"ham\"],[\"ham\"],[\"ham\"],[\"ham\"],[\"spam\"],[\"ham\"],[\"ham\"],[\"ham\"],[\"ham\"],[\"ham\"],[\"ham\"],[\"ham\"],[\"ham\"],[\"ham\"],[\"spam\"],[\"spam\"],[\"spam\"],[\"spam\"],[\"spam\"],[\"spam\"],[\"spam\"],[\"ham\"],[\"ham\"],[\"ham\"],[\"ham\"],[\"ham\"],[\"ham\"],[\"ham\"],[\"spam\"],[\"ham\"],[\"ham\"],[\"ham\"],[\"ham\"],[\"ham\"],[\"ham\"],[\"ham\"],[\"ham\"],[\"spam\"],[\"spam\"],[\"ham\"],[\"ham\"],[\"ham\"],[\"ham\"],[\"ham\"],[\"ham\"],[\"ham\"],[\"ham\"],[\"ham\"],[\"ham\"],[\"ham\"],[\"ham\"],[\"ham\"],[\"ham\"],[\"ham\"],[\"ham\"],[\"spam\"],[\"ham\"],[\"ham\"],[\"spam\"],[\"ham\"],[\"ham\"],[\"ham\"],[\"ham\"],[\"spam\"],[\"ham\"],[\"ham\"],[\"ham\"],[\"ham\"],[\"ham\"],[\"ham\"],[\"ham\"],[\"ham\"],[\"ham\"],[\"ham\"],[\"ham\"],[\"ham\"],[\"ham\"],[\"ham\"],[\"spam\"],[\"ham\"],[\"ham\"],[\"ham\"],[\"ham\"],[\"ham\"],[\"ham\"],[\"ham\"],[\"ham\"],[\"ham\"],[\"ham\"],[\"ham\"],[\"spam\"],[\"spam\"],[\"ham\"],[\"ham\"],[\"ham\"],[\"ham\"],[\"spam\"],[\"ham\"],[\"ham\"],[\"ham\"],[\"ham\"],[\"ham\"],[\"ham\"],[\"ham\"],[\"ham\"],[\"ham\"],[\"ham\"],[\"ham\"],[\"ham\"],[\"ham\"],[\"ham\"],[\"ham\"],[\"ham\"],[\"ham\"],[\"ham\"],[\"ham\"],[\"ham\"],[\"ham\"],[\"ham\"],[\"ham\"],[\"ham\"],[\"ham\"],[\"ham\"],[\"ham\"],[\"spam\"],[\"spam\"],[\"ham\"],[\"ham\"],[\"ham\"],[\"ham\"],[\"ham\"],[\"ham\"],[\"ham\"],[\"ham\"],[\"ham\"],[\"ham\"],[\"ham\"],[\"ham\"],[\"ham\"],[\"ham\"],[\"ham\"],[\"ham\"],[\"ham\"],[\"spam\"],[\"ham\"],[\"ham\"],[\"ham\"],[\"ham\"],[\"ham\"],[\"ham\"],[\"ham\"],[\"spam\"],[\"ham\"],[\"ham\"],[\"ham\"],[\"spam\"],[\"ham\"],[\"spam\"],[\"ham\"],[\"spam\"],[\"ham\"],[\"ham\"],[\"ham\"],[\"spam\"],[\"ham\"],[\"ham\"],[\"spam\"],[\"ham\"],[\"ham\"],[\"spam\"],[\"ham\"],[\"ham\"],[\"ham\"],[\"ham\"],[\"ham\"],[\"ham\"],[\"ham\"],[\"ham\"],[\"ham\"],[\"ham\"],[\"spam\"],[\"ham\"],[\"spam\"],[\"ham\"],[\"ham\"],[\"ham\"],[\"ham\"],[\"ham\"],[\"ham\"],[\"ham\"],[\"spam\"],[\"ham\"],[\"ham\"],[\"spam\"],[\"ham\"],[\"ham\"],[\"ham\"],[\"ham\"],[\"ham\"],[\"ham\"],[\"ham\"],[\"ham\"],[\"ham\"],[\"ham\"],[\"ham\"],[\"ham\"],[\"ham\"],[\"ham\"],[\"ham\"],[\"ham\"],[\"ham\"],[\"ham\"],[\"ham\"],[\"ham\"],[\"ham\"],[\"spam\"],[\"ham\"],[\"ham\"],[\"ham\"],[\"ham\"],[\"ham\"],[\"ham\"],[\"ham\"],[\"ham\"],[\"ham\"],[\"ham\"],[\"spam\"],[\"ham\"],[\"ham\"],[\"ham\"],[\"ham\"],[\"ham\"],[\"ham\"],[\"ham\"],[\"spam\"],[\"ham\"],[\"ham\"],[\"spam\"],[\"ham\"],[\"ham\"],[\"ham\"],[\"spam\"],[\"ham\"],[\"ham\"],[\"ham\"],[\"ham\"],[\"ham\"],[\"ham\"],[\"ham\"],[\"ham\"],[\"ham\"],[\"ham\"],[\"ham\"],[\"ham\"],[\"ham\"],[\"ham\"],[\"ham\"],[\"ham\"],[\"ham\"],[\"ham\"],[\"ham\"],[\"ham\"],[\"ham\"],[\"ham\"],[\"ham\"],[\"ham\"],[\"ham\"],[\"ham\"],[\"ham\"],[\"ham\"],[\"spam\"],[\"ham\"],[\"ham\"],[\"ham\"],[\"spam\"],[\"ham\"],[\"ham\"],[\"ham\"],[\"ham\"],[\"ham\"],[\"ham\"],[\"ham\"],[\"ham\"],[\"ham\"],[\"ham\"],[\"ham\"],[\"ham\"],[\"ham\"],[\"ham\"],[\"ham\"],[\"ham\"],[\"ham\"],[\"ham\"],[\"spam\"],[\"ham\"],[\"ham\"],[\"ham\"],[\"ham\"],[\"ham\"],[\"ham\"],[\"ham\"],[\"ham\"],[\"ham\"],[\"ham\"],[\"spam\"],[\"ham\"],[\"ham\"],[\"ham\"],[\"ham\"],[\"ham\"],[\"ham\"],[\"ham\"],[\"ham\"],[\"ham\"],[\"ham\"],[\"spam\"],[\"ham\"],[\"ham\"],[\"ham\"],[\"ham\"],[\"spam\"],[\"ham\"],[\"ham\"],[\"ham\"],[\"ham\"],[\"ham\"],[\"ham\"],[\"ham\"],[\"ham\"],[\"ham\"],[\"ham\"],[\"ham\"],[\"ham\"],[\"ham\"],[\"ham\"],[\"ham\"],[\"ham\"],[\"spam\"],[\"ham\"],[\"ham\"],[\"ham\"],[\"ham\"],[\"ham\"],[\"ham\"],[\"ham\"],[\"spam\"],[\"ham\"],[\"ham\"],[\"ham\"],[\"ham\"],[\"spam\"],[\"ham\"],[\"ham\"],[\"spam\"],[\"ham\"],[\"ham\"],[\"ham\"],[\"ham\"],[\"spam\"],[\"ham\"],[\"ham\"],[\"spam\"],[\"ham\"],[\"ham\"],[\"ham\"],[\"ham\"],[\"ham\"],[\"ham\"],[\"ham\"],[\"ham\"],[\"ham\"],[\"ham\"],[\"ham\"],[\"spam\"],[\"ham\"],[\"spam\"],[\"ham\"],[\"ham\"],[\"ham\"],[\"ham\"],[\"ham\"],[\"ham\"],[\"ham\"],[\"ham\"],[\"spam\"],[\"ham\"],[\"ham\"],[\"spam\"],[\"ham\"],[\"ham\"],[\"ham\"],[\"ham\"],[\"ham\"],[\"ham\"],[\"ham\"],[\"ham\"],[\"spam\"],[\"ham\"],[\"ham\"],[\"ham\"],[\"ham\"],[\"ham\"],[\"spam\"],[\"ham\"],[\"ham\"],[\"ham\"],[\"ham\"],[\"ham\"],[\"ham\"],[\"ham\"],[\"ham\"],[\"ham\"],[\"ham\"],[\"ham\"],[\"spam\"],[\"ham\"],[\"ham\"],[\"ham\"],[\"ham\"],[\"ham\"],[\"ham\"],[\"ham\"],[\"ham\"],[\"spam\"],[\"ham\"],[\"ham\"],[\"ham\"],[\"ham\"],[\"ham\"],[\"ham\"],[\"ham\"],[\"ham\"],[\"ham\"],[\"ham\"],[\"ham\"],[\"ham\"],[\"ham\"],[\"ham\"],[\"ham\"],[\"ham\"],[\"ham\"],[\"ham\"],[\"ham\"],[\"spam\"],[\"ham\"],[\"ham\"],[\"ham\"],[\"ham\"],[\"ham\"],[\"ham\"],[\"ham\"],[\"spam\"],[\"ham\"],[\"ham\"],[\"ham\"],[\"spam\"],[\"ham\"],[\"spam\"],[\"ham\"],[\"spam\"],[\"ham\"],[\"ham\"],[\"ham\"],[\"ham\"],[\"ham\"],[\"ham\"],[\"ham\"],[\"ham\"],[\"ham\"],[\"ham\"],[\"ham\"],[\"ham\"],[\"ham\"],[\"ham\"],[\"ham\"],[\"ham\"],[\"ham\"],[\"ham\"],[\"ham\"],[\"ham\"],[\"spam\"],[\"ham\"],[\"ham\"],[\"ham\"],[\"ham\"],[\"ham\"],[\"spam\"],[\"ham\"],[\"spam\"],[\"ham\"],[\"spam\"],[\"ham\"],[\"spam\"],[\"ham\"],[\"ham\"],[\"ham\"],[\"ham\"],[\"ham\"],[\"ham\"],[\"ham\"],[\"spam\"],[\"spam\"],[\"ham\"],[\"ham\"],[\"ham\"],[\"ham\"],[\"ham\"],[\"ham\"],[\"spam\"],[\"ham\"],[\"ham\"],[\"ham\"],[\"ham\"],[\"ham\"],[\"ham\"],[\"ham\"],[\"spam\"],[\"ham\"],[\"ham\"],[\"ham\"],[\"ham\"],[\"ham\"],[\"ham\"],[\"ham\"],[\"ham\"],[\"ham\"],[\"ham\"],[\"ham\"],[\"ham\"],[\"ham\"],[\"ham\"],[\"ham\"],[\"ham\"],[\"ham\"],[\"ham\"],[\"ham\"],[\"ham\"],[\"spam\"],[\"ham\"],[\"ham\"],[\"ham\"],[\"ham\"],[\"ham\"],[\"ham\"],[\"ham\"],[\"ham\"],[\"ham\"],[\"ham\"],[\"ham\"],[\"spam\"],[\"ham\"],[\"ham\"],[\"ham\"],[\"ham\"],[\"ham\"],[\"ham\"],[\"ham\"],[\"ham\"],[\"spam\"],[\"ham\"],[\"ham\"],[\"ham\"],[\"ham\"],[\"spam\"],[\"ham\"],[\"ham\"],[\"ham\"],[\"spam\"],[\"ham\"],[\"ham\"],[\"ham\"],[\"ham\"],[\"ham\"],[\"spam\"],[\"ham\"],[\"ham\"],[\"spam\"],[\"ham\"],[\"ham\"],[\"ham\"],[\"ham\"],[\"ham\"],[\"ham\"],[\"spam\"],[\"ham\"],[\"ham\"],[\"spam\"],[\"ham\"],[\"ham\"],[\"ham\"],[\"ham\"],[\"ham\"],[\"ham\"],[\"spam\"],[\"spam\"],[\"ham\"],[\"spam\"],[\"ham\"],[\"ham\"],[\"ham\"],[\"ham\"],[\"ham\"],[\"ham\"],[\"ham\"],[\"ham\"],[\"ham\"],[\"spam\"],[\"spam\"],[\"ham\"],[\"ham\"],[\"ham\"],[\"spam\"],[\"ham\"],[\"ham\"],[\"ham\"],[\"spam\"],[\"ham\"],[\"ham\"],[\"ham\"],[\"ham\"],[\"ham\"],[\"ham\"],[\"ham\"],[\"ham\"],[\"ham\"],[\"ham\"],[\"ham\"],[\"ham\"],[\"ham\"],[\"ham\"],[\"ham\"],[\"spam\"],[\"ham\"],[\"ham\"],[\"ham\"],[\"ham\"],[\"ham\"],[\"spam\"],[\"ham\"],[\"ham\"],[\"ham\"],[\"ham\"],[\"spam\"],[\"spam\"],[\"ham\"],[\"ham\"],[\"ham\"],[\"ham\"],[\"ham\"],[\"ham\"],[\"ham\"],[\"ham\"],[\"ham\"],[\"ham\"],[\"ham\"],[\"spam\"],[\"spam\"],[\"ham\"],[\"ham\"],[\"ham\"],[\"ham\"],[\"ham\"],[\"ham\"],[\"spam\"],[\"spam\"],[\"ham\"],[\"ham\"],[\"ham\"],[\"spam\"],[\"ham\"],[\"ham\"],[\"ham\"],[\"spam\"],[\"ham\"],[\"ham\"],[\"ham\"],[\"ham\"],[\"ham\"],[\"ham\"],[\"ham\"],[\"ham\"],[\"spam\"],[\"ham\"],[\"spam\"],[\"ham\"],[\"ham\"],[\"spam\"],[\"ham\"],[\"ham\"],[\"ham\"],[\"ham\"],[\"ham\"],[\"ham\"],[\"ham\"],[\"ham\"],[\"ham\"],[\"ham\"],[\"spam\"],[\"ham\"],[\"spam\"],[\"ham\"],[\"ham\"],[\"ham\"],[\"spam\"],[\"ham\"],[\"ham\"],[\"ham\"],[\"spam\"],[\"ham\"],[\"ham\"],[\"ham\"],[\"ham\"],[\"ham\"],[\"ham\"],[\"ham\"],[\"ham\"],[\"ham\"],[\"ham\"],[\"ham\"],[\"ham\"],[\"ham\"],[\"ham\"],[\"spam\"],[\"ham\"],[\"ham\"],[\"ham\"],[\"ham\"],[\"ham\"],[\"ham\"],[\"spam\"],[\"ham\"],[\"ham\"],[\"ham\"],[\"ham\"],[\"ham\"],[\"ham\"],[\"ham\"],[\"ham\"],[\"ham\"],[\"spam\"],[\"ham\"],[\"ham\"],[\"ham\"],[\"ham\"],[\"spam\"],[\"ham\"],[\"ham\"],[\"ham\"],[\"ham\"],[\"spam\"],[\"ham\"],[\"spam\"],[\"ham\"],[\"ham\"],[\"ham\"],[\"ham\"],[\"ham\"],[\"spam\"],[\"ham\"],[\"ham\"],[\"ham\"],[\"spam\"],[\"ham\"],[\"ham\"],[\"spam\"],[\"ham\"],[\"ham\"],[\"ham\"],[\"ham\"],[\"ham\"],[\"ham\"],[\"ham\"],[\"ham\"],[\"ham\"],[\"ham\"],[\"ham\"],[\"ham\"],[\"ham\"],[\"spam\"],[\"ham\"],[\"ham\"],[\"ham\"],[\"ham\"],[\"ham\"],[\"ham\"],[\"ham\"],[\"ham\"],[\"ham\"],[\"ham\"],[\"ham\"],[\"ham\"],[\"spam\"],[\"ham\"],[\"spam\"],[\"spam\"],[\"spam\"],[\"ham\"],[\"ham\"],[\"ham\"],[\"ham\"],[\"ham\"],[\"spam\"],[\"ham\"],[\"ham\"],[\"ham\"],[\"ham\"],[\"ham\"],[\"ham\"],[\"spam\"],[\"ham\"],[\"ham\"],[\"ham\"],[\"ham\"],[\"ham\"],[\"ham\"],[\"ham\"],[\"ham\"],[\"ham\"],[\"ham\"],[\"ham\"],[\"ham\"],[\"ham\"],[\"ham\"],[\"ham\"],[\"ham\"],[\"ham\"],[\"ham\"],[\"ham\"],[\"ham\"],[\"ham\"],[\"ham\"],[\"spam\"],[\"spam\"],[\"ham\"],[\"ham\"],[\"ham\"],[\"ham\"],[\"ham\"],[\"spam\"],[\"ham\"],[\"ham\"],[\"ham\"],[\"ham\"],[\"spam\"],[\"spam\"],[\"ham\"],[\"ham\"],[\"ham\"],[\"ham\"],[\"ham\"],[\"ham\"],[\"spam\"],[\"ham\"],[\"spam\"],[\"ham\"],[\"ham\"],[\"ham\"],[\"ham\"],[\"ham\"],[\"ham\"],[\"ham\"],[\"ham\"],[\"ham\"],[\"ham\"],[\"ham\"],[\"ham\"],[\"ham\"],[\"spam\"],[\"ham\"],[\"ham\"],[\"ham\"],[\"ham\"],[\"ham\"],[\"ham\"],[\"ham\"],[\"spam\"],[\"spam\"],[\"ham\"],[\"ham\"],[\"ham\"],[\"ham\"],[\"ham\"],[\"ham\"],[\"ham\"],[\"ham\"],[\"ham\"],[\"ham\"],[\"ham\"],[\"ham\"],[\"ham\"],[\"spam\"],[\"spam\"],[\"spam\"],[\"spam\"],[\"spam\"],[\"ham\"],[\"ham\"],[\"ham\"],[\"ham\"],[\"ham\"],[\"ham\"],[\"ham\"],[\"ham\"],[\"ham\"],[\"ham\"],[\"ham\"],[\"spam\"],[\"ham\"],[\"ham\"],[\"ham\"],[\"ham\"],[\"ham\"],[\"ham\"],[\"ham\"],[\"ham\"],[\"ham\"],[\"ham\"],[\"ham\"],[\"ham\"],[\"ham\"],[\"ham\"],[\"ham\"],[\"ham\"],[\"ham\"],[\"spam\"],[\"ham\"],[\"ham\"],[\"ham\"],[\"ham\"],[\"ham\"],[\"ham\"],[\"ham\"],[\"ham\"],[\"ham\"],[\"ham\"],[\"ham\"],[\"ham\"],[\"ham\"],[\"ham\"],[\"ham\"],[\"ham\"],[\"ham\"],[\"ham\"],[\"spam\"],[\"ham\"],[\"ham\"],[\"ham\"],[\"ham\"],[\"ham\"],[\"ham\"],[\"spam\"],[\"ham\"],[\"ham\"],[\"ham\"],[\"spam\"],[\"ham\"],[\"ham\"],[\"ham\"],[\"ham\"],[\"ham\"],[\"ham\"],[\"ham\"],[\"ham\"],[\"ham\"],[\"ham\"],[\"ham\"],[\"spam\"],[\"ham\"],[\"spam\"],[\"ham\"],[\"ham\"],[\"spam\"],[\"spam\"],[\"ham\"],[\"ham\"],[\"ham\"],[\"ham\"],[\"ham\"],[\"ham\"],[\"ham\"],[\"ham\"],[\"spam\"],[\"ham\"],[\"ham\"],[\"ham\"],[\"ham\"],[\"ham\"],[\"ham\"],[\"ham\"],[\"spam\"],[\"ham\"],[\"ham\"],[\"ham\"],[\"ham\"],[\"ham\"],[\"ham\"],[\"ham\"],[\"ham\"],[\"ham\"],[\"ham\"],[\"ham\"],[\"ham\"],[\"spam\"],[\"ham\"],[\"ham\"],[\"spam\"],[\"ham\"],[\"ham\"],[\"ham\"],[\"ham\"],[\"ham\"],[\"ham\"],[\"ham\"],[\"ham\"],[\"ham\"],[\"ham\"],[\"ham\"],[\"ham\"],[\"ham\"],[\"ham\"],[\"ham\"],[\"ham\"],[\"ham\"],[\"ham\"],[\"ham\"],[\"ham\"],[\"ham\"],[\"ham\"],[\"ham\"],[\"ham\"],[\"ham\"],[\"spam\"],[\"ham\"],[\"ham\"],[\"ham\"],[\"ham\"],[\"ham\"],[\"ham\"],[\"ham\"],[\"ham\"],[\"ham\"],[\"ham\"],[\"ham\"],[\"ham\"],[\"ham\"],[\"spam\"],[\"ham\"],[\"ham\"],[\"ham\"],[\"ham\"],[\"ham\"],[\"ham\"],[\"ham\"],[\"ham\"],[\"ham\"],[\"spam\"],[\"ham\"],[\"ham\"],[\"ham\"],[\"ham\"],[\"ham\"],[\"ham\"],[\"ham\"],[\"ham\"],[\"ham\"],[\"ham\"],[\"ham\"],[\"ham\"],[\"spam\"],[\"ham\"],[\"spam\"],[\"ham\"],[\"ham\"],[\"ham\"],[\"ham\"],[\"ham\"],[\"ham\"],[\"ham\"],[\"ham\"],[\"ham\"],[\"ham\"],[\"ham\"],[\"ham\"],[\"ham\"],[\"ham\"],[\"ham\"],[\"ham\"],[\"ham\"],[\"ham\"],[\"ham\"],[\"ham\"],[\"ham\"],[\"ham\"],[\"ham\"],[\"spam\"],[\"spam\"],[\"ham\"],[\"ham\"],[\"ham\"],[\"ham\"],[\"ham\"],[\"spam\"],[\"ham\"],[\"ham\"],[\"ham\"],[\"ham\"],[\"ham\"],[\"ham\"],[\"ham\"],[\"spam\"],[\"ham\"],[\"ham\"],[\"spam\"],[\"ham\"],[\"ham\"],[\"ham\"],[\"ham\"],[\"ham\"],[\"ham\"],[\"ham\"],[\"ham\"],[\"ham\"],[\"spam\"],[\"ham\"],[\"ham\"],[\"ham\"],[\"ham\"],[\"ham\"],[\"ham\"],[\"spam\"],[\"ham\"],[\"ham\"],[\"ham\"],[\"ham\"],[\"ham\"],[\"ham\"],[\"ham\"],[\"ham\"],[\"spam\"],[\"ham\"],[\"ham\"],[\"ham\"],[\"ham\"],[\"ham\"],[\"ham\"],[\"ham\"],[\"ham\"],[\"ham\"],[\"ham\"],[\"ham\"],[\"ham\"],[\"ham\"],[\"ham\"],[\"ham\"],[\"ham\"],[\"ham\"],[\"ham\"],[\"ham\"],[\"ham\"],[\"ham\"],[\"ham\"],[\"ham\"],[\"ham\"],[\"ham\"],[\"ham\"],[\"ham\"],[\"spam\"],[\"ham\"],[\"ham\"],[\"spam\"],[\"ham\"],[\"ham\"],[\"spam\"],[\"spam\"],[\"spam\"],[\"ham\"],[\"ham\"],[\"ham\"],[\"ham\"],[\"spam\"],[\"ham\"],[\"spam\"],[\"spam\"],[\"ham\"],[\"ham\"],[\"ham\"],[\"ham\"],[\"spam\"],[\"ham\"],[\"ham\"],[\"ham\"],[\"ham\"],[\"ham\"],[\"ham\"],[\"ham\"],[\"ham\"],[\"ham\"],[\"spam\"],[\"ham\"],[\"ham\"],[\"ham\"],[\"ham\"],[\"ham\"],[\"ham\"],[\"ham\"],[\"ham\"],[\"ham\"],[\"ham\"],[\"ham\"],[\"ham\"],[\"ham\"],[\"spam\"],[\"ham\"],[\"ham\"],[\"ham\"],[\"ham\"],[\"ham\"],[\"ham\"],[\"ham\"],[\"ham\"],[\"ham\"],[\"ham\"],[\"ham\"],[\"spam\"],[\"spam\"],[\"ham\"],[\"ham\"],[\"ham\"],[\"ham\"],[\"ham\"],[\"ham\"],[\"ham\"],[\"ham\"],[\"ham\"],[\"ham\"],[\"ham\"],[\"ham\"],[\"ham\"],[\"spam\"],[\"ham\"],[\"ham\"],[\"ham\"],[\"spam\"],[\"ham\"],[\"ham\"],[\"ham\"],[\"ham\"],[\"spam\"],[\"ham\"],[\"ham\"],[\"ham\"],[\"ham\"],[\"ham\"],[\"spam\"],[\"ham\"],[\"ham\"],[\"ham\"],[\"ham\"],[\"ham\"],[\"ham\"],[\"ham\"],[\"ham\"],[\"ham\"],[\"ham\"],[\"ham\"],[\"ham\"],[\"ham\"],[\"ham\"],[\"spam\"],[\"ham\"],[\"ham\"],[\"spam\"],[\"ham\"],[\"ham\"],[\"ham\"],[\"ham\"],[\"ham\"],[\"ham\"],[\"ham\"],[\"ham\"],[\"ham\"],[\"ham\"],[\"ham\"],[\"ham\"],[\"ham\"],[\"ham\"],[\"ham\"],[\"ham\"],[\"ham\"],[\"ham\"],[\"ham\"],[\"spam\"],[\"ham\"],[\"ham\"],[\"ham\"],[\"ham\"],[\"spam\"],[\"ham\"],[\"ham\"],[\"ham\"],[\"ham\"],[\"ham\"],[\"ham\"],[\"ham\"],[\"ham\"],[\"ham\"],[\"ham\"],[\"ham\"],[\"ham\"],[\"ham\"],[\"ham\"],[\"ham\"],[\"ham\"],[\"ham\"],[\"ham\"],[\"ham\"],[\"ham\"],[\"ham\"],[\"ham\"],[\"ham\"],[\"spam\"],[\"ham\"],[\"ham\"],[\"spam\"],[\"ham\"],[\"ham\"],[\"ham\"],[\"ham\"],[\"ham\"],[\"ham\"],[\"spam\"],[\"ham\"],[\"ham\"],[\"ham\"],[\"ham\"],[\"ham\"],[\"ham\"],[\"ham\"],[\"ham\"],[\"ham\"],[\"ham\"],[\"spam\"],[\"ham\"],[\"ham\"],[\"ham\"],[\"ham\"],[\"ham\"],[\"spam\"],[\"ham\"],[\"spam\"],[\"ham\"],[\"ham\"],[\"ham\"],[\"ham\"],[\"spam\"],[\"spam\"],[\"ham\"],[\"ham\"],[\"ham\"],[\"ham\"],[\"ham\"],[\"ham\"],[\"ham\"],[\"spam\"],[\"ham\"],[\"ham\"],[\"ham\"],[\"ham\"],[\"ham\"],[\"ham\"],[\"ham\"],[\"ham\"],[\"ham\"],[\"ham\"],[\"ham\"],[\"ham\"],[\"ham\"],[\"ham\"],[\"ham\"],[\"ham\"],[\"ham\"],[\"spam\"],[\"ham\"],[\"ham\"],[\"ham\"],[\"ham\"],[\"ham\"],[\"ham\"],[\"ham\"],[\"ham\"],[\"ham\"],[\"ham\"],[\"spam\"],[\"spam\"],[\"ham\"],[\"ham\"],[\"ham\"],[\"ham\"],[\"ham\"],[\"ham\"],[\"ham\"],[\"ham\"],[\"ham\"],[\"spam\"],[\"ham\"],[\"ham\"],[\"ham\"],[\"ham\"],[\"ham\"],[\"ham\"],[\"ham\"],[\"ham\"],[\"ham\"],[\"ham\"],[\"ham\"],[\"ham\"],[\"spam\"],[\"ham\"],[\"spam\"],[\"ham\"],[\"ham\"],[\"ham\"],[\"ham\"],[\"ham\"],[\"ham\"],[\"ham\"],[\"ham\"],[\"ham\"],[\"ham\"],[\"spam\"],[\"ham\"],[\"ham\"],[\"ham\"],[\"ham\"],[\"ham\"],[\"ham\"],[\"spam\"],[\"ham\"],[\"ham\"],[\"ham\"],[\"spam\"],[\"ham\"],[\"ham\"],[\"ham\"],[\"ham\"],[\"ham\"],[\"ham\"],[\"ham\"],[\"ham\"],[\"ham\"],[\"ham\"],[\"ham\"],[\"ham\"],[\"ham\"],[\"ham\"],[\"ham\"],[\"ham\"],[\"ham\"],[\"spam\"],[\"spam\"],[\"ham\"],[\"ham\"],[\"ham\"],[\"ham\"],[\"ham\"],[\"ham\"],[\"ham\"],[\"ham\"],[\"ham\"],[\"ham\"],[\"ham\"],[\"ham\"],[\"spam\"],[\"ham\"],[\"spam\"],[\"ham\"],[\"ham\"],[\"ham\"],[\"ham\"],[\"ham\"],[\"ham\"],[\"ham\"],[\"ham\"],[\"spam\"],[\"ham\"],[\"ham\"],[\"ham\"],[\"ham\"],[\"ham\"],[\"ham\"],[\"ham\"],[\"spam\"],[\"ham\"],[\"ham\"],[\"ham\"],[\"ham\"],[\"spam\"],[\"ham\"],[\"spam\"],[\"ham\"],[\"ham\"],[\"spam\"],[\"ham\"],[\"ham\"],[\"ham\"],[\"ham\"],[\"ham\"],[\"ham\"],[\"ham\"],[\"spam\"],[\"ham\"],[\"ham\"],[\"ham\"],[\"spam\"],[\"ham\"],[\"ham\"],[\"ham\"],[\"ham\"],[\"ham\"],[\"ham\"],[\"ham\"],[\"ham\"],[\"ham\"],[\"ham\"],[\"ham\"],[\"spam\"],[\"spam\"],[\"ham\"],[\"ham\"],[\"ham\"],[\"ham\"],[\"ham\"],[\"ham\"],[\"ham\"],[\"ham\"],[\"ham\"],[\"ham\"],[\"ham\"],[\"ham\"],[\"ham\"],[\"ham\"],[\"ham\"],[\"ham\"],[\"spam\"],[\"spam\"],[\"ham\"],[\"ham\"],[\"ham\"],[\"spam\"],[\"ham\"],[\"ham\"],[\"ham\"],[\"ham\"],[\"ham\"],[\"ham\"],[\"ham\"],[\"ham\"],[\"ham\"],[\"ham\"],[\"ham\"],[\"spam\"],[\"ham\"],[\"spam\"],[\"spam\"],[\"ham\"],[\"ham\"],[\"ham\"],[\"ham\"],[\"ham\"],[\"ham\"],[\"ham\"],[\"ham\"],[\"ham\"],[\"ham\"],[\"ham\"],[\"ham\"],[\"ham\"],[\"ham\"],[\"ham\"],[\"ham\"],[\"spam\"],[\"ham\"],[\"ham\"],[\"ham\"],[\"ham\"],[\"ham\"],[\"spam\"],[\"ham\"],[\"ham\"],[\"ham\"],[\"ham\"],[\"ham\"],[\"ham\"],[\"ham\"],[\"ham\"],[\"ham\"],[\"ham\"],[\"ham\"],[\"ham\"],[\"spam\"],[\"ham\"],[\"ham\"],[\"ham\"],[\"ham\"],[\"ham\"],[\"ham\"],[\"ham\"],[\"spam\"],[\"ham\"],[\"ham\"],[\"ham\"],[\"ham\"],[\"ham\"],[\"spam\"],[\"ham\"],[\"ham\"],[\"ham\"],[\"ham\"],[\"ham\"],[\"ham\"],[\"ham\"],[\"ham\"],[\"spam\"],[\"spam\"],[\"ham\"],[\"spam\"],[\"ham\"],[\"ham\"],[\"ham\"],[\"ham\"],[\"ham\"],[\"ham\"],[\"spam\"],[\"ham\"],[\"ham\"],[\"ham\"],[\"spam\"],[\"ham\"],[\"spam\"],[\"ham\"],[\"ham\"],[\"ham\"],[\"ham\"],[\"ham\"],[\"ham\"],[\"ham\"],[\"ham\"],[\"ham\"],[\"ham\"],[\"ham\"],[\"spam\"],[\"ham\"],[\"ham\"],[\"ham\"],[\"ham\"],[\"spam\"],[\"ham\"],[\"ham\"],[\"ham\"],[\"ham\"],[\"ham\"],[\"ham\"],[\"ham\"],[\"spam\"],[\"ham\"],[\"ham\"],[\"spam\"],[\"ham\"],[\"spam\"],[\"ham\"],[\"ham\"],[\"spam\"],[\"ham\"],[\"ham\"],[\"spam\"],[\"ham\"],[\"ham\"],[\"ham\"],[\"ham\"],[\"ham\"],[\"ham\"],[\"ham\"],[\"ham\"],[\"ham\"],[\"ham\"],[\"ham\"],[\"ham\"],[\"ham\"],[\"ham\"],[\"ham\"],[\"ham\"],[\"ham\"],[\"ham\"],[\"ham\"],[\"ham\"],[\"spam\"],[\"ham\"],[\"ham\"],[\"ham\"],[\"spam\"],[\"ham\"],[\"ham\"],[\"ham\"],[\"ham\"],[\"ham\"],[\"ham\"],[\"ham\"],[\"spam\"],[\"ham\"],[\"spam\"],[\"ham\"],[\"ham\"],[\"spam\"],[\"ham\"],[\"ham\"],[\"ham\"],[\"ham\"],[\"spam\"],[\"ham\"],[\"ham\"],[\"ham\"],[\"ham\"],[\"ham\"],[\"ham\"],[\"ham\"],[\"ham\"],[\"ham\"],[\"ham\"],[\"ham\"],[\"ham\"],[\"ham\"],[\"ham\"],[\"ham\"],[\"ham\"],[\"spam\"],[\"ham\"],[\"ham\"],[\"ham\"],[\"spam\"],[\"ham\"],[\"ham\"],[\"ham\"],[\"ham\"],[\"ham\"],[\"spam\"],[\"ham\"],[\"ham\"],[\"ham\"],[\"ham\"],[\"ham\"],[\"ham\"],[\"ham\"],[\"ham\"],[\"ham\"],[\"ham\"],[\"ham\"],[\"ham\"],[\"ham\"],[\"ham\"],[\"ham\"],[\"ham\"],[\"spam\"],[\"ham\"],[\"ham\"],[\"ham\"],[\"ham\"],[\"ham\"],[\"ham\"],[\"ham\"],[\"ham\"],[\"ham\"],[\"ham\"],[\"ham\"],[\"ham\"],[\"ham\"],[\"spam\"],[\"ham\"],[\"ham\"],[\"ham\"],[\"ham\"],[\"ham\"],[\"ham\"],[\"ham\"],[\"ham\"],[\"ham\"],[\"ham\"],[\"spam\"],[\"spam\"],[\"ham\"],[\"ham\"],[\"ham\"],[\"ham\"],[\"ham\"],[\"spam\"],[\"ham\"],[\"ham\"],[\"ham\"],[\"spam\"],[\"spam\"],[\"ham\"],[\"ham\"],[\"ham\"],[\"spam\"],[\"ham\"],[\"ham\"],[\"ham\"],[\"ham\"],[\"ham\"],[\"ham\"],[\"ham\"],[\"ham\"],[\"spam\"],[\"ham\"],[\"ham\"],[\"ham\"],[\"ham\"],[\"ham\"],[\"ham\"],[\"ham\"],[\"ham\"],[\"ham\"],[\"ham\"],[\"ham\"],[\"ham\"],[\"ham\"],[\"spam\"],[\"ham\"],[\"ham\"],[\"ham\"],[\"spam\"],[\"ham\"],[\"ham\"],[\"ham\"],[\"ham\"],[\"spam\"],[\"ham\"],[\"ham\"],[\"ham\"],[\"ham\"],[\"ham\"],[\"ham\"],[\"ham\"],[\"ham\"],[\"ham\"],[\"ham\"],[\"ham\"],[\"ham\"],[\"spam\"],[\"ham\"],[\"ham\"],[\"ham\"],[\"ham\"],[\"ham\"],[\"ham\"],[\"ham\"],[\"ham\"],[\"ham\"],[\"ham\"],[\"ham\"],[\"ham\"],[\"ham\"],[\"ham\"],[\"ham\"],[\"ham\"],[\"ham\"],[\"ham\"],[\"spam\"],[\"ham\"],[\"ham\"],[\"ham\"],[\"ham\"],[\"ham\"],[\"ham\"],[\"ham\"],[\"ham\"],[\"spam\"],[\"ham\"],[\"ham\"],[\"ham\"],[\"ham\"],[\"ham\"],[\"ham\"],[\"spam\"],[\"ham\"],[\"ham\"],[\"ham\"],[\"ham\"],[\"ham\"],[\"ham\"],[\"spam\"],[\"ham\"],[\"spam\"],[\"ham\"],[\"ham\"],[\"ham\"],[\"ham\"],[\"ham\"],[\"ham\"],[\"ham\"],[\"ham\"],[\"ham\"],[\"ham\"],[\"ham\"],[\"ham\"],[\"ham\"],[\"ham\"],[\"ham\"],[\"ham\"],[\"ham\"],[\"ham\"],[\"ham\"],[\"spam\"],[\"ham\"],[\"ham\"],[\"ham\"],[\"ham\"],[\"ham\"],[\"ham\"],[\"ham\"],[\"ham\"],[\"ham\"],[\"ham\"],[\"ham\"],[\"ham\"],[\"ham\"],[\"ham\"],[\"ham\"],[\"ham\"],[\"ham\"],[\"ham\"],[\"ham\"],[\"ham\"],[\"ham\"],[\"ham\"],[\"ham\"],[\"ham\"],[\"ham\"],[\"ham\"],[\"ham\"],[\"spam\"],[\"ham\"],[\"ham\"],[\"ham\"],[\"ham\"],[\"ham\"],[\"ham\"],[\"ham\"],[\"ham\"],[\"ham\"],[\"ham\"],[\"ham\"],[\"ham\"],[\"ham\"],[\"ham\"],[\"ham\"],[\"ham\"],[\"ham\"],[\"ham\"],[\"ham\"],[\"ham\"],[\"ham\"],[\"spam\"],[\"spam\"],[\"spam\"],[\"ham\"],[\"spam\"],[\"ham\"],[\"spam\"],[\"ham\"],[\"ham\"],[\"ham\"],[\"ham\"],[\"ham\"],[\"ham\"],[\"spam\"],[\"spam\"],[\"ham\"],[\"ham\"],[\"spam\"],[\"ham\"],[\"ham\"],[\"ham\"],[\"ham\"],[\"ham\"],[\"ham\"],[\"ham\"],[\"ham\"],[\"ham\"],[\"ham\"],[\"ham\"],[\"ham\"],[\"ham\"],[\"ham\"],[\"ham\"],[\"ham\"],[\"ham\"],[\"ham\"],[\"ham\"],[\"ham\"],[\"ham\"],[\"ham\"],[\"ham\"],[\"ham\"],[\"ham\"],[\"ham\"],[\"ham\"],[\"ham\"],[\"ham\"],[\"ham\"],[\"ham\"],[\"ham\"],[\"ham\"],[\"ham\"],[\"ham\"],[\"ham\"],[\"ham\"],[\"ham\"],[\"ham\"],[\"ham\"],[\"ham\"],[\"ham\"],[\"ham\"],[\"ham\"],[\"ham\"],[\"spam\"],[\"ham\"],[\"ham\"],[\"ham\"],[\"ham\"],[\"ham\"],[\"ham\"],[\"ham\"],[\"ham\"],[\"ham\"],[\"ham\"],[\"ham\"],[\"ham\"],[\"ham\"],[\"ham\"],[\"ham\"],[\"spam\"],[\"ham\"],[\"ham\"],[\"ham\"],[\"ham\"],[\"ham\"],[\"spam\"],[\"ham\"],[\"ham\"],[\"ham\"],[\"ham\"],[\"ham\"],[\"ham\"],[\"spam\"],[\"ham\"],[\"ham\"],[\"ham\"],[\"spam\"],[\"ham\"],[\"spam\"],[\"ham\"],[\"ham\"],[\"ham\"],[\"spam\"],[\"spam\"],[\"spam\"],[\"ham\"],[\"ham\"],[\"ham\"],[\"ham\"],[\"ham\"],[\"ham\"],[\"ham\"],[\"ham\"],[\"ham\"],[\"ham\"],[\"ham\"],[\"ham\"],[\"ham\"],[\"spam\"],[\"ham\"],[\"ham\"],[\"ham\"],[\"ham\"],[\"spam\"],[\"ham\"],[\"ham\"],[\"ham\"],[\"ham\"],[\"spam\"],[\"ham\"],[\"ham\"],[\"ham\"],[\"ham\"],[\"spam\"],[\"ham\"],[\"ham\"],[\"ham\"],[\"spam\"],[\"ham\"],[\"ham\"],[\"ham\"],[\"ham\"],[\"ham\"],[\"ham\"],[\"ham\"],[\"ham\"],[\"ham\"],[\"ham\"],[\"ham\"],[\"ham\"],[\"ham\"],[\"ham\"],[\"ham\"],[\"ham\"],[\"ham\"],[\"ham\"],[\"ham\"],[\"ham\"],[\"ham\"],[\"ham\"],[\"spam\"],[\"ham\"],[\"spam\"],[\"ham\"],[\"ham\"],[\"ham\"],[\"ham\"],[\"ham\"],[\"ham\"],[\"ham\"],[\"ham\"],[\"ham\"],[\"ham\"],[\"spam\"],[\"ham\"],[\"ham\"],[\"spam\"],[\"ham\"],[\"ham\"],[\"ham\"],[\"ham\"],[\"ham\"],[\"ham\"],[\"spam\"],[\"ham\"],[\"ham\"],[\"ham\"],[\"ham\"],[\"ham\"],[\"ham\"],[\"ham\"],[\"ham\"],[\"ham\"],[\"ham\"],[\"ham\"],[\"ham\"],[\"ham\"],[\"ham\"],[\"ham\"],[\"ham\"],[\"ham\"],[\"ham\"],[\"spam\"],[\"spam\"],[\"ham\"],[\"ham\"],[\"ham\"],[\"ham\"]],\"domain\":{\"x\":[0.0,1.0],\"y\":[0.0,1.0]},\"hole\":0.4,\"hovertemplate\":\"v1=%{customdata[0]}<extra></extra>\",\"labels\":[\"ham\",\"ham\",\"spam\",\"ham\",\"ham\",\"spam\",\"ham\",\"ham\",\"spam\",\"spam\",\"ham\",\"spam\",\"spam\",\"ham\",\"ham\",\"spam\",\"ham\",\"ham\",\"ham\",\"spam\",\"ham\",\"ham\",\"ham\",\"ham\",\"ham\",\"ham\",\"ham\",\"ham\",\"ham\",\"ham\",\"ham\",\"ham\",\"ham\",\"ham\",\"spam\",\"ham\",\"ham\",\"ham\",\"ham\",\"ham\",\"ham\",\"ham\",\"spam\",\"ham\",\"ham\",\"ham\",\"ham\",\"ham\",\"ham\",\"ham\",\"ham\",\"ham\",\"ham\",\"ham\",\"spam\",\"ham\",\"spam\",\"ham\",\"ham\",\"ham\",\"ham\",\"ham\",\"ham\",\"ham\",\"ham\",\"spam\",\"ham\",\"spam\",\"spam\",\"ham\",\"ham\",\"ham\",\"ham\",\"ham\",\"ham\",\"ham\",\"ham\",\"ham\",\"ham\",\"ham\",\"ham\",\"ham\",\"ham\",\"ham\",\"ham\",\"ham\",\"ham\",\"ham\",\"ham\",\"ham\",\"ham\",\"ham\",\"ham\",\"spam\",\"ham\",\"spam\",\"ham\",\"ham\",\"ham\",\"ham\",\"ham\",\"ham\",\"ham\",\"ham\",\"ham\",\"ham\",\"ham\",\"ham\",\"ham\",\"ham\",\"ham\",\"ham\",\"ham\",\"spam\",\"ham\",\"ham\",\"spam\",\"ham\",\"ham\",\"spam\",\"spam\",\"ham\",\"spam\",\"ham\",\"ham\",\"ham\",\"ham\",\"ham\",\"ham\",\"ham\",\"ham\",\"ham\",\"ham\",\"spam\",\"spam\",\"ham\",\"ham\",\"ham\",\"spam\",\"ham\",\"ham\",\"ham\",\"ham\",\"ham\",\"ham\",\"ham\",\"spam\",\"ham\",\"ham\",\"ham\",\"ham\",\"ham\",\"ham\",\"ham\",\"ham\",\"ham\",\"ham\",\"ham\",\"spam\",\"spam\",\"ham\",\"ham\",\"ham\",\"spam\",\"spam\",\"ham\",\"spam\",\"ham\",\"ham\",\"ham\",\"ham\",\"ham\",\"ham\",\"ham\",\"ham\",\"ham\",\"ham\",\"ham\",\"ham\",\"ham\",\"ham\",\"ham\",\"ham\",\"ham\",\"ham\",\"ham\",\"ham\",\"spam\",\"ham\",\"ham\",\"spam\",\"ham\",\"ham\",\"ham\",\"ham\",\"ham\",\"ham\",\"ham\",\"ham\",\"ham\",\"ham\",\"ham\",\"ham\",\"ham\",\"ham\",\"ham\",\"ham\",\"ham\",\"ham\",\"ham\",\"ham\",\"ham\",\"ham\",\"ham\",\"ham\",\"ham\",\"ham\",\"ham\",\"ham\",\"ham\",\"ham\",\"ham\",\"ham\",\"ham\",\"spam\",\"ham\",\"spam\",\"ham\",\"ham\",\"ham\",\"ham\",\"ham\",\"ham\",\"ham\",\"spam\",\"ham\",\"ham\",\"ham\",\"ham\",\"spam\",\"ham\",\"ham\",\"ham\",\"ham\",\"ham\",\"ham\",\"ham\",\"ham\",\"ham\",\"spam\",\"ham\",\"ham\",\"ham\",\"ham\",\"ham\",\"ham\",\"ham\",\"ham\",\"spam\",\"ham\",\"ham\",\"ham\",\"ham\",\"spam\",\"ham\",\"ham\",\"ham\",\"spam\",\"ham\",\"spam\",\"ham\",\"ham\",\"spam\",\"ham\",\"ham\",\"ham\",\"ham\",\"ham\",\"ham\",\"ham\",\"ham\",\"ham\",\"ham\",\"ham\",\"ham\",\"ham\",\"ham\",\"ham\",\"ham\",\"ham\",\"ham\",\"ham\",\"ham\",\"ham\",\"ham\",\"spam\",\"ham\",\"ham\",\"ham\",\"ham\",\"ham\",\"ham\",\"ham\",\"ham\",\"spam\",\"ham\",\"ham\",\"ham\",\"spam\",\"ham\",\"ham\",\"spam\",\"ham\",\"ham\",\"ham\",\"ham\",\"ham\",\"ham\",\"spam\",\"ham\",\"ham\",\"ham\",\"ham\",\"ham\",\"ham\",\"ham\",\"ham\",\"ham\",\"ham\",\"ham\",\"ham\",\"ham\",\"spam\",\"ham\",\"spam\",\"ham\",\"ham\",\"ham\",\"ham\",\"ham\",\"ham\",\"ham\",\"ham\",\"ham\",\"ham\",\"ham\",\"ham\",\"ham\",\"spam\",\"ham\",\"ham\",\"ham\",\"ham\",\"ham\",\"ham\",\"ham\",\"spam\",\"spam\",\"ham\",\"ham\",\"ham\",\"ham\",\"ham\",\"ham\",\"ham\",\"ham\",\"spam\",\"spam\",\"ham\",\"ham\",\"ham\",\"ham\",\"ham\",\"ham\",\"spam\",\"ham\",\"ham\",\"ham\",\"ham\",\"ham\",\"ham\",\"ham\",\"ham\",\"ham\",\"spam\",\"ham\",\"ham\",\"ham\",\"spam\",\"ham\",\"ham\",\"ham\",\"ham\",\"ham\",\"ham\",\"ham\",\"ham\",\"ham\",\"ham\",\"ham\",\"spam\",\"ham\",\"ham\",\"ham\",\"ham\",\"ham\",\"ham\",\"ham\",\"ham\",\"ham\",\"ham\",\"ham\",\"ham\",\"ham\",\"spam\",\"ham\",\"ham\",\"spam\",\"ham\",\"spam\",\"ham\",\"spam\",\"ham\",\"spam\",\"ham\",\"ham\",\"ham\",\"ham\",\"ham\",\"ham\",\"ham\",\"ham\",\"spam\",\"ham\",\"ham\",\"ham\",\"ham\",\"ham\",\"ham\",\"ham\",\"ham\",\"ham\",\"ham\",\"ham\",\"ham\",\"ham\",\"ham\",\"ham\",\"ham\",\"ham\",\"ham\",\"ham\",\"ham\",\"ham\",\"spam\",\"ham\",\"ham\",\"ham\",\"ham\",\"ham\",\"ham\",\"ham\",\"spam\",\"ham\",\"ham\",\"ham\",\"ham\",\"ham\",\"ham\",\"ham\",\"spam\",\"ham\",\"ham\",\"spam\",\"ham\",\"ham\",\"ham\",\"ham\",\"ham\",\"ham\",\"ham\",\"ham\",\"ham\",\"ham\",\"ham\",\"ham\",\"spam\",\"ham\",\"ham\",\"ham\",\"ham\",\"spam\",\"ham\",\"ham\",\"ham\",\"ham\",\"ham\",\"ham\",\"ham\",\"ham\",\"ham\",\"ham\",\"ham\",\"ham\",\"spam\",\"ham\",\"ham\",\"ham\",\"ham\",\"ham\",\"ham\",\"ham\",\"ham\",\"ham\",\"spam\",\"ham\",\"spam\",\"spam\",\"ham\",\"ham\",\"ham\",\"ham\",\"ham\",\"ham\",\"spam\",\"ham\",\"spam\",\"ham\",\"spam\",\"ham\",\"spam\",\"ham\",\"ham\",\"ham\",\"ham\",\"ham\",\"ham\",\"ham\",\"ham\",\"ham\",\"spam\",\"ham\",\"ham\",\"ham\",\"ham\",\"ham\",\"ham\",\"ham\",\"ham\",\"ham\",\"ham\",\"ham\",\"ham\",\"ham\",\"ham\",\"ham\",\"ham\",\"ham\",\"ham\",\"ham\",\"ham\",\"ham\",\"ham\",\"spam\",\"ham\",\"ham\",\"ham\",\"ham\",\"ham\",\"ham\",\"ham\",\"ham\",\"ham\",\"ham\",\"ham\",\"spam\",\"ham\",\"ham\",\"spam\",\"ham\",\"ham\",\"ham\",\"spam\",\"ham\",\"ham\",\"ham\",\"ham\",\"ham\",\"ham\",\"ham\",\"spam\",\"spam\",\"spam\",\"ham\",\"ham\",\"ham\",\"ham\",\"spam\",\"ham\",\"ham\",\"ham\",\"ham\",\"ham\",\"ham\",\"ham\",\"ham\",\"spam\",\"ham\",\"ham\",\"ham\",\"spam\",\"ham\",\"ham\",\"ham\",\"ham\",\"ham\",\"ham\",\"ham\",\"ham\",\"ham\",\"ham\",\"ham\",\"ham\",\"ham\",\"ham\",\"ham\",\"ham\",\"ham\",\"spam\",\"spam\",\"ham\",\"ham\",\"ham\",\"ham\",\"spam\",\"ham\",\"ham\",\"ham\",\"ham\",\"ham\",\"ham\",\"ham\",\"ham\",\"ham\",\"ham\",\"ham\",\"ham\",\"spam\",\"ham\",\"spam\",\"ham\",\"ham\",\"ham\",\"ham\",\"ham\",\"ham\",\"ham\",\"ham\",\"ham\",\"spam\",\"ham\",\"ham\",\"ham\",\"ham\",\"ham\",\"ham\",\"ham\",\"ham\",\"ham\",\"ham\",\"ham\",\"spam\",\"spam\",\"ham\",\"ham\",\"ham\",\"ham\",\"ham\",\"ham\",\"ham\",\"ham\",\"ham\",\"ham\",\"spam\",\"ham\",\"ham\",\"ham\",\"ham\",\"ham\",\"spam\",\"ham\",\"ham\",\"ham\",\"ham\",\"ham\",\"ham\",\"ham\",\"ham\",\"ham\",\"ham\",\"ham\",\"ham\",\"ham\",\"ham\",\"ham\",\"ham\",\"ham\",\"ham\",\"spam\",\"spam\",\"ham\",\"ham\",\"spam\",\"ham\",\"ham\",\"ham\",\"spam\",\"ham\",\"spam\",\"ham\",\"ham\",\"ham\",\"ham\",\"ham\",\"ham\",\"ham\",\"ham\",\"ham\",\"ham\",\"ham\",\"spam\",\"ham\",\"ham\",\"ham\",\"ham\",\"ham\",\"ham\",\"spam\",\"ham\",\"ham\",\"ham\",\"ham\",\"ham\",\"ham\",\"ham\",\"ham\",\"ham\",\"spam\",\"ham\",\"ham\",\"spam\",\"spam\",\"ham\",\"ham\",\"ham\",\"ham\",\"ham\",\"ham\",\"ham\",\"ham\",\"spam\",\"ham\",\"spam\",\"ham\",\"ham\",\"spam\",\"ham\",\"ham\",\"ham\",\"ham\",\"ham\",\"ham\",\"ham\",\"ham\",\"ham\",\"ham\",\"ham\",\"ham\",\"ham\",\"ham\",\"ham\",\"ham\",\"ham\",\"spam\",\"ham\",\"ham\",\"ham\",\"spam\",\"spam\",\"ham\",\"ham\",\"ham\",\"ham\",\"ham\",\"ham\",\"ham\",\"spam\",\"ham\",\"ham\",\"ham\",\"spam\",\"ham\",\"spam\",\"spam\",\"ham\",\"ham\",\"ham\",\"ham\",\"ham\",\"ham\",\"ham\",\"ham\",\"spam\",\"ham\",\"spam\",\"ham\",\"ham\",\"ham\",\"ham\",\"ham\",\"ham\",\"ham\",\"spam\",\"spam\",\"ham\",\"ham\",\"ham\",\"ham\",\"ham\",\"ham\",\"spam\",\"ham\",\"spam\",\"ham\",\"ham\",\"ham\",\"spam\",\"ham\",\"spam\",\"spam\",\"ham\",\"ham\",\"ham\",\"spam\",\"ham\",\"ham\",\"ham\",\"ham\",\"ham\",\"spam\",\"ham\",\"ham\",\"ham\",\"ham\",\"ham\",\"spam\",\"ham\",\"ham\",\"ham\",\"ham\",\"ham\",\"ham\",\"ham\",\"ham\",\"ham\",\"spam\",\"ham\",\"spam\",\"spam\",\"spam\",\"ham\",\"ham\",\"ham\",\"ham\",\"ham\",\"spam\",\"ham\",\"spam\",\"spam\",\"spam\",\"spam\",\"ham\",\"ham\",\"ham\",\"ham\",\"ham\",\"ham\",\"ham\",\"ham\",\"ham\",\"ham\",\"ham\",\"ham\",\"ham\",\"ham\",\"ham\",\"ham\",\"ham\",\"ham\",\"spam\",\"ham\",\"ham\",\"ham\",\"ham\",\"ham\",\"ham\",\"spam\",\"ham\",\"ham\",\"spam\",\"ham\",\"ham\",\"ham\",\"ham\",\"ham\",\"ham\",\"ham\",\"ham\",\"ham\",\"ham\",\"ham\",\"ham\",\"ham\",\"ham\",\"ham\",\"ham\",\"ham\",\"ham\",\"ham\",\"spam\",\"ham\",\"ham\",\"ham\",\"ham\",\"spam\",\"ham\",\"ham\",\"ham\",\"spam\",\"ham\",\"ham\",\"ham\",\"spam\",\"ham\",\"ham\",\"ham\",\"spam\",\"ham\",\"ham\",\"ham\",\"ham\",\"ham\",\"ham\",\"ham\",\"spam\",\"ham\",\"ham\",\"ham\",\"ham\",\"ham\",\"ham\",\"spam\",\"ham\",\"ham\",\"ham\",\"ham\",\"ham\",\"ham\",\"ham\",\"ham\",\"ham\",\"ham\",\"ham\",\"ham\",\"ham\",\"ham\",\"ham\",\"ham\",\"ham\",\"ham\",\"ham\",\"ham\",\"spam\",\"ham\",\"ham\",\"ham\",\"ham\",\"ham\",\"ham\",\"ham\",\"ham\",\"ham\",\"ham\",\"ham\",\"ham\",\"ham\",\"ham\",\"ham\",\"ham\",\"ham\",\"ham\",\"spam\",\"ham\",\"ham\",\"ham\",\"ham\",\"spam\",\"ham\",\"ham\",\"ham\",\"ham\",\"ham\",\"ham\",\"ham\",\"ham\",\"ham\",\"spam\",\"ham\",\"ham\",\"ham\",\"ham\",\"spam\",\"ham\",\"ham\",\"ham\",\"ham\",\"ham\",\"ham\",\"ham\",\"ham\",\"ham\",\"ham\",\"ham\",\"ham\",\"ham\",\"ham\",\"ham\",\"ham\",\"ham\",\"ham\",\"ham\",\"ham\",\"ham\",\"ham\",\"spam\",\"ham\",\"ham\",\"spam\",\"ham\",\"spam\",\"ham\",\"ham\",\"ham\",\"ham\",\"ham\",\"ham\",\"ham\",\"ham\",\"ham\",\"spam\",\"ham\",\"ham\",\"ham\",\"spam\",\"ham\",\"ham\",\"ham\",\"ham\",\"spam\",\"ham\",\"ham\",\"spam\",\"spam\",\"ham\",\"ham\",\"ham\",\"ham\",\"ham\",\"ham\",\"ham\",\"ham\",\"ham\",\"ham\",\"ham\",\"ham\",\"ham\",\"ham\",\"ham\",\"spam\",\"ham\",\"spam\",\"ham\",\"ham\",\"ham\",\"ham\",\"ham\",\"spam\",\"ham\",\"ham\",\"ham\",\"ham\",\"ham\",\"ham\",\"ham\",\"spam\",\"ham\",\"ham\",\"ham\",\"ham\",\"ham\",\"ham\",\"ham\",\"ham\",\"ham\",\"ham\",\"ham\",\"ham\",\"spam\",\"ham\",\"spam\",\"ham\",\"spam\",\"ham\",\"ham\",\"ham\",\"spam\",\"ham\",\"ham\",\"spam\",\"ham\",\"ham\",\"ham\",\"ham\",\"ham\",\"ham\",\"ham\",\"spam\",\"ham\",\"ham\",\"ham\",\"ham\",\"spam\",\"ham\",\"ham\",\"ham\",\"spam\",\"ham\",\"ham\",\"ham\",\"ham\",\"ham\",\"ham\",\"ham\",\"spam\",\"ham\",\"ham\",\"ham\",\"ham\",\"ham\",\"ham\",\"ham\",\"ham\",\"spam\",\"ham\",\"ham\",\"ham\",\"ham\",\"ham\",\"ham\",\"ham\",\"ham\",\"spam\",\"ham\",\"ham\",\"ham\",\"ham\",\"ham\",\"ham\",\"ham\",\"ham\",\"ham\",\"ham\",\"ham\",\"ham\",\"ham\",\"ham\",\"ham\",\"ham\",\"ham\",\"ham\",\"ham\",\"ham\",\"ham\",\"spam\",\"ham\",\"spam\",\"ham\",\"ham\",\"ham\",\"ham\",\"ham\",\"ham\",\"ham\",\"ham\",\"spam\",\"ham\",\"spam\",\"ham\",\"ham\",\"ham\",\"ham\",\"ham\",\"ham\",\"ham\",\"ham\",\"ham\",\"spam\",\"ham\",\"ham\",\"ham\",\"spam\",\"ham\",\"ham\",\"ham\",\"spam\",\"ham\",\"spam\",\"ham\",\"spam\",\"ham\",\"ham\",\"ham\",\"ham\",\"ham\",\"ham\",\"ham\",\"ham\",\"ham\",\"ham\",\"ham\",\"ham\",\"ham\",\"ham\",\"ham\",\"ham\",\"ham\",\"ham\",\"ham\",\"ham\",\"ham\",\"ham\",\"spam\",\"ham\",\"ham\",\"ham\",\"ham\",\"ham\",\"ham\",\"ham\",\"ham\",\"ham\",\"ham\",\"spam\",\"ham\",\"ham\",\"ham\",\"ham\",\"ham\",\"spam\",\"ham\",\"ham\",\"ham\",\"ham\",\"spam\",\"ham\",\"ham\",\"ham\",\"ham\",\"ham\",\"ham\",\"ham\",\"ham\",\"ham\",\"ham\",\"ham\",\"ham\",\"ham\",\"ham\",\"ham\",\"ham\",\"ham\",\"ham\",\"ham\",\"ham\",\"ham\",\"ham\",\"ham\",\"ham\",\"ham\",\"ham\",\"ham\",\"ham\",\"ham\",\"ham\",\"ham\",\"ham\",\"spam\",\"spam\",\"ham\",\"ham\",\"ham\",\"ham\",\"ham\",\"ham\",\"ham\",\"ham\",\"ham\",\"spam\",\"ham\",\"ham\",\"ham\",\"ham\",\"ham\",\"ham\",\"ham\",\"ham\",\"ham\",\"spam\",\"ham\",\"ham\",\"ham\",\"ham\",\"ham\",\"ham\",\"ham\",\"ham\",\"ham\",\"ham\",\"ham\",\"ham\",\"ham\",\"ham\",\"ham\",\"ham\",\"ham\",\"ham\",\"ham\",\"ham\",\"ham\",\"spam\",\"ham\",\"ham\",\"ham\",\"ham\",\"ham\",\"ham\",\"ham\",\"ham\",\"ham\",\"ham\",\"ham\",\"ham\",\"ham\",\"ham\",\"ham\",\"spam\",\"ham\",\"ham\",\"ham\",\"ham\",\"ham\",\"ham\",\"ham\",\"spam\",\"spam\",\"ham\",\"ham\",\"spam\",\"ham\",\"spam\",\"ham\",\"ham\",\"ham\",\"ham\",\"ham\",\"ham\",\"ham\",\"ham\",\"ham\",\"ham\",\"ham\",\"ham\",\"ham\",\"ham\",\"ham\",\"ham\",\"ham\",\"ham\",\"ham\",\"ham\",\"ham\",\"ham\",\"ham\",\"ham\",\"ham\",\"ham\",\"spam\",\"ham\",\"ham\",\"ham\",\"ham\",\"ham\",\"ham\",\"spam\",\"ham\",\"ham\",\"ham\",\"ham\",\"ham\",\"ham\",\"ham\",\"ham\",\"spam\",\"ham\",\"ham\",\"ham\",\"ham\",\"ham\",\"ham\",\"spam\",\"ham\",\"ham\",\"ham\",\"ham\",\"ham\",\"ham\",\"ham\",\"ham\",\"ham\",\"ham\",\"ham\",\"ham\",\"ham\",\"spam\",\"ham\",\"ham\",\"ham\",\"ham\",\"spam\",\"ham\",\"ham\",\"ham\",\"ham\",\"ham\",\"ham\",\"spam\",\"ham\",\"spam\",\"ham\",\"spam\",\"ham\",\"ham\",\"spam\",\"ham\",\"ham\",\"spam\",\"ham\",\"ham\",\"spam\",\"ham\",\"ham\",\"ham\",\"ham\",\"ham\",\"ham\",\"ham\",\"ham\",\"ham\",\"ham\",\"ham\",\"ham\",\"ham\",\"ham\",\"ham\",\"ham\",\"ham\",\"ham\",\"ham\",\"ham\",\"ham\",\"ham\",\"spam\",\"ham\",\"ham\",\"ham\",\"ham\",\"ham\",\"ham\",\"ham\",\"spam\",\"ham\",\"spam\",\"ham\",\"ham\",\"ham\",\"ham\",\"spam\",\"ham\",\"ham\",\"ham\",\"ham\",\"ham\",\"ham\",\"ham\",\"ham\",\"ham\",\"ham\",\"spam\",\"ham\",\"ham\",\"spam\",\"ham\",\"ham\",\"ham\",\"ham\",\"ham\",\"ham\",\"ham\",\"ham\",\"ham\",\"ham\",\"ham\",\"ham\",\"ham\",\"ham\",\"spam\",\"ham\",\"ham\",\"ham\",\"ham\",\"ham\",\"ham\",\"ham\",\"spam\",\"ham\",\"ham\",\"ham\",\"ham\",\"ham\",\"ham\",\"ham\",\"ham\",\"ham\",\"ham\",\"ham\",\"ham\",\"ham\",\"ham\",\"ham\",\"ham\",\"ham\",\"ham\",\"ham\",\"ham\",\"ham\",\"ham\",\"ham\",\"ham\",\"ham\",\"ham\",\"ham\",\"ham\",\"spam\",\"spam\",\"ham\",\"ham\",\"ham\",\"ham\",\"ham\",\"ham\",\"ham\",\"ham\",\"ham\",\"ham\",\"ham\",\"ham\",\"ham\",\"ham\",\"ham\",\"ham\",\"ham\",\"ham\",\"ham\",\"spam\",\"ham\",\"ham\",\"spam\",\"spam\",\"ham\",\"ham\",\"ham\",\"ham\",\"ham\",\"ham\",\"ham\",\"ham\",\"ham\",\"ham\",\"ham\",\"ham\",\"ham\",\"ham\",\"spam\",\"ham\",\"ham\",\"ham\",\"ham\",\"ham\",\"ham\",\"ham\",\"ham\",\"ham\",\"spam\",\"ham\",\"spam\",\"ham\",\"ham\",\"spam\",\"ham\",\"ham\",\"ham\",\"ham\",\"ham\",\"ham\",\"spam\",\"ham\",\"ham\",\"spam\",\"ham\",\"spam\",\"ham\",\"ham\",\"ham\",\"ham\",\"ham\",\"ham\",\"ham\",\"ham\",\"ham\",\"ham\",\"ham\",\"ham\",\"spam\",\"ham\",\"ham\",\"ham\",\"ham\",\"ham\",\"spam\",\"ham\",\"ham\",\"ham\",\"spam\",\"ham\",\"ham\",\"ham\",\"ham\",\"ham\",\"ham\",\"ham\",\"ham\",\"ham\",\"spam\",\"spam\",\"ham\",\"ham\",\"ham\",\"ham\",\"ham\",\"ham\",\"ham\",\"ham\",\"ham\",\"ham\",\"ham\",\"ham\",\"spam\",\"spam\",\"ham\",\"ham\",\"spam\",\"ham\",\"ham\",\"ham\",\"ham\",\"ham\",\"ham\",\"ham\",\"spam\",\"ham\",\"ham\",\"ham\",\"ham\",\"ham\",\"ham\",\"ham\",\"ham\",\"ham\",\"ham\",\"ham\",\"ham\",\"ham\",\"ham\",\"spam\",\"ham\",\"ham\",\"ham\",\"spam\",\"ham\",\"ham\",\"ham\",\"ham\",\"ham\",\"ham\",\"ham\",\"ham\",\"ham\",\"ham\",\"ham\",\"ham\",\"ham\",\"ham\",\"ham\",\"spam\",\"ham\",\"ham\",\"ham\",\"ham\",\"ham\",\"ham\",\"spam\",\"ham\",\"ham\",\"ham\",\"spam\",\"ham\",\"ham\",\"ham\",\"ham\",\"ham\",\"ham\",\"ham\",\"ham\",\"ham\",\"ham\",\"ham\",\"ham\",\"ham\",\"ham\",\"ham\",\"ham\",\"ham\",\"ham\",\"ham\",\"spam\",\"ham\",\"spam\",\"ham\",\"ham\",\"ham\",\"ham\",\"ham\",\"ham\",\"ham\",\"ham\",\"ham\",\"spam\",\"spam\",\"ham\",\"spam\",\"spam\",\"ham\",\"ham\",\"ham\",\"ham\",\"ham\",\"ham\",\"ham\",\"ham\",\"ham\",\"ham\",\"ham\",\"spam\",\"ham\",\"ham\",\"ham\",\"ham\",\"ham\",\"ham\",\"ham\",\"ham\",\"ham\",\"ham\",\"ham\",\"ham\",\"ham\",\"spam\",\"ham\",\"ham\",\"ham\",\"ham\",\"ham\",\"ham\",\"ham\",\"ham\",\"ham\",\"ham\",\"ham\",\"ham\",\"ham\",\"ham\",\"ham\",\"ham\",\"ham\",\"ham\",\"ham\",\"ham\",\"ham\",\"ham\",\"spam\",\"ham\",\"ham\",\"ham\",\"ham\",\"ham\",\"ham\",\"ham\",\"ham\",\"spam\",\"ham\",\"ham\",\"ham\",\"ham\",\"ham\",\"ham\",\"ham\",\"ham\",\"spam\",\"ham\",\"ham\",\"ham\",\"ham\",\"spam\",\"ham\",\"ham\",\"ham\",\"ham\",\"ham\",\"ham\",\"ham\",\"ham\",\"ham\",\"ham\",\"ham\",\"ham\",\"ham\",\"ham\",\"ham\",\"ham\",\"ham\",\"ham\",\"ham\",\"ham\",\"spam\",\"spam\",\"spam\",\"ham\",\"ham\",\"ham\",\"spam\",\"ham\",\"ham\",\"ham\",\"ham\",\"ham\",\"ham\",\"spam\",\"spam\",\"ham\",\"ham\",\"ham\",\"ham\",\"spam\",\"ham\",\"spam\",\"ham\",\"ham\",\"ham\",\"ham\",\"ham\",\"ham\",\"ham\",\"ham\",\"spam\",\"ham\",\"ham\",\"ham\",\"ham\",\"ham\",\"ham\",\"ham\",\"ham\",\"ham\",\"ham\",\"spam\",\"ham\",\"ham\",\"ham\",\"ham\",\"ham\",\"ham\",\"ham\",\"ham\",\"ham\",\"ham\",\"ham\",\"ham\",\"ham\",\"spam\",\"spam\",\"ham\",\"ham\",\"ham\",\"ham\",\"ham\",\"ham\",\"ham\",\"ham\",\"ham\",\"spam\",\"ham\",\"spam\",\"ham\",\"ham\",\"ham\",\"ham\",\"ham\",\"ham\",\"ham\",\"ham\",\"ham\",\"ham\",\"ham\",\"ham\",\"ham\",\"ham\",\"ham\",\"ham\",\"ham\",\"ham\",\"spam\",\"ham\",\"spam\",\"ham\",\"ham\",\"ham\",\"ham\",\"ham\",\"ham\",\"spam\",\"ham\",\"ham\",\"ham\",\"ham\",\"ham\",\"ham\",\"ham\",\"spam\",\"ham\",\"ham\",\"ham\",\"ham\",\"ham\",\"ham\",\"spam\",\"ham\",\"ham\",\"ham\",\"ham\",\"ham\",\"ham\",\"ham\",\"spam\",\"ham\",\"ham\",\"ham\",\"ham\",\"ham\",\"ham\",\"ham\",\"ham\",\"ham\",\"spam\",\"ham\",\"ham\",\"ham\",\"ham\",\"ham\",\"ham\",\"ham\",\"ham\",\"ham\",\"ham\",\"spam\",\"ham\",\"ham\",\"ham\",\"ham\",\"ham\",\"ham\",\"ham\",\"ham\",\"spam\",\"ham\",\"ham\",\"ham\",\"ham\",\"ham\",\"ham\",\"ham\",\"ham\",\"ham\",\"ham\",\"ham\",\"ham\",\"ham\",\"ham\",\"ham\",\"ham\",\"ham\",\"ham\",\"ham\",\"ham\",\"spam\",\"ham\",\"ham\",\"ham\",\"ham\",\"ham\",\"ham\",\"ham\",\"ham\",\"spam\",\"ham\",\"ham\",\"ham\",\"ham\",\"ham\",\"ham\",\"ham\",\"ham\",\"ham\",\"ham\",\"spam\",\"ham\",\"ham\",\"ham\",\"ham\",\"ham\",\"spam\",\"spam\",\"ham\",\"ham\",\"spam\",\"ham\",\"ham\",\"ham\",\"ham\",\"spam\",\"ham\",\"ham\",\"ham\",\"ham\",\"ham\",\"ham\",\"ham\",\"ham\",\"ham\",\"spam\",\"ham\",\"ham\",\"ham\",\"ham\",\"spam\",\"spam\",\"ham\",\"ham\",\"ham\",\"ham\",\"spam\",\"ham\",\"ham\",\"ham\",\"ham\",\"ham\",\"ham\",\"ham\",\"ham\",\"spam\",\"ham\",\"ham\",\"ham\",\"spam\",\"ham\",\"spam\",\"ham\",\"ham\",\"ham\",\"spam\",\"ham\",\"ham\",\"ham\",\"ham\",\"spam\",\"ham\",\"ham\",\"ham\",\"ham\",\"ham\",\"ham\",\"ham\",\"ham\",\"spam\",\"ham\",\"ham\",\"ham\",\"ham\",\"ham\",\"ham\",\"ham\",\"ham\",\"ham\",\"ham\",\"ham\",\"spam\",\"spam\",\"ham\",\"ham\",\"ham\",\"ham\",\"ham\",\"ham\",\"ham\",\"ham\",\"ham\",\"ham\",\"ham\",\"ham\",\"ham\",\"spam\",\"ham\",\"ham\",\"ham\",\"ham\",\"ham\",\"ham\",\"ham\",\"ham\",\"ham\",\"spam\",\"ham\",\"ham\",\"ham\",\"ham\",\"ham\",\"ham\",\"ham\",\"ham\",\"ham\",\"ham\",\"ham\",\"ham\",\"ham\",\"ham\",\"ham\",\"ham\",\"ham\",\"ham\",\"spam\",\"ham\",\"ham\",\"ham\",\"ham\",\"ham\",\"ham\",\"ham\",\"ham\",\"ham\",\"ham\",\"ham\",\"ham\",\"ham\",\"ham\",\"ham\",\"ham\",\"ham\",\"spam\",\"ham\",\"spam\",\"ham\",\"ham\",\"ham\",\"ham\",\"ham\",\"ham\",\"ham\",\"ham\",\"ham\",\"ham\",\"spam\",\"ham\",\"ham\",\"ham\",\"spam\",\"ham\",\"ham\",\"ham\",\"ham\",\"ham\",\"ham\",\"ham\",\"ham\",\"ham\",\"ham\",\"ham\",\"ham\",\"ham\",\"ham\",\"ham\",\"ham\",\"ham\",\"ham\",\"ham\",\"ham\",\"ham\",\"ham\",\"spam\",\"spam\",\"ham\",\"spam\",\"ham\",\"ham\",\"ham\",\"ham\",\"ham\",\"ham\",\"ham\",\"ham\",\"ham\",\"ham\",\"spam\",\"ham\",\"ham\",\"spam\",\"ham\",\"ham\",\"spam\",\"ham\",\"spam\",\"ham\",\"ham\",\"ham\",\"ham\",\"ham\",\"ham\",\"ham\",\"ham\",\"ham\",\"ham\",\"ham\",\"ham\",\"ham\",\"ham\",\"ham\",\"ham\",\"ham\",\"ham\",\"ham\",\"ham\",\"spam\",\"ham\",\"ham\",\"ham\",\"ham\",\"spam\",\"ham\",\"spam\",\"ham\",\"ham\",\"spam\",\"ham\",\"ham\",\"ham\",\"ham\",\"ham\",\"ham\",\"ham\",\"spam\",\"spam\",\"ham\",\"spam\",\"spam\",\"spam\",\"ham\",\"ham\",\"ham\",\"ham\",\"ham\",\"ham\",\"ham\",\"ham\",\"ham\",\"ham\",\"ham\",\"ham\",\"ham\",\"ham\",\"spam\",\"ham\",\"ham\",\"ham\",\"ham\",\"ham\",\"ham\",\"ham\",\"ham\",\"ham\",\"ham\",\"ham\",\"ham\",\"ham\",\"ham\",\"spam\",\"ham\",\"ham\",\"ham\",\"ham\",\"ham\",\"ham\",\"ham\",\"ham\",\"spam\",\"ham\",\"spam\",\"ham\",\"ham\",\"ham\",\"ham\",\"ham\",\"spam\",\"ham\",\"ham\",\"ham\",\"spam\",\"ham\",\"ham\",\"spam\",\"ham\",\"ham\",\"ham\",\"ham\",\"ham\",\"ham\",\"spam\",\"ham\",\"ham\",\"ham\",\"spam\",\"ham\",\"ham\",\"ham\",\"ham\",\"ham\",\"ham\",\"ham\",\"spam\",\"ham\",\"ham\",\"ham\",\"ham\",\"ham\",\"ham\",\"ham\",\"ham\",\"ham\",\"ham\",\"ham\",\"ham\",\"ham\",\"ham\",\"ham\",\"spam\",\"ham\",\"ham\",\"ham\",\"ham\",\"ham\",\"ham\",\"ham\",\"ham\",\"ham\",\"ham\",\"spam\",\"ham\",\"ham\",\"ham\",\"ham\",\"ham\",\"ham\",\"spam\",\"ham\",\"ham\",\"ham\",\"ham\",\"ham\",\"ham\",\"spam\",\"ham\",\"ham\",\"spam\",\"ham\",\"ham\",\"ham\",\"ham\",\"ham\",\"ham\",\"ham\",\"spam\",\"ham\",\"ham\",\"ham\",\"ham\",\"ham\",\"ham\",\"ham\",\"ham\",\"ham\",\"ham\",\"ham\",\"ham\",\"ham\",\"ham\",\"ham\",\"ham\",\"ham\",\"ham\",\"ham\",\"ham\",\"ham\",\"ham\",\"ham\",\"ham\",\"ham\",\"ham\",\"ham\",\"ham\",\"ham\",\"ham\",\"ham\",\"ham\",\"ham\",\"ham\",\"spam\",\"ham\",\"ham\",\"ham\",\"ham\",\"ham\",\"ham\",\"spam\",\"spam\",\"ham\",\"ham\",\"ham\",\"ham\",\"ham\",\"ham\",\"ham\",\"ham\",\"ham\",\"ham\",\"ham\",\"ham\",\"ham\",\"ham\",\"spam\",\"ham\",\"ham\",\"ham\",\"ham\",\"ham\",\"ham\",\"ham\",\"ham\",\"ham\",\"ham\",\"ham\",\"ham\",\"ham\",\"ham\",\"ham\",\"ham\",\"ham\",\"spam\",\"ham\",\"ham\",\"ham\",\"ham\",\"ham\",\"ham\",\"ham\",\"ham\",\"ham\",\"ham\",\"spam\",\"ham\",\"ham\",\"ham\",\"ham\",\"ham\",\"ham\",\"ham\",\"ham\",\"ham\",\"ham\",\"ham\",\"ham\",\"ham\",\"ham\",\"ham\",\"ham\",\"ham\",\"ham\",\"ham\",\"ham\",\"ham\",\"ham\",\"spam\",\"ham\",\"ham\",\"ham\",\"ham\",\"ham\",\"ham\",\"ham\",\"spam\",\"ham\",\"spam\",\"ham\",\"ham\",\"ham\",\"ham\",\"ham\",\"ham\",\"ham\",\"ham\",\"ham\",\"ham\",\"ham\",\"ham\",\"ham\",\"ham\",\"ham\",\"spam\",\"spam\",\"ham\",\"ham\",\"ham\",\"ham\",\"ham\",\"spam\",\"ham\",\"spam\",\"ham\",\"ham\",\"ham\",\"ham\",\"ham\",\"ham\",\"spam\",\"ham\",\"ham\",\"ham\",\"ham\",\"ham\",\"spam\",\"ham\",\"ham\",\"ham\",\"ham\",\"ham\",\"ham\",\"ham\",\"ham\",\"ham\",\"ham\",\"ham\",\"ham\",\"ham\",\"ham\",\"ham\",\"spam\",\"ham\",\"ham\",\"ham\",\"ham\",\"ham\",\"ham\",\"ham\",\"spam\",\"ham\",\"ham\",\"ham\",\"ham\",\"ham\",\"spam\",\"ham\",\"ham\",\"ham\",\"ham\",\"ham\",\"spam\",\"ham\",\"ham\",\"ham\",\"ham\",\"ham\",\"ham\",\"ham\",\"ham\",\"ham\",\"spam\",\"ham\",\"ham\",\"ham\",\"ham\",\"ham\",\"ham\",\"ham\",\"ham\",\"ham\",\"ham\",\"ham\",\"ham\",\"ham\",\"ham\",\"ham\",\"ham\",\"ham\",\"ham\",\"ham\",\"ham\",\"spam\",\"spam\",\"ham\",\"ham\",\"ham\",\"ham\",\"spam\",\"spam\",\"ham\",\"ham\",\"ham\",\"ham\",\"ham\",\"ham\",\"ham\",\"ham\",\"ham\",\"spam\",\"ham\",\"ham\",\"ham\",\"ham\",\"ham\",\"spam\",\"ham\",\"ham\",\"ham\",\"ham\",\"spam\",\"ham\",\"spam\",\"ham\",\"ham\",\"ham\",\"ham\",\"ham\",\"spam\",\"ham\",\"ham\",\"ham\",\"ham\",\"ham\",\"spam\",\"ham\",\"ham\",\"spam\",\"ham\",\"ham\",\"spam\",\"ham\",\"ham\",\"ham\",\"ham\",\"ham\",\"ham\",\"ham\",\"spam\",\"ham\",\"ham\",\"ham\",\"ham\",\"ham\",\"ham\",\"ham\",\"ham\",\"ham\",\"spam\",\"spam\",\"ham\",\"ham\",\"ham\",\"ham\",\"ham\",\"ham\",\"ham\",\"ham\",\"ham\",\"ham\",\"ham\",\"spam\",\"ham\",\"ham\",\"ham\",\"ham\",\"ham\",\"ham\",\"ham\",\"ham\",\"ham\",\"ham\",\"ham\",\"ham\",\"ham\",\"ham\",\"ham\",\"ham\",\"ham\",\"ham\",\"ham\",\"ham\",\"ham\",\"ham\",\"ham\",\"ham\",\"spam\",\"ham\",\"ham\",\"spam\",\"ham\",\"ham\",\"ham\",\"spam\",\"ham\",\"ham\",\"ham\",\"ham\",\"spam\",\"ham\",\"ham\",\"ham\",\"ham\",\"ham\",\"ham\",\"ham\",\"ham\",\"ham\",\"ham\",\"ham\",\"spam\",\"ham\",\"ham\",\"ham\",\"ham\",\"ham\",\"ham\",\"ham\",\"ham\",\"ham\",\"ham\",\"ham\",\"spam\",\"ham\",\"ham\",\"ham\",\"spam\",\"ham\",\"ham\",\"ham\",\"ham\",\"ham\",\"ham\",\"ham\",\"ham\",\"ham\",\"spam\",\"ham\",\"ham\",\"spam\",\"ham\",\"spam\",\"ham\",\"ham\",\"spam\",\"ham\",\"ham\",\"ham\",\"spam\",\"ham\",\"ham\",\"ham\",\"spam\",\"ham\",\"ham\",\"ham\",\"ham\",\"ham\",\"ham\",\"ham\",\"ham\",\"ham\",\"ham\",\"ham\",\"ham\",\"ham\",\"spam\",\"ham\",\"spam\",\"ham\",\"ham\",\"ham\",\"ham\",\"ham\",\"ham\",\"ham\",\"ham\",\"ham\",\"ham\",\"ham\",\"ham\",\"spam\",\"ham\",\"ham\",\"ham\",\"ham\",\"ham\",\"ham\",\"ham\",\"spam\",\"ham\",\"ham\",\"ham\",\"ham\",\"ham\",\"ham\",\"ham\",\"spam\",\"ham\",\"spam\",\"ham\",\"ham\",\"ham\",\"ham\",\"ham\",\"ham\",\"ham\",\"ham\",\"ham\",\"ham\",\"ham\",\"ham\",\"ham\",\"ham\",\"ham\",\"spam\",\"ham\",\"ham\",\"ham\",\"ham\",\"spam\",\"ham\",\"ham\",\"ham\",\"ham\",\"ham\",\"ham\",\"ham\",\"spam\",\"ham\",\"ham\",\"ham\",\"ham\",\"spam\",\"ham\",\"ham\",\"ham\",\"ham\",\"ham\",\"ham\",\"ham\",\"ham\",\"ham\",\"ham\",\"ham\",\"ham\",\"ham\",\"ham\",\"ham\",\"ham\",\"ham\",\"ham\",\"ham\",\"ham\",\"ham\",\"ham\",\"ham\",\"ham\",\"ham\",\"spam\",\"ham\",\"ham\",\"ham\",\"spam\",\"ham\",\"ham\",\"ham\",\"ham\",\"ham\",\"ham\",\"ham\",\"ham\",\"spam\",\"ham\",\"ham\",\"ham\",\"ham\",\"spam\",\"ham\",\"ham\",\"ham\",\"ham\",\"ham\",\"spam\",\"ham\",\"ham\",\"ham\",\"ham\",\"ham\",\"ham\",\"ham\",\"ham\",\"ham\",\"ham\",\"ham\",\"ham\",\"ham\",\"ham\",\"spam\",\"ham\",\"ham\",\"ham\",\"ham\",\"ham\",\"ham\",\"spam\",\"ham\",\"ham\",\"spam\",\"ham\",\"spam\",\"ham\",\"ham\",\"ham\",\"ham\",\"ham\",\"ham\",\"ham\",\"ham\",\"ham\",\"spam\",\"ham\",\"ham\",\"spam\",\"ham\",\"ham\",\"ham\",\"spam\",\"spam\",\"ham\",\"ham\",\"ham\",\"spam\",\"ham\",\"ham\",\"ham\",\"ham\",\"ham\",\"ham\",\"ham\",\"ham\",\"ham\",\"ham\",\"ham\",\"ham\",\"ham\",\"ham\",\"ham\",\"ham\",\"ham\",\"ham\",\"ham\",\"ham\",\"ham\",\"ham\",\"ham\",\"ham\",\"ham\",\"ham\",\"ham\",\"ham\",\"ham\",\"ham\",\"ham\",\"ham\",\"ham\",\"ham\",\"ham\",\"ham\",\"ham\",\"ham\",\"ham\",\"ham\",\"ham\",\"spam\",\"ham\",\"ham\",\"spam\",\"ham\",\"ham\",\"ham\",\"ham\",\"spam\",\"ham\",\"ham\",\"spam\",\"ham\",\"ham\",\"ham\",\"ham\",\"ham\",\"ham\",\"ham\",\"ham\",\"ham\",\"ham\",\"ham\",\"ham\",\"ham\",\"ham\",\"ham\",\"ham\",\"ham\",\"ham\",\"ham\",\"ham\",\"ham\",\"ham\",\"ham\",\"ham\",\"spam\",\"ham\",\"ham\",\"ham\",\"ham\",\"ham\",\"ham\",\"ham\",\"ham\",\"ham\",\"ham\",\"ham\",\"ham\",\"ham\",\"ham\",\"ham\",\"ham\",\"ham\",\"ham\",\"spam\",\"ham\",\"ham\",\"ham\",\"ham\",\"ham\",\"ham\",\"ham\",\"ham\",\"ham\",\"ham\",\"ham\",\"spam\",\"ham\",\"ham\",\"spam\",\"ham\",\"ham\",\"ham\",\"ham\",\"ham\",\"spam\",\"ham\",\"ham\",\"ham\",\"ham\",\"ham\",\"ham\",\"ham\",\"ham\",\"spam\",\"ham\",\"ham\",\"ham\",\"ham\",\"ham\",\"ham\",\"ham\",\"ham\",\"ham\",\"ham\",\"ham\",\"spam\",\"ham\",\"spam\",\"ham\",\"ham\",\"ham\",\"ham\",\"ham\",\"ham\",\"ham\",\"ham\",\"spam\",\"ham\",\"ham\",\"spam\",\"ham\",\"ham\",\"ham\",\"ham\",\"ham\",\"ham\",\"spam\",\"ham\",\"spam\",\"ham\",\"ham\",\"ham\",\"ham\",\"ham\",\"ham\",\"ham\",\"ham\",\"ham\",\"ham\",\"ham\",\"ham\",\"spam\",\"ham\",\"ham\",\"spam\",\"ham\",\"ham\",\"ham\",\"ham\",\"ham\",\"ham\",\"ham\",\"ham\",\"ham\",\"ham\",\"ham\",\"ham\",\"ham\",\"ham\",\"ham\",\"ham\",\"ham\",\"ham\",\"ham\",\"ham\",\"ham\",\"ham\",\"ham\",\"ham\",\"spam\",\"ham\",\"ham\",\"ham\",\"ham\",\"spam\",\"ham\",\"ham\",\"ham\",\"ham\",\"ham\",\"ham\",\"spam\",\"spam\",\"ham\",\"ham\",\"ham\",\"ham\",\"ham\",\"ham\",\"ham\",\"ham\",\"ham\",\"ham\",\"ham\",\"ham\",\"ham\",\"ham\",\"ham\",\"ham\",\"ham\",\"ham\",\"ham\",\"ham\",\"ham\",\"ham\",\"ham\",\"ham\",\"ham\",\"ham\",\"ham\",\"ham\",\"ham\",\"spam\",\"ham\",\"ham\",\"ham\",\"ham\",\"ham\",\"spam\",\"ham\",\"ham\",\"ham\",\"ham\",\"ham\",\"spam\",\"ham\",\"ham\",\"ham\",\"ham\",\"ham\",\"ham\",\"ham\",\"ham\",\"ham\",\"ham\",\"ham\",\"ham\",\"ham\",\"ham\",\"ham\",\"ham\",\"spam\",\"spam\",\"ham\",\"ham\",\"ham\",\"ham\",\"ham\",\"ham\",\"ham\",\"spam\",\"spam\",\"ham\",\"ham\",\"spam\",\"ham\",\"ham\",\"ham\",\"ham\",\"ham\",\"ham\",\"ham\",\"ham\",\"ham\",\"ham\",\"ham\",\"ham\",\"ham\",\"spam\",\"ham\",\"ham\",\"ham\",\"ham\",\"ham\",\"ham\",\"ham\",\"ham\",\"ham\",\"ham\",\"ham\",\"ham\",\"ham\",\"ham\",\"ham\",\"ham\",\"ham\",\"spam\",\"ham\",\"ham\",\"ham\",\"ham\",\"ham\",\"ham\",\"ham\",\"ham\",\"ham\",\"ham\",\"ham\",\"ham\",\"ham\",\"ham\",\"ham\",\"ham\",\"ham\",\"ham\",\"ham\",\"ham\",\"ham\",\"ham\",\"ham\",\"ham\",\"ham\",\"spam\",\"ham\",\"ham\",\"ham\",\"ham\",\"ham\",\"ham\",\"ham\",\"ham\",\"ham\",\"ham\",\"ham\",\"ham\",\"ham\",\"ham\",\"ham\",\"ham\",\"ham\",\"ham\",\"ham\",\"ham\",\"ham\",\"spam\",\"ham\",\"ham\",\"spam\",\"ham\",\"ham\",\"ham\",\"ham\",\"ham\",\"spam\",\"ham\",\"ham\",\"ham\",\"ham\",\"ham\",\"spam\",\"ham\",\"ham\",\"ham\",\"spam\",\"ham\",\"ham\",\"ham\",\"ham\",\"ham\",\"ham\",\"ham\",\"spam\",\"ham\",\"ham\",\"ham\",\"ham\",\"ham\",\"ham\",\"ham\",\"ham\",\"ham\",\"spam\",\"spam\",\"spam\",\"spam\",\"spam\",\"spam\",\"spam\",\"ham\",\"ham\",\"ham\",\"ham\",\"ham\",\"ham\",\"ham\",\"spam\",\"ham\",\"ham\",\"ham\",\"ham\",\"ham\",\"ham\",\"ham\",\"ham\",\"spam\",\"spam\",\"ham\",\"ham\",\"ham\",\"ham\",\"ham\",\"ham\",\"ham\",\"ham\",\"ham\",\"ham\",\"ham\",\"ham\",\"ham\",\"ham\",\"ham\",\"ham\",\"spam\",\"ham\",\"ham\",\"spam\",\"ham\",\"ham\",\"ham\",\"ham\",\"spam\",\"ham\",\"ham\",\"ham\",\"ham\",\"ham\",\"ham\",\"ham\",\"ham\",\"ham\",\"ham\",\"ham\",\"ham\",\"ham\",\"ham\",\"spam\",\"ham\",\"ham\",\"ham\",\"ham\",\"ham\",\"ham\",\"ham\",\"ham\",\"ham\",\"ham\",\"ham\",\"spam\",\"spam\",\"ham\",\"ham\",\"ham\",\"ham\",\"spam\",\"ham\",\"ham\",\"ham\",\"ham\",\"ham\",\"ham\",\"ham\",\"ham\",\"ham\",\"ham\",\"ham\",\"ham\",\"ham\",\"ham\",\"ham\",\"ham\",\"ham\",\"ham\",\"ham\",\"ham\",\"ham\",\"ham\",\"ham\",\"ham\",\"ham\",\"ham\",\"ham\",\"spam\",\"spam\",\"ham\",\"ham\",\"ham\",\"ham\",\"ham\",\"ham\",\"ham\",\"ham\",\"ham\",\"ham\",\"ham\",\"ham\",\"ham\",\"ham\",\"ham\",\"ham\",\"ham\",\"spam\",\"ham\",\"ham\",\"ham\",\"ham\",\"ham\",\"ham\",\"ham\",\"spam\",\"ham\",\"ham\",\"ham\",\"spam\",\"ham\",\"spam\",\"ham\",\"spam\",\"ham\",\"ham\",\"ham\",\"spam\",\"ham\",\"ham\",\"spam\",\"ham\",\"ham\",\"spam\",\"ham\",\"ham\",\"ham\",\"ham\",\"ham\",\"ham\",\"ham\",\"ham\",\"ham\",\"ham\",\"spam\",\"ham\",\"spam\",\"ham\",\"ham\",\"ham\",\"ham\",\"ham\",\"ham\",\"ham\",\"spam\",\"ham\",\"ham\",\"spam\",\"ham\",\"ham\",\"ham\",\"ham\",\"ham\",\"ham\",\"ham\",\"ham\",\"ham\",\"ham\",\"ham\",\"ham\",\"ham\",\"ham\",\"ham\",\"ham\",\"ham\",\"ham\",\"ham\",\"ham\",\"ham\",\"spam\",\"ham\",\"ham\",\"ham\",\"ham\",\"ham\",\"ham\",\"ham\",\"ham\",\"ham\",\"ham\",\"spam\",\"ham\",\"ham\",\"ham\",\"ham\",\"ham\",\"ham\",\"ham\",\"spam\",\"ham\",\"ham\",\"spam\",\"ham\",\"ham\",\"ham\",\"spam\",\"ham\",\"ham\",\"ham\",\"ham\",\"ham\",\"ham\",\"ham\",\"ham\",\"ham\",\"ham\",\"ham\",\"ham\",\"ham\",\"ham\",\"ham\",\"ham\",\"ham\",\"ham\",\"ham\",\"ham\",\"ham\",\"ham\",\"ham\",\"ham\",\"ham\",\"ham\",\"ham\",\"ham\",\"spam\",\"ham\",\"ham\",\"ham\",\"spam\",\"ham\",\"ham\",\"ham\",\"ham\",\"ham\",\"ham\",\"ham\",\"ham\",\"ham\",\"ham\",\"ham\",\"ham\",\"ham\",\"ham\",\"ham\",\"ham\",\"ham\",\"ham\",\"spam\",\"ham\",\"ham\",\"ham\",\"ham\",\"ham\",\"ham\",\"ham\",\"ham\",\"ham\",\"ham\",\"spam\",\"ham\",\"ham\",\"ham\",\"ham\",\"ham\",\"ham\",\"ham\",\"ham\",\"ham\",\"ham\",\"spam\",\"ham\",\"ham\",\"ham\",\"ham\",\"spam\",\"ham\",\"ham\",\"ham\",\"ham\",\"ham\",\"ham\",\"ham\",\"ham\",\"ham\",\"ham\",\"ham\",\"ham\",\"ham\",\"ham\",\"ham\",\"ham\",\"spam\",\"ham\",\"ham\",\"ham\",\"ham\",\"ham\",\"ham\",\"ham\",\"spam\",\"ham\",\"ham\",\"ham\",\"ham\",\"spam\",\"ham\",\"ham\",\"spam\",\"ham\",\"ham\",\"ham\",\"ham\",\"spam\",\"ham\",\"ham\",\"spam\",\"ham\",\"ham\",\"ham\",\"ham\",\"ham\",\"ham\",\"ham\",\"ham\",\"ham\",\"ham\",\"ham\",\"spam\",\"ham\",\"spam\",\"ham\",\"ham\",\"ham\",\"ham\",\"ham\",\"ham\",\"ham\",\"ham\",\"spam\",\"ham\",\"ham\",\"spam\",\"ham\",\"ham\",\"ham\",\"ham\",\"ham\",\"ham\",\"ham\",\"ham\",\"spam\",\"ham\",\"ham\",\"ham\",\"ham\",\"ham\",\"spam\",\"ham\",\"ham\",\"ham\",\"ham\",\"ham\",\"ham\",\"ham\",\"ham\",\"ham\",\"ham\",\"ham\",\"spam\",\"ham\",\"ham\",\"ham\",\"ham\",\"ham\",\"ham\",\"ham\",\"ham\",\"spam\",\"ham\",\"ham\",\"ham\",\"ham\",\"ham\",\"ham\",\"ham\",\"ham\",\"ham\",\"ham\",\"ham\",\"ham\",\"ham\",\"ham\",\"ham\",\"ham\",\"ham\",\"ham\",\"ham\",\"spam\",\"ham\",\"ham\",\"ham\",\"ham\",\"ham\",\"ham\",\"ham\",\"spam\",\"ham\",\"ham\",\"ham\",\"spam\",\"ham\",\"spam\",\"ham\",\"spam\",\"ham\",\"ham\",\"ham\",\"ham\",\"ham\",\"ham\",\"ham\",\"ham\",\"ham\",\"ham\",\"ham\",\"ham\",\"ham\",\"ham\",\"ham\",\"ham\",\"ham\",\"ham\",\"ham\",\"ham\",\"spam\",\"ham\",\"ham\",\"ham\",\"ham\",\"ham\",\"spam\",\"ham\",\"spam\",\"ham\",\"spam\",\"ham\",\"spam\",\"ham\",\"ham\",\"ham\",\"ham\",\"ham\",\"ham\",\"ham\",\"spam\",\"spam\",\"ham\",\"ham\",\"ham\",\"ham\",\"ham\",\"ham\",\"spam\",\"ham\",\"ham\",\"ham\",\"ham\",\"ham\",\"ham\",\"ham\",\"spam\",\"ham\",\"ham\",\"ham\",\"ham\",\"ham\",\"ham\",\"ham\",\"ham\",\"ham\",\"ham\",\"ham\",\"ham\",\"ham\",\"ham\",\"ham\",\"ham\",\"ham\",\"ham\",\"ham\",\"ham\",\"spam\",\"ham\",\"ham\",\"ham\",\"ham\",\"ham\",\"ham\",\"ham\",\"ham\",\"ham\",\"ham\",\"ham\",\"spam\",\"ham\",\"ham\",\"ham\",\"ham\",\"ham\",\"ham\",\"ham\",\"ham\",\"spam\",\"ham\",\"ham\",\"ham\",\"ham\",\"spam\",\"ham\",\"ham\",\"ham\",\"spam\",\"ham\",\"ham\",\"ham\",\"ham\",\"ham\",\"spam\",\"ham\",\"ham\",\"spam\",\"ham\",\"ham\",\"ham\",\"ham\",\"ham\",\"ham\",\"spam\",\"ham\",\"ham\",\"spam\",\"ham\",\"ham\",\"ham\",\"ham\",\"ham\",\"ham\",\"spam\",\"spam\",\"ham\",\"spam\",\"ham\",\"ham\",\"ham\",\"ham\",\"ham\",\"ham\",\"ham\",\"ham\",\"ham\",\"spam\",\"spam\",\"ham\",\"ham\",\"ham\",\"spam\",\"ham\",\"ham\",\"ham\",\"spam\",\"ham\",\"ham\",\"ham\",\"ham\",\"ham\",\"ham\",\"ham\",\"ham\",\"ham\",\"ham\",\"ham\",\"ham\",\"ham\",\"ham\",\"ham\",\"spam\",\"ham\",\"ham\",\"ham\",\"ham\",\"ham\",\"spam\",\"ham\",\"ham\",\"ham\",\"ham\",\"spam\",\"spam\",\"ham\",\"ham\",\"ham\",\"ham\",\"ham\",\"ham\",\"ham\",\"ham\",\"ham\",\"ham\",\"ham\",\"spam\",\"spam\",\"ham\",\"ham\",\"ham\",\"ham\",\"ham\",\"ham\",\"spam\",\"spam\",\"ham\",\"ham\",\"ham\",\"spam\",\"ham\",\"ham\",\"ham\",\"spam\",\"ham\",\"ham\",\"ham\",\"ham\",\"ham\",\"ham\",\"ham\",\"ham\",\"spam\",\"ham\",\"spam\",\"ham\",\"ham\",\"spam\",\"ham\",\"ham\",\"ham\",\"ham\",\"ham\",\"ham\",\"ham\",\"ham\",\"ham\",\"ham\",\"spam\",\"ham\",\"spam\",\"ham\",\"ham\",\"ham\",\"spam\",\"ham\",\"ham\",\"ham\",\"spam\",\"ham\",\"ham\",\"ham\",\"ham\",\"ham\",\"ham\",\"ham\",\"ham\",\"ham\",\"ham\",\"ham\",\"ham\",\"ham\",\"ham\",\"spam\",\"ham\",\"ham\",\"ham\",\"ham\",\"ham\",\"ham\",\"spam\",\"ham\",\"ham\",\"ham\",\"ham\",\"ham\",\"ham\",\"ham\",\"ham\",\"ham\",\"spam\",\"ham\",\"ham\",\"ham\",\"ham\",\"spam\",\"ham\",\"ham\",\"ham\",\"ham\",\"spam\",\"ham\",\"spam\",\"ham\",\"ham\",\"ham\",\"ham\",\"ham\",\"spam\",\"ham\",\"ham\",\"ham\",\"spam\",\"ham\",\"ham\",\"spam\",\"ham\",\"ham\",\"ham\",\"ham\",\"ham\",\"ham\",\"ham\",\"ham\",\"ham\",\"ham\",\"ham\",\"ham\",\"ham\",\"spam\",\"ham\",\"ham\",\"ham\",\"ham\",\"ham\",\"ham\",\"ham\",\"ham\",\"ham\",\"ham\",\"ham\",\"ham\",\"spam\",\"ham\",\"spam\",\"spam\",\"spam\",\"ham\",\"ham\",\"ham\",\"ham\",\"ham\",\"spam\",\"ham\",\"ham\",\"ham\",\"ham\",\"ham\",\"ham\",\"spam\",\"ham\",\"ham\",\"ham\",\"ham\",\"ham\",\"ham\",\"ham\",\"ham\",\"ham\",\"ham\",\"ham\",\"ham\",\"ham\",\"ham\",\"ham\",\"ham\",\"ham\",\"ham\",\"ham\",\"ham\",\"ham\",\"ham\",\"spam\",\"spam\",\"ham\",\"ham\",\"ham\",\"ham\",\"ham\",\"spam\",\"ham\",\"ham\",\"ham\",\"ham\",\"spam\",\"spam\",\"ham\",\"ham\",\"ham\",\"ham\",\"ham\",\"ham\",\"spam\",\"ham\",\"spam\",\"ham\",\"ham\",\"ham\",\"ham\",\"ham\",\"ham\",\"ham\",\"ham\",\"ham\",\"ham\",\"ham\",\"ham\",\"ham\",\"spam\",\"ham\",\"ham\",\"ham\",\"ham\",\"ham\",\"ham\",\"ham\",\"spam\",\"spam\",\"ham\",\"ham\",\"ham\",\"ham\",\"ham\",\"ham\",\"ham\",\"ham\",\"ham\",\"ham\",\"ham\",\"ham\",\"ham\",\"spam\",\"spam\",\"spam\",\"spam\",\"spam\",\"ham\",\"ham\",\"ham\",\"ham\",\"ham\",\"ham\",\"ham\",\"ham\",\"ham\",\"ham\",\"ham\",\"spam\",\"ham\",\"ham\",\"ham\",\"ham\",\"ham\",\"ham\",\"ham\",\"ham\",\"ham\",\"ham\",\"ham\",\"ham\",\"ham\",\"ham\",\"ham\",\"ham\",\"ham\",\"spam\",\"ham\",\"ham\",\"ham\",\"ham\",\"ham\",\"ham\",\"ham\",\"ham\",\"ham\",\"ham\",\"ham\",\"ham\",\"ham\",\"ham\",\"ham\",\"ham\",\"ham\",\"ham\",\"spam\",\"ham\",\"ham\",\"ham\",\"ham\",\"ham\",\"ham\",\"spam\",\"ham\",\"ham\",\"ham\",\"spam\",\"ham\",\"ham\",\"ham\",\"ham\",\"ham\",\"ham\",\"ham\",\"ham\",\"ham\",\"ham\",\"ham\",\"spam\",\"ham\",\"spam\",\"ham\",\"ham\",\"spam\",\"spam\",\"ham\",\"ham\",\"ham\",\"ham\",\"ham\",\"ham\",\"ham\",\"ham\",\"spam\",\"ham\",\"ham\",\"ham\",\"ham\",\"ham\",\"ham\",\"ham\",\"spam\",\"ham\",\"ham\",\"ham\",\"ham\",\"ham\",\"ham\",\"ham\",\"ham\",\"ham\",\"ham\",\"ham\",\"ham\",\"spam\",\"ham\",\"ham\",\"spam\",\"ham\",\"ham\",\"ham\",\"ham\",\"ham\",\"ham\",\"ham\",\"ham\",\"ham\",\"ham\",\"ham\",\"ham\",\"ham\",\"ham\",\"ham\",\"ham\",\"ham\",\"ham\",\"ham\",\"ham\",\"ham\",\"ham\",\"ham\",\"ham\",\"ham\",\"spam\",\"ham\",\"ham\",\"ham\",\"ham\",\"ham\",\"ham\",\"ham\",\"ham\",\"ham\",\"ham\",\"ham\",\"ham\",\"ham\",\"spam\",\"ham\",\"ham\",\"ham\",\"ham\",\"ham\",\"ham\",\"ham\",\"ham\",\"ham\",\"spam\",\"ham\",\"ham\",\"ham\",\"ham\",\"ham\",\"ham\",\"ham\",\"ham\",\"ham\",\"ham\",\"ham\",\"ham\",\"spam\",\"ham\",\"spam\",\"ham\",\"ham\",\"ham\",\"ham\",\"ham\",\"ham\",\"ham\",\"ham\",\"ham\",\"ham\",\"ham\",\"ham\",\"ham\",\"ham\",\"ham\",\"ham\",\"ham\",\"ham\",\"ham\",\"ham\",\"ham\",\"ham\",\"ham\",\"spam\",\"spam\",\"ham\",\"ham\",\"ham\",\"ham\",\"ham\",\"spam\",\"ham\",\"ham\",\"ham\",\"ham\",\"ham\",\"ham\",\"ham\",\"spam\",\"ham\",\"ham\",\"spam\",\"ham\",\"ham\",\"ham\",\"ham\",\"ham\",\"ham\",\"ham\",\"ham\",\"ham\",\"spam\",\"ham\",\"ham\",\"ham\",\"ham\",\"ham\",\"ham\",\"spam\",\"ham\",\"ham\",\"ham\",\"ham\",\"ham\",\"ham\",\"ham\",\"ham\",\"spam\",\"ham\",\"ham\",\"ham\",\"ham\",\"ham\",\"ham\",\"ham\",\"ham\",\"ham\",\"ham\",\"ham\",\"ham\",\"ham\",\"ham\",\"ham\",\"ham\",\"ham\",\"ham\",\"ham\",\"ham\",\"ham\",\"ham\",\"ham\",\"ham\",\"ham\",\"ham\",\"ham\",\"spam\",\"ham\",\"ham\",\"spam\",\"ham\",\"ham\",\"spam\",\"spam\",\"spam\",\"ham\",\"ham\",\"ham\",\"ham\",\"spam\",\"ham\",\"spam\",\"spam\",\"ham\",\"ham\",\"ham\",\"ham\",\"spam\",\"ham\",\"ham\",\"ham\",\"ham\",\"ham\",\"ham\",\"ham\",\"ham\",\"ham\",\"spam\",\"ham\",\"ham\",\"ham\",\"ham\",\"ham\",\"ham\",\"ham\",\"ham\",\"ham\",\"ham\",\"ham\",\"ham\",\"ham\",\"spam\",\"ham\",\"ham\",\"ham\",\"ham\",\"ham\",\"ham\",\"ham\",\"ham\",\"ham\",\"ham\",\"ham\",\"spam\",\"spam\",\"ham\",\"ham\",\"ham\",\"ham\",\"ham\",\"ham\",\"ham\",\"ham\",\"ham\",\"ham\",\"ham\",\"ham\",\"ham\",\"spam\",\"ham\",\"ham\",\"ham\",\"spam\",\"ham\",\"ham\",\"ham\",\"ham\",\"spam\",\"ham\",\"ham\",\"ham\",\"ham\",\"ham\",\"spam\",\"ham\",\"ham\",\"ham\",\"ham\",\"ham\",\"ham\",\"ham\",\"ham\",\"ham\",\"ham\",\"ham\",\"ham\",\"ham\",\"ham\",\"spam\",\"ham\",\"ham\",\"spam\",\"ham\",\"ham\",\"ham\",\"ham\",\"ham\",\"ham\",\"ham\",\"ham\",\"ham\",\"ham\",\"ham\",\"ham\",\"ham\",\"ham\",\"ham\",\"ham\",\"ham\",\"ham\",\"ham\",\"spam\",\"ham\",\"ham\",\"ham\",\"ham\",\"spam\",\"ham\",\"ham\",\"ham\",\"ham\",\"ham\",\"ham\",\"ham\",\"ham\",\"ham\",\"ham\",\"ham\",\"ham\",\"ham\",\"ham\",\"ham\",\"ham\",\"ham\",\"ham\",\"ham\",\"ham\",\"ham\",\"ham\",\"ham\",\"spam\",\"ham\",\"ham\",\"spam\",\"ham\",\"ham\",\"ham\",\"ham\",\"ham\",\"ham\",\"spam\",\"ham\",\"ham\",\"ham\",\"ham\",\"ham\",\"ham\",\"ham\",\"ham\",\"ham\",\"ham\",\"spam\",\"ham\",\"ham\",\"ham\",\"ham\",\"ham\",\"spam\",\"ham\",\"spam\",\"ham\",\"ham\",\"ham\",\"ham\",\"spam\",\"spam\",\"ham\",\"ham\",\"ham\",\"ham\",\"ham\",\"ham\",\"ham\",\"spam\",\"ham\",\"ham\",\"ham\",\"ham\",\"ham\",\"ham\",\"ham\",\"ham\",\"ham\",\"ham\",\"ham\",\"ham\",\"ham\",\"ham\",\"ham\",\"ham\",\"ham\",\"spam\",\"ham\",\"ham\",\"ham\",\"ham\",\"ham\",\"ham\",\"ham\",\"ham\",\"ham\",\"ham\",\"spam\",\"spam\",\"ham\",\"ham\",\"ham\",\"ham\",\"ham\",\"ham\",\"ham\",\"ham\",\"ham\",\"spam\",\"ham\",\"ham\",\"ham\",\"ham\",\"ham\",\"ham\",\"ham\",\"ham\",\"ham\",\"ham\",\"ham\",\"ham\",\"spam\",\"ham\",\"spam\",\"ham\",\"ham\",\"ham\",\"ham\",\"ham\",\"ham\",\"ham\",\"ham\",\"ham\",\"ham\",\"spam\",\"ham\",\"ham\",\"ham\",\"ham\",\"ham\",\"ham\",\"spam\",\"ham\",\"ham\",\"ham\",\"spam\",\"ham\",\"ham\",\"ham\",\"ham\",\"ham\",\"ham\",\"ham\",\"ham\",\"ham\",\"ham\",\"ham\",\"ham\",\"ham\",\"ham\",\"ham\",\"ham\",\"ham\",\"spam\",\"spam\",\"ham\",\"ham\",\"ham\",\"ham\",\"ham\",\"ham\",\"ham\",\"ham\",\"ham\",\"ham\",\"ham\",\"ham\",\"spam\",\"ham\",\"spam\",\"ham\",\"ham\",\"ham\",\"ham\",\"ham\",\"ham\",\"ham\",\"ham\",\"spam\",\"ham\",\"ham\",\"ham\",\"ham\",\"ham\",\"ham\",\"ham\",\"spam\",\"ham\",\"ham\",\"ham\",\"ham\",\"spam\",\"ham\",\"spam\",\"ham\",\"ham\",\"spam\",\"ham\",\"ham\",\"ham\",\"ham\",\"ham\",\"ham\",\"ham\",\"spam\",\"ham\",\"ham\",\"ham\",\"spam\",\"ham\",\"ham\",\"ham\",\"ham\",\"ham\",\"ham\",\"ham\",\"ham\",\"ham\",\"ham\",\"ham\",\"spam\",\"spam\",\"ham\",\"ham\",\"ham\",\"ham\",\"ham\",\"ham\",\"ham\",\"ham\",\"ham\",\"ham\",\"ham\",\"ham\",\"ham\",\"ham\",\"ham\",\"ham\",\"spam\",\"spam\",\"ham\",\"ham\",\"ham\",\"spam\",\"ham\",\"ham\",\"ham\",\"ham\",\"ham\",\"ham\",\"ham\",\"ham\",\"ham\",\"ham\",\"ham\",\"spam\",\"ham\",\"spam\",\"spam\",\"ham\",\"ham\",\"ham\",\"ham\",\"ham\",\"ham\",\"ham\",\"ham\",\"ham\",\"ham\",\"ham\",\"ham\",\"ham\",\"ham\",\"ham\",\"ham\",\"spam\",\"ham\",\"ham\",\"ham\",\"ham\",\"ham\",\"spam\",\"ham\",\"ham\",\"ham\",\"ham\",\"ham\",\"ham\",\"ham\",\"ham\",\"ham\",\"ham\",\"ham\",\"ham\",\"spam\",\"ham\",\"ham\",\"ham\",\"ham\",\"ham\",\"ham\",\"ham\",\"spam\",\"ham\",\"ham\",\"ham\",\"ham\",\"ham\",\"spam\",\"ham\",\"ham\",\"ham\",\"ham\",\"ham\",\"ham\",\"ham\",\"ham\",\"spam\",\"spam\",\"ham\",\"spam\",\"ham\",\"ham\",\"ham\",\"ham\",\"ham\",\"ham\",\"spam\",\"ham\",\"ham\",\"ham\",\"spam\",\"ham\",\"spam\",\"ham\",\"ham\",\"ham\",\"ham\",\"ham\",\"ham\",\"ham\",\"ham\",\"ham\",\"ham\",\"ham\",\"spam\",\"ham\",\"ham\",\"ham\",\"ham\",\"spam\",\"ham\",\"ham\",\"ham\",\"ham\",\"ham\",\"ham\",\"ham\",\"spam\",\"ham\",\"ham\",\"spam\",\"ham\",\"spam\",\"ham\",\"ham\",\"spam\",\"ham\",\"ham\",\"spam\",\"ham\",\"ham\",\"ham\",\"ham\",\"ham\",\"ham\",\"ham\",\"ham\",\"ham\",\"ham\",\"ham\",\"ham\",\"ham\",\"ham\",\"ham\",\"ham\",\"ham\",\"ham\",\"ham\",\"ham\",\"spam\",\"ham\",\"ham\",\"ham\",\"spam\",\"ham\",\"ham\",\"ham\",\"ham\",\"ham\",\"ham\",\"ham\",\"spam\",\"ham\",\"spam\",\"ham\",\"ham\",\"spam\",\"ham\",\"ham\",\"ham\",\"ham\",\"spam\",\"ham\",\"ham\",\"ham\",\"ham\",\"ham\",\"ham\",\"ham\",\"ham\",\"ham\",\"ham\",\"ham\",\"ham\",\"ham\",\"ham\",\"ham\",\"ham\",\"spam\",\"ham\",\"ham\",\"ham\",\"spam\",\"ham\",\"ham\",\"ham\",\"ham\",\"ham\",\"spam\",\"ham\",\"ham\",\"ham\",\"ham\",\"ham\",\"ham\",\"ham\",\"ham\",\"ham\",\"ham\",\"ham\",\"ham\",\"ham\",\"ham\",\"ham\",\"ham\",\"spam\",\"ham\",\"ham\",\"ham\",\"ham\",\"ham\",\"ham\",\"ham\",\"ham\",\"ham\",\"ham\",\"ham\",\"ham\",\"ham\",\"spam\",\"ham\",\"ham\",\"ham\",\"ham\",\"ham\",\"ham\",\"ham\",\"ham\",\"ham\",\"ham\",\"spam\",\"spam\",\"ham\",\"ham\",\"ham\",\"ham\",\"ham\",\"spam\",\"ham\",\"ham\",\"ham\",\"spam\",\"spam\",\"ham\",\"ham\",\"ham\",\"spam\",\"ham\",\"ham\",\"ham\",\"ham\",\"ham\",\"ham\",\"ham\",\"ham\",\"spam\",\"ham\",\"ham\",\"ham\",\"ham\",\"ham\",\"ham\",\"ham\",\"ham\",\"ham\",\"ham\",\"ham\",\"ham\",\"ham\",\"spam\",\"ham\",\"ham\",\"ham\",\"spam\",\"ham\",\"ham\",\"ham\",\"ham\",\"spam\",\"ham\",\"ham\",\"ham\",\"ham\",\"ham\",\"ham\",\"ham\",\"ham\",\"ham\",\"ham\",\"ham\",\"ham\",\"spam\",\"ham\",\"ham\",\"ham\",\"ham\",\"ham\",\"ham\",\"ham\",\"ham\",\"ham\",\"ham\",\"ham\",\"ham\",\"ham\",\"ham\",\"ham\",\"ham\",\"ham\",\"ham\",\"spam\",\"ham\",\"ham\",\"ham\",\"ham\",\"ham\",\"ham\",\"ham\",\"ham\",\"spam\",\"ham\",\"ham\",\"ham\",\"ham\",\"ham\",\"ham\",\"spam\",\"ham\",\"ham\",\"ham\",\"ham\",\"ham\",\"ham\",\"spam\",\"ham\",\"spam\",\"ham\",\"ham\",\"ham\",\"ham\",\"ham\",\"ham\",\"ham\",\"ham\",\"ham\",\"ham\",\"ham\",\"ham\",\"ham\",\"ham\",\"ham\",\"ham\",\"ham\",\"ham\",\"ham\",\"spam\",\"ham\",\"ham\",\"ham\",\"ham\",\"ham\",\"ham\",\"ham\",\"ham\",\"ham\",\"ham\",\"ham\",\"ham\",\"ham\",\"ham\",\"ham\",\"ham\",\"ham\",\"ham\",\"ham\",\"ham\",\"ham\",\"ham\",\"ham\",\"ham\",\"ham\",\"ham\",\"ham\",\"spam\",\"ham\",\"ham\",\"ham\",\"ham\",\"ham\",\"ham\",\"ham\",\"ham\",\"ham\",\"ham\",\"ham\",\"ham\",\"ham\",\"ham\",\"ham\",\"ham\",\"ham\",\"ham\",\"ham\",\"ham\",\"ham\",\"spam\",\"spam\",\"spam\",\"ham\",\"spam\",\"ham\",\"spam\",\"ham\",\"ham\",\"ham\",\"ham\",\"ham\",\"ham\",\"spam\",\"spam\",\"ham\",\"ham\",\"spam\",\"ham\",\"ham\",\"ham\",\"ham\",\"ham\",\"ham\",\"ham\",\"ham\",\"ham\",\"ham\",\"ham\",\"ham\",\"ham\",\"ham\",\"ham\",\"ham\",\"ham\",\"ham\",\"ham\",\"ham\",\"ham\",\"ham\",\"ham\",\"ham\",\"ham\",\"ham\",\"ham\",\"ham\",\"ham\",\"ham\",\"ham\",\"ham\",\"ham\",\"ham\",\"ham\",\"ham\",\"ham\",\"ham\",\"ham\",\"ham\",\"ham\",\"ham\",\"ham\",\"ham\",\"ham\",\"spam\",\"ham\",\"ham\",\"ham\",\"ham\",\"ham\",\"ham\",\"ham\",\"ham\",\"ham\",\"ham\",\"ham\",\"ham\",\"ham\",\"ham\",\"ham\",\"spam\",\"ham\",\"ham\",\"ham\",\"ham\",\"ham\",\"spam\",\"ham\",\"ham\",\"ham\",\"ham\",\"ham\",\"ham\",\"spam\",\"ham\",\"ham\",\"ham\",\"spam\",\"ham\",\"spam\",\"ham\",\"ham\",\"ham\",\"spam\",\"spam\",\"spam\",\"ham\",\"ham\",\"ham\",\"ham\",\"ham\",\"ham\",\"ham\",\"ham\",\"ham\",\"ham\",\"ham\",\"ham\",\"ham\",\"spam\",\"ham\",\"ham\",\"ham\",\"ham\",\"spam\",\"ham\",\"ham\",\"ham\",\"ham\",\"spam\",\"ham\",\"ham\",\"ham\",\"ham\",\"spam\",\"ham\",\"ham\",\"ham\",\"spam\",\"ham\",\"ham\",\"ham\",\"ham\",\"ham\",\"ham\",\"ham\",\"ham\",\"ham\",\"ham\",\"ham\",\"ham\",\"ham\",\"ham\",\"ham\",\"ham\",\"ham\",\"ham\",\"ham\",\"ham\",\"ham\",\"ham\",\"spam\",\"ham\",\"spam\",\"ham\",\"ham\",\"ham\",\"ham\",\"ham\",\"ham\",\"ham\",\"ham\",\"ham\",\"ham\",\"spam\",\"ham\",\"ham\",\"spam\",\"ham\",\"ham\",\"ham\",\"ham\",\"ham\",\"ham\",\"spam\",\"ham\",\"ham\",\"ham\",\"ham\",\"ham\",\"ham\",\"ham\",\"ham\",\"ham\",\"ham\",\"ham\",\"ham\",\"ham\",\"ham\",\"ham\",\"ham\",\"ham\",\"ham\",\"spam\",\"spam\",\"ham\",\"ham\",\"ham\",\"ham\"],\"legendgroup\":\"\",\"marker\":{\"colors\":[\"green\",\"green\",\"red\",\"green\",\"green\",\"red\",\"green\",\"green\",\"red\",\"red\",\"green\",\"red\",\"red\",\"green\",\"green\",\"red\",\"green\",\"green\",\"green\",\"red\",\"green\",\"green\",\"green\",\"green\",\"green\",\"green\",\"green\",\"green\",\"green\",\"green\",\"green\",\"green\",\"green\",\"green\",\"red\",\"green\",\"green\",\"green\",\"green\",\"green\",\"green\",\"green\",\"red\",\"green\",\"green\",\"green\",\"green\",\"green\",\"green\",\"green\",\"green\",\"green\",\"green\",\"green\",\"red\",\"green\",\"red\",\"green\",\"green\",\"green\",\"green\",\"green\",\"green\",\"green\",\"green\",\"red\",\"green\",\"red\",\"red\",\"green\",\"green\",\"green\",\"green\",\"green\",\"green\",\"green\",\"green\",\"green\",\"green\",\"green\",\"green\",\"green\",\"green\",\"green\",\"green\",\"green\",\"green\",\"green\",\"green\",\"green\",\"green\",\"green\",\"green\",\"red\",\"green\",\"red\",\"green\",\"green\",\"green\",\"green\",\"green\",\"green\",\"green\",\"green\",\"green\",\"green\",\"green\",\"green\",\"green\",\"green\",\"green\",\"green\",\"green\",\"red\",\"green\",\"green\",\"red\",\"green\",\"green\",\"red\",\"red\",\"green\",\"red\",\"green\",\"green\",\"green\",\"green\",\"green\",\"green\",\"green\",\"green\",\"green\",\"green\",\"red\",\"red\",\"green\",\"green\",\"green\",\"red\",\"green\",\"green\",\"green\",\"green\",\"green\",\"green\",\"green\",\"red\",\"green\",\"green\",\"green\",\"green\",\"green\",\"green\",\"green\",\"green\",\"green\",\"green\",\"green\",\"red\",\"red\",\"green\",\"green\",\"green\",\"red\",\"red\",\"green\",\"red\",\"green\",\"green\",\"green\",\"green\",\"green\",\"green\",\"green\",\"green\",\"green\",\"green\",\"green\",\"green\",\"green\",\"green\",\"green\",\"green\",\"green\",\"green\",\"green\",\"green\",\"red\",\"green\",\"green\",\"red\",\"green\",\"green\",\"green\",\"green\",\"green\",\"green\",\"green\",\"green\",\"green\",\"green\",\"green\",\"green\",\"green\",\"green\",\"green\",\"green\",\"green\",\"green\",\"green\",\"green\",\"green\",\"green\",\"green\",\"green\",\"green\",\"green\",\"green\",\"green\",\"green\",\"green\",\"green\",\"green\",\"green\",\"red\",\"green\",\"red\",\"green\",\"green\",\"green\",\"green\",\"green\",\"green\",\"green\",\"red\",\"green\",\"green\",\"green\",\"green\",\"red\",\"green\",\"green\",\"green\",\"green\",\"green\",\"green\",\"green\",\"green\",\"green\",\"red\",\"green\",\"green\",\"green\",\"green\",\"green\",\"green\",\"green\",\"green\",\"red\",\"green\",\"green\",\"green\",\"green\",\"red\",\"green\",\"green\",\"green\",\"red\",\"green\",\"red\",\"green\",\"green\",\"red\",\"green\",\"green\",\"green\",\"green\",\"green\",\"green\",\"green\",\"green\",\"green\",\"green\",\"green\",\"green\",\"green\",\"green\",\"green\",\"green\",\"green\",\"green\",\"green\",\"green\",\"green\",\"green\",\"red\",\"green\",\"green\",\"green\",\"green\",\"green\",\"green\",\"green\",\"green\",\"red\",\"green\",\"green\",\"green\",\"red\",\"green\",\"green\",\"red\",\"green\",\"green\",\"green\",\"green\",\"green\",\"green\",\"red\",\"green\",\"green\",\"green\",\"green\",\"green\",\"green\",\"green\",\"green\",\"green\",\"green\",\"green\",\"green\",\"green\",\"red\",\"green\",\"red\",\"green\",\"green\",\"green\",\"green\",\"green\",\"green\",\"green\",\"green\",\"green\",\"green\",\"green\",\"green\",\"green\",\"red\",\"green\",\"green\",\"green\",\"green\",\"green\",\"green\",\"green\",\"red\",\"red\",\"green\",\"green\",\"green\",\"green\",\"green\",\"green\",\"green\",\"green\",\"red\",\"red\",\"green\",\"green\",\"green\",\"green\",\"green\",\"green\",\"red\",\"green\",\"green\",\"green\",\"green\",\"green\",\"green\",\"green\",\"green\",\"green\",\"red\",\"green\",\"green\",\"green\",\"red\",\"green\",\"green\",\"green\",\"green\",\"green\",\"green\",\"green\",\"green\",\"green\",\"green\",\"green\",\"red\",\"green\",\"green\",\"green\",\"green\",\"green\",\"green\",\"green\",\"green\",\"green\",\"green\",\"green\",\"green\",\"green\",\"red\",\"green\",\"green\",\"red\",\"green\",\"red\",\"green\",\"red\",\"green\",\"red\",\"green\",\"green\",\"green\",\"green\",\"green\",\"green\",\"green\",\"green\",\"red\",\"green\",\"green\",\"green\",\"green\",\"green\",\"green\",\"green\",\"green\",\"green\",\"green\",\"green\",\"green\",\"green\",\"green\",\"green\",\"green\",\"green\",\"green\",\"green\",\"green\",\"green\",\"red\",\"green\",\"green\",\"green\",\"green\",\"green\",\"green\",\"green\",\"red\",\"green\",\"green\",\"green\",\"green\",\"green\",\"green\",\"green\",\"red\",\"green\",\"green\",\"red\",\"green\",\"green\",\"green\",\"green\",\"green\",\"green\",\"green\",\"green\",\"green\",\"green\",\"green\",\"green\",\"red\",\"green\",\"green\",\"green\",\"green\",\"red\",\"green\",\"green\",\"green\",\"green\",\"green\",\"green\",\"green\",\"green\",\"green\",\"green\",\"green\",\"green\",\"red\",\"green\",\"green\",\"green\",\"green\",\"green\",\"green\",\"green\",\"green\",\"green\",\"red\",\"green\",\"red\",\"red\",\"green\",\"green\",\"green\",\"green\",\"green\",\"green\",\"red\",\"green\",\"red\",\"green\",\"red\",\"green\",\"red\",\"green\",\"green\",\"green\",\"green\",\"green\",\"green\",\"green\",\"green\",\"green\",\"red\",\"green\",\"green\",\"green\",\"green\",\"green\",\"green\",\"green\",\"green\",\"green\",\"green\",\"green\",\"green\",\"green\",\"green\",\"green\",\"green\",\"green\",\"green\",\"green\",\"green\",\"green\",\"green\",\"red\",\"green\",\"green\",\"green\",\"green\",\"green\",\"green\",\"green\",\"green\",\"green\",\"green\",\"green\",\"red\",\"green\",\"green\",\"red\",\"green\",\"green\",\"green\",\"red\",\"green\",\"green\",\"green\",\"green\",\"green\",\"green\",\"green\",\"red\",\"red\",\"red\",\"green\",\"green\",\"green\",\"green\",\"red\",\"green\",\"green\",\"green\",\"green\",\"green\",\"green\",\"green\",\"green\",\"red\",\"green\",\"green\",\"green\",\"red\",\"green\",\"green\",\"green\",\"green\",\"green\",\"green\",\"green\",\"green\",\"green\",\"green\",\"green\",\"green\",\"green\",\"green\",\"green\",\"green\",\"green\",\"red\",\"red\",\"green\",\"green\",\"green\",\"green\",\"red\",\"green\",\"green\",\"green\",\"green\",\"green\",\"green\",\"green\",\"green\",\"green\",\"green\",\"green\",\"green\",\"red\",\"green\",\"red\",\"green\",\"green\",\"green\",\"green\",\"green\",\"green\",\"green\",\"green\",\"green\",\"red\",\"green\",\"green\",\"green\",\"green\",\"green\",\"green\",\"green\",\"green\",\"green\",\"green\",\"green\",\"red\",\"red\",\"green\",\"green\",\"green\",\"green\",\"green\",\"green\",\"green\",\"green\",\"green\",\"green\",\"red\",\"green\",\"green\",\"green\",\"green\",\"green\",\"red\",\"green\",\"green\",\"green\",\"green\",\"green\",\"green\",\"green\",\"green\",\"green\",\"green\",\"green\",\"green\",\"green\",\"green\",\"green\",\"green\",\"green\",\"green\",\"red\",\"red\",\"green\",\"green\",\"red\",\"green\",\"green\",\"green\",\"red\",\"green\",\"red\",\"green\",\"green\",\"green\",\"green\",\"green\",\"green\",\"green\",\"green\",\"green\",\"green\",\"green\",\"red\",\"green\",\"green\",\"green\",\"green\",\"green\",\"green\",\"red\",\"green\",\"green\",\"green\",\"green\",\"green\",\"green\",\"green\",\"green\",\"green\",\"red\",\"green\",\"green\",\"red\",\"red\",\"green\",\"green\",\"green\",\"green\",\"green\",\"green\",\"green\",\"green\",\"red\",\"green\",\"red\",\"green\",\"green\",\"red\",\"green\",\"green\",\"green\",\"green\",\"green\",\"green\",\"green\",\"green\",\"green\",\"green\",\"green\",\"green\",\"green\",\"green\",\"green\",\"green\",\"green\",\"red\",\"green\",\"green\",\"green\",\"red\",\"red\",\"green\",\"green\",\"green\",\"green\",\"green\",\"green\",\"green\",\"red\",\"green\",\"green\",\"green\",\"red\",\"green\",\"red\",\"red\",\"green\",\"green\",\"green\",\"green\",\"green\",\"green\",\"green\",\"green\",\"red\",\"green\",\"red\",\"green\",\"green\",\"green\",\"green\",\"green\",\"green\",\"green\",\"red\",\"red\",\"green\",\"green\",\"green\",\"green\",\"green\",\"green\",\"red\",\"green\",\"red\",\"green\",\"green\",\"green\",\"red\",\"green\",\"red\",\"red\",\"green\",\"green\",\"green\",\"red\",\"green\",\"green\",\"green\",\"green\",\"green\",\"red\",\"green\",\"green\",\"green\",\"green\",\"green\",\"red\",\"green\",\"green\",\"green\",\"green\",\"green\",\"green\",\"green\",\"green\",\"green\",\"red\",\"green\",\"red\",\"red\",\"red\",\"green\",\"green\",\"green\",\"green\",\"green\",\"red\",\"green\",\"red\",\"red\",\"red\",\"red\",\"green\",\"green\",\"green\",\"green\",\"green\",\"green\",\"green\",\"green\",\"green\",\"green\",\"green\",\"green\",\"green\",\"green\",\"green\",\"green\",\"green\",\"green\",\"red\",\"green\",\"green\",\"green\",\"green\",\"green\",\"green\",\"red\",\"green\",\"green\",\"red\",\"green\",\"green\",\"green\",\"green\",\"green\",\"green\",\"green\",\"green\",\"green\",\"green\",\"green\",\"green\",\"green\",\"green\",\"green\",\"green\",\"green\",\"green\",\"green\",\"red\",\"green\",\"green\",\"green\",\"green\",\"red\",\"green\",\"green\",\"green\",\"red\",\"green\",\"green\",\"green\",\"red\",\"green\",\"green\",\"green\",\"red\",\"green\",\"green\",\"green\",\"green\",\"green\",\"green\",\"green\",\"red\",\"green\",\"green\",\"green\",\"green\",\"green\",\"green\",\"red\",\"green\",\"green\",\"green\",\"green\",\"green\",\"green\",\"green\",\"green\",\"green\",\"green\",\"green\",\"green\",\"green\",\"green\",\"green\",\"green\",\"green\",\"green\",\"green\",\"green\",\"red\",\"green\",\"green\",\"green\",\"green\",\"green\",\"green\",\"green\",\"green\",\"green\",\"green\",\"green\",\"green\",\"green\",\"green\",\"green\",\"green\",\"green\",\"green\",\"red\",\"green\",\"green\",\"green\",\"green\",\"red\",\"green\",\"green\",\"green\",\"green\",\"green\",\"green\",\"green\",\"green\",\"green\",\"red\",\"green\",\"green\",\"green\",\"green\",\"red\",\"green\",\"green\",\"green\",\"green\",\"green\",\"green\",\"green\",\"green\",\"green\",\"green\",\"green\",\"green\",\"green\",\"green\",\"green\",\"green\",\"green\",\"green\",\"green\",\"green\",\"green\",\"green\",\"red\",\"green\",\"green\",\"red\",\"green\",\"red\",\"green\",\"green\",\"green\",\"green\",\"green\",\"green\",\"green\",\"green\",\"green\",\"red\",\"green\",\"green\",\"green\",\"red\",\"green\",\"green\",\"green\",\"green\",\"red\",\"green\",\"green\",\"red\",\"red\",\"green\",\"green\",\"green\",\"green\",\"green\",\"green\",\"green\",\"green\",\"green\",\"green\",\"green\",\"green\",\"green\",\"green\",\"green\",\"red\",\"green\",\"red\",\"green\",\"green\",\"green\",\"green\",\"green\",\"red\",\"green\",\"green\",\"green\",\"green\",\"green\",\"green\",\"green\",\"red\",\"green\",\"green\",\"green\",\"green\",\"green\",\"green\",\"green\",\"green\",\"green\",\"green\",\"green\",\"green\",\"red\",\"green\",\"red\",\"green\",\"red\",\"green\",\"green\",\"green\",\"red\",\"green\",\"green\",\"red\",\"green\",\"green\",\"green\",\"green\",\"green\",\"green\",\"green\",\"red\",\"green\",\"green\",\"green\",\"green\",\"red\",\"green\",\"green\",\"green\",\"red\",\"green\",\"green\",\"green\",\"green\",\"green\",\"green\",\"green\",\"red\",\"green\",\"green\",\"green\",\"green\",\"green\",\"green\",\"green\",\"green\",\"red\",\"green\",\"green\",\"green\",\"green\",\"green\",\"green\",\"green\",\"green\",\"red\",\"green\",\"green\",\"green\",\"green\",\"green\",\"green\",\"green\",\"green\",\"green\",\"green\",\"green\",\"green\",\"green\",\"green\",\"green\",\"green\",\"green\",\"green\",\"green\",\"green\",\"green\",\"red\",\"green\",\"red\",\"green\",\"green\",\"green\",\"green\",\"green\",\"green\",\"green\",\"green\",\"red\",\"green\",\"red\",\"green\",\"green\",\"green\",\"green\",\"green\",\"green\",\"green\",\"green\",\"green\",\"red\",\"green\",\"green\",\"green\",\"red\",\"green\",\"green\",\"green\",\"red\",\"green\",\"red\",\"green\",\"red\",\"green\",\"green\",\"green\",\"green\",\"green\",\"green\",\"green\",\"green\",\"green\",\"green\",\"green\",\"green\",\"green\",\"green\",\"green\",\"green\",\"green\",\"green\",\"green\",\"green\",\"green\",\"green\",\"red\",\"green\",\"green\",\"green\",\"green\",\"green\",\"green\",\"green\",\"green\",\"green\",\"green\",\"red\",\"green\",\"green\",\"green\",\"green\",\"green\",\"red\",\"green\",\"green\",\"green\",\"green\",\"red\",\"green\",\"green\",\"green\",\"green\",\"green\",\"green\",\"green\",\"green\",\"green\",\"green\",\"green\",\"green\",\"green\",\"green\",\"green\",\"green\",\"green\",\"green\",\"green\",\"green\",\"green\",\"green\",\"green\",\"green\",\"green\",\"green\",\"green\",\"green\",\"green\",\"green\",\"green\",\"green\",\"red\",\"red\",\"green\",\"green\",\"green\",\"green\",\"green\",\"green\",\"green\",\"green\",\"green\",\"red\",\"green\",\"green\",\"green\",\"green\",\"green\",\"green\",\"green\",\"green\",\"green\",\"red\",\"green\",\"green\",\"green\",\"green\",\"green\",\"green\",\"green\",\"green\",\"green\",\"green\",\"green\",\"green\",\"green\",\"green\",\"green\",\"green\",\"green\",\"green\",\"green\",\"green\",\"green\",\"red\",\"green\",\"green\",\"green\",\"green\",\"green\",\"green\",\"green\",\"green\",\"green\",\"green\",\"green\",\"green\",\"green\",\"green\",\"green\",\"red\",\"green\",\"green\",\"green\",\"green\",\"green\",\"green\",\"green\",\"red\",\"red\",\"green\",\"green\",\"red\",\"green\",\"red\",\"green\",\"green\",\"green\",\"green\",\"green\",\"green\",\"green\",\"green\",\"green\",\"green\",\"green\",\"green\",\"green\",\"green\",\"green\",\"green\",\"green\",\"green\",\"green\",\"green\",\"green\",\"green\",\"green\",\"green\",\"green\",\"green\",\"red\",\"green\",\"green\",\"green\",\"green\",\"green\",\"green\",\"red\",\"green\",\"green\",\"green\",\"green\",\"green\",\"green\",\"green\",\"green\",\"red\",\"green\",\"green\",\"green\",\"green\",\"green\",\"green\",\"red\",\"green\",\"green\",\"green\",\"green\",\"green\",\"green\",\"green\",\"green\",\"green\",\"green\",\"green\",\"green\",\"green\",\"red\",\"green\",\"green\",\"green\",\"green\",\"red\",\"green\",\"green\",\"green\",\"green\",\"green\",\"green\",\"red\",\"green\",\"red\",\"green\",\"red\",\"green\",\"green\",\"red\",\"green\",\"green\",\"red\",\"green\",\"green\",\"red\",\"green\",\"green\",\"green\",\"green\",\"green\",\"green\",\"green\",\"green\",\"green\",\"green\",\"green\",\"green\",\"green\",\"green\",\"green\",\"green\",\"green\",\"green\",\"green\",\"green\",\"green\",\"green\",\"red\",\"green\",\"green\",\"green\",\"green\",\"green\",\"green\",\"green\",\"red\",\"green\",\"red\",\"green\",\"green\",\"green\",\"green\",\"red\",\"green\",\"green\",\"green\",\"green\",\"green\",\"green\",\"green\",\"green\",\"green\",\"green\",\"red\",\"green\",\"green\",\"red\",\"green\",\"green\",\"green\",\"green\",\"green\",\"green\",\"green\",\"green\",\"green\",\"green\",\"green\",\"green\",\"green\",\"green\",\"red\",\"green\",\"green\",\"green\",\"green\",\"green\",\"green\",\"green\",\"red\",\"green\",\"green\",\"green\",\"green\",\"green\",\"green\",\"green\",\"green\",\"green\",\"green\",\"green\",\"green\",\"green\",\"green\",\"green\",\"green\",\"green\",\"green\",\"green\",\"green\",\"green\",\"green\",\"green\",\"green\",\"green\",\"green\",\"green\",\"green\",\"red\",\"red\",\"green\",\"green\",\"green\",\"green\",\"green\",\"green\",\"green\",\"green\",\"green\",\"green\",\"green\",\"green\",\"green\",\"green\",\"green\",\"green\",\"green\",\"green\",\"green\",\"red\",\"green\",\"green\",\"red\",\"red\",\"green\",\"green\",\"green\",\"green\",\"green\",\"green\",\"green\",\"green\",\"green\",\"green\",\"green\",\"green\",\"green\",\"green\",\"red\",\"green\",\"green\",\"green\",\"green\",\"green\",\"green\",\"green\",\"green\",\"green\",\"red\",\"green\",\"red\",\"green\",\"green\",\"red\",\"green\",\"green\",\"green\",\"green\",\"green\",\"green\",\"red\",\"green\",\"green\",\"red\",\"green\",\"red\",\"green\",\"green\",\"green\",\"green\",\"green\",\"green\",\"green\",\"green\",\"green\",\"green\",\"green\",\"green\",\"red\",\"green\",\"green\",\"green\",\"green\",\"green\",\"red\",\"green\",\"green\",\"green\",\"red\",\"green\",\"green\",\"green\",\"green\",\"green\",\"green\",\"green\",\"green\",\"green\",\"red\",\"red\",\"green\",\"green\",\"green\",\"green\",\"green\",\"green\",\"green\",\"green\",\"green\",\"green\",\"green\",\"green\",\"red\",\"red\",\"green\",\"green\",\"red\",\"green\",\"green\",\"green\",\"green\",\"green\",\"green\",\"green\",\"red\",\"green\",\"green\",\"green\",\"green\",\"green\",\"green\",\"green\",\"green\",\"green\",\"green\",\"green\",\"green\",\"green\",\"green\",\"red\",\"green\",\"green\",\"green\",\"red\",\"green\",\"green\",\"green\",\"green\",\"green\",\"green\",\"green\",\"green\",\"green\",\"green\",\"green\",\"green\",\"green\",\"green\",\"green\",\"red\",\"green\",\"green\",\"green\",\"green\",\"green\",\"green\",\"red\",\"green\",\"green\",\"green\",\"red\",\"green\",\"green\",\"green\",\"green\",\"green\",\"green\",\"green\",\"green\",\"green\",\"green\",\"green\",\"green\",\"green\",\"green\",\"green\",\"green\",\"green\",\"green\",\"green\",\"red\",\"green\",\"red\",\"green\",\"green\",\"green\",\"green\",\"green\",\"green\",\"green\",\"green\",\"green\",\"red\",\"red\",\"green\",\"red\",\"red\",\"green\",\"green\",\"green\",\"green\",\"green\",\"green\",\"green\",\"green\",\"green\",\"green\",\"green\",\"red\",\"green\",\"green\",\"green\",\"green\",\"green\",\"green\",\"green\",\"green\",\"green\",\"green\",\"green\",\"green\",\"green\",\"red\",\"green\",\"green\",\"green\",\"green\",\"green\",\"green\",\"green\",\"green\",\"green\",\"green\",\"green\",\"green\",\"green\",\"green\",\"green\",\"green\",\"green\",\"green\",\"green\",\"green\",\"green\",\"green\",\"red\",\"green\",\"green\",\"green\",\"green\",\"green\",\"green\",\"green\",\"green\",\"red\",\"green\",\"green\",\"green\",\"green\",\"green\",\"green\",\"green\",\"green\",\"red\",\"green\",\"green\",\"green\",\"green\",\"red\",\"green\",\"green\",\"green\",\"green\",\"green\",\"green\",\"green\",\"green\",\"green\",\"green\",\"green\",\"green\",\"green\",\"green\",\"green\",\"green\",\"green\",\"green\",\"green\",\"green\",\"red\",\"red\",\"red\",\"green\",\"green\",\"green\",\"red\",\"green\",\"green\",\"green\",\"green\",\"green\",\"green\",\"red\",\"red\",\"green\",\"green\",\"green\",\"green\",\"red\",\"green\",\"red\",\"green\",\"green\",\"green\",\"green\",\"green\",\"green\",\"green\",\"green\",\"red\",\"green\",\"green\",\"green\",\"green\",\"green\",\"green\",\"green\",\"green\",\"green\",\"green\",\"red\",\"green\",\"green\",\"green\",\"green\",\"green\",\"green\",\"green\",\"green\",\"green\",\"green\",\"green\",\"green\",\"green\",\"red\",\"red\",\"green\",\"green\",\"green\",\"green\",\"green\",\"green\",\"green\",\"green\",\"green\",\"red\",\"green\",\"red\",\"green\",\"green\",\"green\",\"green\",\"green\",\"green\",\"green\",\"green\",\"green\",\"green\",\"green\",\"green\",\"green\",\"green\",\"green\",\"green\",\"green\",\"green\",\"red\",\"green\",\"red\",\"green\",\"green\",\"green\",\"green\",\"green\",\"green\",\"red\",\"green\",\"green\",\"green\",\"green\",\"green\",\"green\",\"green\",\"red\",\"green\",\"green\",\"green\",\"green\",\"green\",\"green\",\"red\",\"green\",\"green\",\"green\",\"green\",\"green\",\"green\",\"green\",\"red\",\"green\",\"green\",\"green\",\"green\",\"green\",\"green\",\"green\",\"green\",\"green\",\"red\",\"green\",\"green\",\"green\",\"green\",\"green\",\"green\",\"green\",\"green\",\"green\",\"green\",\"red\",\"green\",\"green\",\"green\",\"green\",\"green\",\"green\",\"green\",\"green\",\"red\",\"green\",\"green\",\"green\",\"green\",\"green\",\"green\",\"green\",\"green\",\"green\",\"green\",\"green\",\"green\",\"green\",\"green\",\"green\",\"green\",\"green\",\"green\",\"green\",\"green\",\"red\",\"green\",\"green\",\"green\",\"green\",\"green\",\"green\",\"green\",\"green\",\"red\",\"green\",\"green\",\"green\",\"green\",\"green\",\"green\",\"green\",\"green\",\"green\",\"green\",\"red\",\"green\",\"green\",\"green\",\"green\",\"green\",\"red\",\"red\",\"green\",\"green\",\"red\",\"green\",\"green\",\"green\",\"green\",\"red\",\"green\",\"green\",\"green\",\"green\",\"green\",\"green\",\"green\",\"green\",\"green\",\"red\",\"green\",\"green\",\"green\",\"green\",\"red\",\"red\",\"green\",\"green\",\"green\",\"green\",\"red\",\"green\",\"green\",\"green\",\"green\",\"green\",\"green\",\"green\",\"green\",\"red\",\"green\",\"green\",\"green\",\"red\",\"green\",\"red\",\"green\",\"green\",\"green\",\"red\",\"green\",\"green\",\"green\",\"green\",\"red\",\"green\",\"green\",\"green\",\"green\",\"green\",\"green\",\"green\",\"green\",\"red\",\"green\",\"green\",\"green\",\"green\",\"green\",\"green\",\"green\",\"green\",\"green\",\"green\",\"green\",\"red\",\"red\",\"green\",\"green\",\"green\",\"green\",\"green\",\"green\",\"green\",\"green\",\"green\",\"green\",\"green\",\"green\",\"green\",\"red\",\"green\",\"green\",\"green\",\"green\",\"green\",\"green\",\"green\",\"green\",\"green\",\"red\",\"green\",\"green\",\"green\",\"green\",\"green\",\"green\",\"green\",\"green\",\"green\",\"green\",\"green\",\"green\",\"green\",\"green\",\"green\",\"green\",\"green\",\"green\",\"red\",\"green\",\"green\",\"green\",\"green\",\"green\",\"green\",\"green\",\"green\",\"green\",\"green\",\"green\",\"green\",\"green\",\"green\",\"green\",\"green\",\"green\",\"red\",\"green\",\"red\",\"green\",\"green\",\"green\",\"green\",\"green\",\"green\",\"green\",\"green\",\"green\",\"green\",\"red\",\"green\",\"green\",\"green\",\"red\",\"green\",\"green\",\"green\",\"green\",\"green\",\"green\",\"green\",\"green\",\"green\",\"green\",\"green\",\"green\",\"green\",\"green\",\"green\",\"green\",\"green\",\"green\",\"green\",\"green\",\"green\",\"green\",\"red\",\"red\",\"green\",\"red\",\"green\",\"green\",\"green\",\"green\",\"green\",\"green\",\"green\",\"green\",\"green\",\"green\",\"red\",\"green\",\"green\",\"red\",\"green\",\"green\",\"red\",\"green\",\"red\",\"green\",\"green\",\"green\",\"green\",\"green\",\"green\",\"green\",\"green\",\"green\",\"green\",\"green\",\"green\",\"green\",\"green\",\"green\",\"green\",\"green\",\"green\",\"green\",\"green\",\"red\",\"green\",\"green\",\"green\",\"green\",\"red\",\"green\",\"red\",\"green\",\"green\",\"red\",\"green\",\"green\",\"green\",\"green\",\"green\",\"green\",\"green\",\"red\",\"red\",\"green\",\"red\",\"red\",\"red\",\"green\",\"green\",\"green\",\"green\",\"green\",\"green\",\"green\",\"green\",\"green\",\"green\",\"green\",\"green\",\"green\",\"green\",\"red\",\"green\",\"green\",\"green\",\"green\",\"green\",\"green\",\"green\",\"green\",\"green\",\"green\",\"green\",\"green\",\"green\",\"green\",\"red\",\"green\",\"green\",\"green\",\"green\",\"green\",\"green\",\"green\",\"green\",\"red\",\"green\",\"red\",\"green\",\"green\",\"green\",\"green\",\"green\",\"red\",\"green\",\"green\",\"green\",\"red\",\"green\",\"green\",\"red\",\"green\",\"green\",\"green\",\"green\",\"green\",\"green\",\"red\",\"green\",\"green\",\"green\",\"red\",\"green\",\"green\",\"green\",\"green\",\"green\",\"green\",\"green\",\"red\",\"green\",\"green\",\"green\",\"green\",\"green\",\"green\",\"green\",\"green\",\"green\",\"green\",\"green\",\"green\",\"green\",\"green\",\"green\",\"red\",\"green\",\"green\",\"green\",\"green\",\"green\",\"green\",\"green\",\"green\",\"green\",\"green\",\"red\",\"green\",\"green\",\"green\",\"green\",\"green\",\"green\",\"red\",\"green\",\"green\",\"green\",\"green\",\"green\",\"green\",\"red\",\"green\",\"green\",\"red\",\"green\",\"green\",\"green\",\"green\",\"green\",\"green\",\"green\",\"red\",\"green\",\"green\",\"green\",\"green\",\"green\",\"green\",\"green\",\"green\",\"green\",\"green\",\"green\",\"green\",\"green\",\"green\",\"green\",\"green\",\"green\",\"green\",\"green\",\"green\",\"green\",\"green\",\"green\",\"green\",\"green\",\"green\",\"green\",\"green\",\"green\",\"green\",\"green\",\"green\",\"green\",\"green\",\"red\",\"green\",\"green\",\"green\",\"green\",\"green\",\"green\",\"red\",\"red\",\"green\",\"green\",\"green\",\"green\",\"green\",\"green\",\"green\",\"green\",\"green\",\"green\",\"green\",\"green\",\"green\",\"green\",\"red\",\"green\",\"green\",\"green\",\"green\",\"green\",\"green\",\"green\",\"green\",\"green\",\"green\",\"green\",\"green\",\"green\",\"green\",\"green\",\"green\",\"green\",\"red\",\"green\",\"green\",\"green\",\"green\",\"green\",\"green\",\"green\",\"green\",\"green\",\"green\",\"red\",\"green\",\"green\",\"green\",\"green\",\"green\",\"green\",\"green\",\"green\",\"green\",\"green\",\"green\",\"green\",\"green\",\"green\",\"green\",\"green\",\"green\",\"green\",\"green\",\"green\",\"green\",\"green\",\"red\",\"green\",\"green\",\"green\",\"green\",\"green\",\"green\",\"green\",\"red\",\"green\",\"red\",\"green\",\"green\",\"green\",\"green\",\"green\",\"green\",\"green\",\"green\",\"green\",\"green\",\"green\",\"green\",\"green\",\"green\",\"green\",\"red\",\"red\",\"green\",\"green\",\"green\",\"green\",\"green\",\"red\",\"green\",\"red\",\"green\",\"green\",\"green\",\"green\",\"green\",\"green\",\"red\",\"green\",\"green\",\"green\",\"green\",\"green\",\"red\",\"green\",\"green\",\"green\",\"green\",\"green\",\"green\",\"green\",\"green\",\"green\",\"green\",\"green\",\"green\",\"green\",\"green\",\"green\",\"red\",\"green\",\"green\",\"green\",\"green\",\"green\",\"green\",\"green\",\"red\",\"green\",\"green\",\"green\",\"green\",\"green\",\"red\",\"green\",\"green\",\"green\",\"green\",\"green\",\"red\",\"green\",\"green\",\"green\",\"green\",\"green\",\"green\",\"green\",\"green\",\"green\",\"red\",\"green\",\"green\",\"green\",\"green\",\"green\",\"green\",\"green\",\"green\",\"green\",\"green\",\"green\",\"green\",\"green\",\"green\",\"green\",\"green\",\"green\",\"green\",\"green\",\"green\",\"red\",\"red\",\"green\",\"green\",\"green\",\"green\",\"red\",\"red\",\"green\",\"green\",\"green\",\"green\",\"green\",\"green\",\"green\",\"green\",\"green\",\"red\",\"green\",\"green\",\"green\",\"green\",\"green\",\"red\",\"green\",\"green\",\"green\",\"green\",\"red\",\"green\",\"red\",\"green\",\"green\",\"green\",\"green\",\"green\",\"red\",\"green\",\"green\",\"green\",\"green\",\"green\",\"red\",\"green\",\"green\",\"red\",\"green\",\"green\",\"red\",\"green\",\"green\",\"green\",\"green\",\"green\",\"green\",\"green\",\"red\",\"green\",\"green\",\"green\",\"green\",\"green\",\"green\",\"green\",\"green\",\"green\",\"red\",\"red\",\"green\",\"green\",\"green\",\"green\",\"green\",\"green\",\"green\",\"green\",\"green\",\"green\",\"green\",\"red\",\"green\",\"green\",\"green\",\"green\",\"green\",\"green\",\"green\",\"green\",\"green\",\"green\",\"green\",\"green\",\"green\",\"green\",\"green\",\"green\",\"green\",\"green\",\"green\",\"green\",\"green\",\"green\",\"green\",\"green\",\"red\",\"green\",\"green\",\"red\",\"green\",\"green\",\"green\",\"red\",\"green\",\"green\",\"green\",\"green\",\"red\",\"green\",\"green\",\"green\",\"green\",\"green\",\"green\",\"green\",\"green\",\"green\",\"green\",\"green\",\"red\",\"green\",\"green\",\"green\",\"green\",\"green\",\"green\",\"green\",\"green\",\"green\",\"green\",\"green\",\"red\",\"green\",\"green\",\"green\",\"red\",\"green\",\"green\",\"green\",\"green\",\"green\",\"green\",\"green\",\"green\",\"green\",\"red\",\"green\",\"green\",\"red\",\"green\",\"red\",\"green\",\"green\",\"red\",\"green\",\"green\",\"green\",\"red\",\"green\",\"green\",\"green\",\"red\",\"green\",\"green\",\"green\",\"green\",\"green\",\"green\",\"green\",\"green\",\"green\",\"green\",\"green\",\"green\",\"green\",\"red\",\"green\",\"red\",\"green\",\"green\",\"green\",\"green\",\"green\",\"green\",\"green\",\"green\",\"green\",\"green\",\"green\",\"green\",\"red\",\"green\",\"green\",\"green\",\"green\",\"green\",\"green\",\"green\",\"red\",\"green\",\"green\",\"green\",\"green\",\"green\",\"green\",\"green\",\"red\",\"green\",\"red\",\"green\",\"green\",\"green\",\"green\",\"green\",\"green\",\"green\",\"green\",\"green\",\"green\",\"green\",\"green\",\"green\",\"green\",\"green\",\"red\",\"green\",\"green\",\"green\",\"green\",\"red\",\"green\",\"green\",\"green\",\"green\",\"green\",\"green\",\"green\",\"red\",\"green\",\"green\",\"green\",\"green\",\"red\",\"green\",\"green\",\"green\",\"green\",\"green\",\"green\",\"green\",\"green\",\"green\",\"green\",\"green\",\"green\",\"green\",\"green\",\"green\",\"green\",\"green\",\"green\",\"green\",\"green\",\"green\",\"green\",\"green\",\"green\",\"green\",\"red\",\"green\",\"green\",\"green\",\"red\",\"green\",\"green\",\"green\",\"green\",\"green\",\"green\",\"green\",\"green\",\"red\",\"green\",\"green\",\"green\",\"green\",\"red\",\"green\",\"green\",\"green\",\"green\",\"green\",\"red\",\"green\",\"green\",\"green\",\"green\",\"green\",\"green\",\"green\",\"green\",\"green\",\"green\",\"green\",\"green\",\"green\",\"green\",\"red\",\"green\",\"green\",\"green\",\"green\",\"green\",\"green\",\"red\",\"green\",\"green\",\"red\",\"green\",\"red\",\"green\",\"green\",\"green\",\"green\",\"green\",\"green\",\"green\",\"green\",\"green\",\"red\",\"green\",\"green\",\"red\",\"green\",\"green\",\"green\",\"red\",\"red\",\"green\",\"green\",\"green\",\"red\",\"green\",\"green\",\"green\",\"green\",\"green\",\"green\",\"green\",\"green\",\"green\",\"green\",\"green\",\"green\",\"green\",\"green\",\"green\",\"green\",\"green\",\"green\",\"green\",\"green\",\"green\",\"green\",\"green\",\"green\",\"green\",\"green\",\"green\",\"green\",\"green\",\"green\",\"green\",\"green\",\"green\",\"green\",\"green\",\"green\",\"green\",\"green\",\"green\",\"green\",\"green\",\"red\",\"green\",\"green\",\"red\",\"green\",\"green\",\"green\",\"green\",\"red\",\"green\",\"green\",\"red\",\"green\",\"green\",\"green\",\"green\",\"green\",\"green\",\"green\",\"green\",\"green\",\"green\",\"green\",\"green\",\"green\",\"green\",\"green\",\"green\",\"green\",\"green\",\"green\",\"green\",\"green\",\"green\",\"green\",\"green\",\"red\",\"green\",\"green\",\"green\",\"green\",\"green\",\"green\",\"green\",\"green\",\"green\",\"green\",\"green\",\"green\",\"green\",\"green\",\"green\",\"green\",\"green\",\"green\",\"red\",\"green\",\"green\",\"green\",\"green\",\"green\",\"green\",\"green\",\"green\",\"green\",\"green\",\"green\",\"red\",\"green\",\"green\",\"red\",\"green\",\"green\",\"green\",\"green\",\"green\",\"red\",\"green\",\"green\",\"green\",\"green\",\"green\",\"green\",\"green\",\"green\",\"red\",\"green\",\"green\",\"green\",\"green\",\"green\",\"green\",\"green\",\"green\",\"green\",\"green\",\"green\",\"red\",\"green\",\"red\",\"green\",\"green\",\"green\",\"green\",\"green\",\"green\",\"green\",\"green\",\"red\",\"green\",\"green\",\"red\",\"green\",\"green\",\"green\",\"green\",\"green\",\"green\",\"red\",\"green\",\"red\",\"green\",\"green\",\"green\",\"green\",\"green\",\"green\",\"green\",\"green\",\"green\",\"green\",\"green\",\"green\",\"red\",\"green\",\"green\",\"red\",\"green\",\"green\",\"green\",\"green\",\"green\",\"green\",\"green\",\"green\",\"green\",\"green\",\"green\",\"green\",\"green\",\"green\",\"green\",\"green\",\"green\",\"green\",\"green\",\"green\",\"green\",\"green\",\"green\",\"green\",\"red\",\"green\",\"green\",\"green\",\"green\",\"red\",\"green\",\"green\",\"green\",\"green\",\"green\",\"green\",\"red\",\"red\",\"green\",\"green\",\"green\",\"green\",\"green\",\"green\",\"green\",\"green\",\"green\",\"green\",\"green\",\"green\",\"green\",\"green\",\"green\",\"green\",\"green\",\"green\",\"green\",\"green\",\"green\",\"green\",\"green\",\"green\",\"green\",\"green\",\"green\",\"green\",\"green\",\"red\",\"green\",\"green\",\"green\",\"green\",\"green\",\"red\",\"green\",\"green\",\"green\",\"green\",\"green\",\"red\",\"green\",\"green\",\"green\",\"green\",\"green\",\"green\",\"green\",\"green\",\"green\",\"green\",\"green\",\"green\",\"green\",\"green\",\"green\",\"green\",\"red\",\"red\",\"green\",\"green\",\"green\",\"green\",\"green\",\"green\",\"green\",\"red\",\"red\",\"green\",\"green\",\"red\",\"green\",\"green\",\"green\",\"green\",\"green\",\"green\",\"green\",\"green\",\"green\",\"green\",\"green\",\"green\",\"green\",\"red\",\"green\",\"green\",\"green\",\"green\",\"green\",\"green\",\"green\",\"green\",\"green\",\"green\",\"green\",\"green\",\"green\",\"green\",\"green\",\"green\",\"green\",\"red\",\"green\",\"green\",\"green\",\"green\",\"green\",\"green\",\"green\",\"green\",\"green\",\"green\",\"green\",\"green\",\"green\",\"green\",\"green\",\"green\",\"green\",\"green\",\"green\",\"green\",\"green\",\"green\",\"green\",\"green\",\"green\",\"red\",\"green\",\"green\",\"green\",\"green\",\"green\",\"green\",\"green\",\"green\",\"green\",\"green\",\"green\",\"green\",\"green\",\"green\",\"green\",\"green\",\"green\",\"green\",\"green\",\"green\",\"green\",\"red\",\"green\",\"green\",\"red\",\"green\",\"green\",\"green\",\"green\",\"green\",\"red\",\"green\",\"green\",\"green\",\"green\",\"green\",\"red\",\"green\",\"green\",\"green\",\"red\",\"green\",\"green\",\"green\",\"green\",\"green\",\"green\",\"green\",\"red\",\"green\",\"green\",\"green\",\"green\",\"green\",\"green\",\"green\",\"green\",\"green\",\"red\",\"red\",\"red\",\"red\",\"red\",\"red\",\"red\",\"green\",\"green\",\"green\",\"green\",\"green\",\"green\",\"green\",\"red\",\"green\",\"green\",\"green\",\"green\",\"green\",\"green\",\"green\",\"green\",\"red\",\"red\",\"green\",\"green\",\"green\",\"green\",\"green\",\"green\",\"green\",\"green\",\"green\",\"green\",\"green\",\"green\",\"green\",\"green\",\"green\",\"green\",\"red\",\"green\",\"green\",\"red\",\"green\",\"green\",\"green\",\"green\",\"red\",\"green\",\"green\",\"green\",\"green\",\"green\",\"green\",\"green\",\"green\",\"green\",\"green\",\"green\",\"green\",\"green\",\"green\",\"red\",\"green\",\"green\",\"green\",\"green\",\"green\",\"green\",\"green\",\"green\",\"green\",\"green\",\"green\",\"red\",\"red\",\"green\",\"green\",\"green\",\"green\",\"red\",\"green\",\"green\",\"green\",\"green\",\"green\",\"green\",\"green\",\"green\",\"green\",\"green\",\"green\",\"green\",\"green\",\"green\",\"green\",\"green\",\"green\",\"green\",\"green\",\"green\",\"green\",\"green\",\"green\",\"green\",\"green\",\"green\",\"green\",\"red\",\"red\",\"green\",\"green\",\"green\",\"green\",\"green\",\"green\",\"green\",\"green\",\"green\",\"green\",\"green\",\"green\",\"green\",\"green\",\"green\",\"green\",\"green\",\"red\",\"green\",\"green\",\"green\",\"green\",\"green\",\"green\",\"green\",\"red\",\"green\",\"green\",\"green\",\"red\",\"green\",\"red\",\"green\",\"red\",\"green\",\"green\",\"green\",\"red\",\"green\",\"green\",\"red\",\"green\",\"green\",\"red\",\"green\",\"green\",\"green\",\"green\",\"green\",\"green\",\"green\",\"green\",\"green\",\"green\",\"red\",\"green\",\"red\",\"green\",\"green\",\"green\",\"green\",\"green\",\"green\",\"green\",\"red\",\"green\",\"green\",\"red\",\"green\",\"green\",\"green\",\"green\",\"green\",\"green\",\"green\",\"green\",\"green\",\"green\",\"green\",\"green\",\"green\",\"green\",\"green\",\"green\",\"green\",\"green\",\"green\",\"green\",\"green\",\"red\",\"green\",\"green\",\"green\",\"green\",\"green\",\"green\",\"green\",\"green\",\"green\",\"green\",\"red\",\"green\",\"green\",\"green\",\"green\",\"green\",\"green\",\"green\",\"red\",\"green\",\"green\",\"red\",\"green\",\"green\",\"green\",\"red\",\"green\",\"green\",\"green\",\"green\",\"green\",\"green\",\"green\",\"green\",\"green\",\"green\",\"green\",\"green\",\"green\",\"green\",\"green\",\"green\",\"green\",\"green\",\"green\",\"green\",\"green\",\"green\",\"green\",\"green\",\"green\",\"green\",\"green\",\"green\",\"red\",\"green\",\"green\",\"green\",\"red\",\"green\",\"green\",\"green\",\"green\",\"green\",\"green\",\"green\",\"green\",\"green\",\"green\",\"green\",\"green\",\"green\",\"green\",\"green\",\"green\",\"green\",\"green\",\"red\",\"green\",\"green\",\"green\",\"green\",\"green\",\"green\",\"green\",\"green\",\"green\",\"green\",\"red\",\"green\",\"green\",\"green\",\"green\",\"green\",\"green\",\"green\",\"green\",\"green\",\"green\",\"red\",\"green\",\"green\",\"green\",\"green\",\"red\",\"green\",\"green\",\"green\",\"green\",\"green\",\"green\",\"green\",\"green\",\"green\",\"green\",\"green\",\"green\",\"green\",\"green\",\"green\",\"green\",\"red\",\"green\",\"green\",\"green\",\"green\",\"green\",\"green\",\"green\",\"red\",\"green\",\"green\",\"green\",\"green\",\"red\",\"green\",\"green\",\"red\",\"green\",\"green\",\"green\",\"green\",\"red\",\"green\",\"green\",\"red\",\"green\",\"green\",\"green\",\"green\",\"green\",\"green\",\"green\",\"green\",\"green\",\"green\",\"green\",\"red\",\"green\",\"red\",\"green\",\"green\",\"green\",\"green\",\"green\",\"green\",\"green\",\"green\",\"red\",\"green\",\"green\",\"red\",\"green\",\"green\",\"green\",\"green\",\"green\",\"green\",\"green\",\"green\",\"red\",\"green\",\"green\",\"green\",\"green\",\"green\",\"red\",\"green\",\"green\",\"green\",\"green\",\"green\",\"green\",\"green\",\"green\",\"green\",\"green\",\"green\",\"red\",\"green\",\"green\",\"green\",\"green\",\"green\",\"green\",\"green\",\"green\",\"red\",\"green\",\"green\",\"green\",\"green\",\"green\",\"green\",\"green\",\"green\",\"green\",\"green\",\"green\",\"green\",\"green\",\"green\",\"green\",\"green\",\"green\",\"green\",\"green\",\"red\",\"green\",\"green\",\"green\",\"green\",\"green\",\"green\",\"green\",\"red\",\"green\",\"green\",\"green\",\"red\",\"green\",\"red\",\"green\",\"red\",\"green\",\"green\",\"green\",\"green\",\"green\",\"green\",\"green\",\"green\",\"green\",\"green\",\"green\",\"green\",\"green\",\"green\",\"green\",\"green\",\"green\",\"green\",\"green\",\"green\",\"red\",\"green\",\"green\",\"green\",\"green\",\"green\",\"red\",\"green\",\"red\",\"green\",\"red\",\"green\",\"red\",\"green\",\"green\",\"green\",\"green\",\"green\",\"green\",\"green\",\"red\",\"red\",\"green\",\"green\",\"green\",\"green\",\"green\",\"green\",\"red\",\"green\",\"green\",\"green\",\"green\",\"green\",\"green\",\"green\",\"red\",\"green\",\"green\",\"green\",\"green\",\"green\",\"green\",\"green\",\"green\",\"green\",\"green\",\"green\",\"green\",\"green\",\"green\",\"green\",\"green\",\"green\",\"green\",\"green\",\"green\",\"red\",\"green\",\"green\",\"green\",\"green\",\"green\",\"green\",\"green\",\"green\",\"green\",\"green\",\"green\",\"red\",\"green\",\"green\",\"green\",\"green\",\"green\",\"green\",\"green\",\"green\",\"red\",\"green\",\"green\",\"green\",\"green\",\"red\",\"green\",\"green\",\"green\",\"red\",\"green\",\"green\",\"green\",\"green\",\"green\",\"red\",\"green\",\"green\",\"red\",\"green\",\"green\",\"green\",\"green\",\"green\",\"green\",\"red\",\"green\",\"green\",\"red\",\"green\",\"green\",\"green\",\"green\",\"green\",\"green\",\"red\",\"red\",\"green\",\"red\",\"green\",\"green\",\"green\",\"green\",\"green\",\"green\",\"green\",\"green\",\"green\",\"red\",\"red\",\"green\",\"green\",\"green\",\"red\",\"green\",\"green\",\"green\",\"red\",\"green\",\"green\",\"green\",\"green\",\"green\",\"green\",\"green\",\"green\",\"green\",\"green\",\"green\",\"green\",\"green\",\"green\",\"green\",\"red\",\"green\",\"green\",\"green\",\"green\",\"green\",\"red\",\"green\",\"green\",\"green\",\"green\",\"red\",\"red\",\"green\",\"green\",\"green\",\"green\",\"green\",\"green\",\"green\",\"green\",\"green\",\"green\",\"green\",\"red\",\"red\",\"green\",\"green\",\"green\",\"green\",\"green\",\"green\",\"red\",\"red\",\"green\",\"green\",\"green\",\"red\",\"green\",\"green\",\"green\",\"red\",\"green\",\"green\",\"green\",\"green\",\"green\",\"green\",\"green\",\"green\",\"red\",\"green\",\"red\",\"green\",\"green\",\"red\",\"green\",\"green\",\"green\",\"green\",\"green\",\"green\",\"green\",\"green\",\"green\",\"green\",\"red\",\"green\",\"red\",\"green\",\"green\",\"green\",\"red\",\"green\",\"green\",\"green\",\"red\",\"green\",\"green\",\"green\",\"green\",\"green\",\"green\",\"green\",\"green\",\"green\",\"green\",\"green\",\"green\",\"green\",\"green\",\"red\",\"green\",\"green\",\"green\",\"green\",\"green\",\"green\",\"red\",\"green\",\"green\",\"green\",\"green\",\"green\",\"green\",\"green\",\"green\",\"green\",\"red\",\"green\",\"green\",\"green\",\"green\",\"red\",\"green\",\"green\",\"green\",\"green\",\"red\",\"green\",\"red\",\"green\",\"green\",\"green\",\"green\",\"green\",\"red\",\"green\",\"green\",\"green\",\"red\",\"green\",\"green\",\"red\",\"green\",\"green\",\"green\",\"green\",\"green\",\"green\",\"green\",\"green\",\"green\",\"green\",\"green\",\"green\",\"green\",\"red\",\"green\",\"green\",\"green\",\"green\",\"green\",\"green\",\"green\",\"green\",\"green\",\"green\",\"green\",\"green\",\"red\",\"green\",\"red\",\"red\",\"red\",\"green\",\"green\",\"green\",\"green\",\"green\",\"red\",\"green\",\"green\",\"green\",\"green\",\"green\",\"green\",\"red\",\"green\",\"green\",\"green\",\"green\",\"green\",\"green\",\"green\",\"green\",\"green\",\"green\",\"green\",\"green\",\"green\",\"green\",\"green\",\"green\",\"green\",\"green\",\"green\",\"green\",\"green\",\"green\",\"red\",\"red\",\"green\",\"green\",\"green\",\"green\",\"green\",\"red\",\"green\",\"green\",\"green\",\"green\",\"red\",\"red\",\"green\",\"green\",\"green\",\"green\",\"green\",\"green\",\"red\",\"green\",\"red\",\"green\",\"green\",\"green\",\"green\",\"green\",\"green\",\"green\",\"green\",\"green\",\"green\",\"green\",\"green\",\"green\",\"red\",\"green\",\"green\",\"green\",\"green\",\"green\",\"green\",\"green\",\"red\",\"red\",\"green\",\"green\",\"green\",\"green\",\"green\",\"green\",\"green\",\"green\",\"green\",\"green\",\"green\",\"green\",\"green\",\"red\",\"red\",\"red\",\"red\",\"red\",\"green\",\"green\",\"green\",\"green\",\"green\",\"green\",\"green\",\"green\",\"green\",\"green\",\"green\",\"red\",\"green\",\"green\",\"green\",\"green\",\"green\",\"green\",\"green\",\"green\",\"green\",\"green\",\"green\",\"green\",\"green\",\"green\",\"green\",\"green\",\"green\",\"red\",\"green\",\"green\",\"green\",\"green\",\"green\",\"green\",\"green\",\"green\",\"green\",\"green\",\"green\",\"green\",\"green\",\"green\",\"green\",\"green\",\"green\",\"green\",\"red\",\"green\",\"green\",\"green\",\"green\",\"green\",\"green\",\"red\",\"green\",\"green\",\"green\",\"red\",\"green\",\"green\",\"green\",\"green\",\"green\",\"green\",\"green\",\"green\",\"green\",\"green\",\"green\",\"red\",\"green\",\"red\",\"green\",\"green\",\"red\",\"red\",\"green\",\"green\",\"green\",\"green\",\"green\",\"green\",\"green\",\"green\",\"red\",\"green\",\"green\",\"green\",\"green\",\"green\",\"green\",\"green\",\"red\",\"green\",\"green\",\"green\",\"green\",\"green\",\"green\",\"green\",\"green\",\"green\",\"green\",\"green\",\"green\",\"red\",\"green\",\"green\",\"red\",\"green\",\"green\",\"green\",\"green\",\"green\",\"green\",\"green\",\"green\",\"green\",\"green\",\"green\",\"green\",\"green\",\"green\",\"green\",\"green\",\"green\",\"green\",\"green\",\"green\",\"green\",\"green\",\"green\",\"green\",\"green\",\"red\",\"green\",\"green\",\"green\",\"green\",\"green\",\"green\",\"green\",\"green\",\"green\",\"green\",\"green\",\"green\",\"green\",\"red\",\"green\",\"green\",\"green\",\"green\",\"green\",\"green\",\"green\",\"green\",\"green\",\"red\",\"green\",\"green\",\"green\",\"green\",\"green\",\"green\",\"green\",\"green\",\"green\",\"green\",\"green\",\"green\",\"red\",\"green\",\"red\",\"green\",\"green\",\"green\",\"green\",\"green\",\"green\",\"green\",\"green\",\"green\",\"green\",\"green\",\"green\",\"green\",\"green\",\"green\",\"green\",\"green\",\"green\",\"green\",\"green\",\"green\",\"green\",\"green\",\"red\",\"red\",\"green\",\"green\",\"green\",\"green\",\"green\",\"red\",\"green\",\"green\",\"green\",\"green\",\"green\",\"green\",\"green\",\"red\",\"green\",\"green\",\"red\",\"green\",\"green\",\"green\",\"green\",\"green\",\"green\",\"green\",\"green\",\"green\",\"red\",\"green\",\"green\",\"green\",\"green\",\"green\",\"green\",\"red\",\"green\",\"green\",\"green\",\"green\",\"green\",\"green\",\"green\",\"green\",\"red\",\"green\",\"green\",\"green\",\"green\",\"green\",\"green\",\"green\",\"green\",\"green\",\"green\",\"green\",\"green\",\"green\",\"green\",\"green\",\"green\",\"green\",\"green\",\"green\",\"green\",\"green\",\"green\",\"green\",\"green\",\"green\",\"green\",\"green\",\"red\",\"green\",\"green\",\"red\",\"green\",\"green\",\"red\",\"red\",\"red\",\"green\",\"green\",\"green\",\"green\",\"red\",\"green\",\"red\",\"red\",\"green\",\"green\",\"green\",\"green\",\"red\",\"green\",\"green\",\"green\",\"green\",\"green\",\"green\",\"green\",\"green\",\"green\",\"red\",\"green\",\"green\",\"green\",\"green\",\"green\",\"green\",\"green\",\"green\",\"green\",\"green\",\"green\",\"green\",\"green\",\"red\",\"green\",\"green\",\"green\",\"green\",\"green\",\"green\",\"green\",\"green\",\"green\",\"green\",\"green\",\"red\",\"red\",\"green\",\"green\",\"green\",\"green\",\"green\",\"green\",\"green\",\"green\",\"green\",\"green\",\"green\",\"green\",\"green\",\"red\",\"green\",\"green\",\"green\",\"red\",\"green\",\"green\",\"green\",\"green\",\"red\",\"green\",\"green\",\"green\",\"green\",\"green\",\"red\",\"green\",\"green\",\"green\",\"green\",\"green\",\"green\",\"green\",\"green\",\"green\",\"green\",\"green\",\"green\",\"green\",\"green\",\"red\",\"green\",\"green\",\"red\",\"green\",\"green\",\"green\",\"green\",\"green\",\"green\",\"green\",\"green\",\"green\",\"green\",\"green\",\"green\",\"green\",\"green\",\"green\",\"green\",\"green\",\"green\",\"green\",\"red\",\"green\",\"green\",\"green\",\"green\",\"red\",\"green\",\"green\",\"green\",\"green\",\"green\",\"green\",\"green\",\"green\",\"green\",\"green\",\"green\",\"green\",\"green\",\"green\",\"green\",\"green\",\"green\",\"green\",\"green\",\"green\",\"green\",\"green\",\"green\",\"red\",\"green\",\"green\",\"red\",\"green\",\"green\",\"green\",\"green\",\"green\",\"green\",\"red\",\"green\",\"green\",\"green\",\"green\",\"green\",\"green\",\"green\",\"green\",\"green\",\"green\",\"red\",\"green\",\"green\",\"green\",\"green\",\"green\",\"red\",\"green\",\"red\",\"green\",\"green\",\"green\",\"green\",\"red\",\"red\",\"green\",\"green\",\"green\",\"green\",\"green\",\"green\",\"green\",\"red\",\"green\",\"green\",\"green\",\"green\",\"green\",\"green\",\"green\",\"green\",\"green\",\"green\",\"green\",\"green\",\"green\",\"green\",\"green\",\"green\",\"green\",\"red\",\"green\",\"green\",\"green\",\"green\",\"green\",\"green\",\"green\",\"green\",\"green\",\"green\",\"red\",\"red\",\"green\",\"green\",\"green\",\"green\",\"green\",\"green\",\"green\",\"green\",\"green\",\"red\",\"green\",\"green\",\"green\",\"green\",\"green\",\"green\",\"green\",\"green\",\"green\",\"green\",\"green\",\"green\",\"red\",\"green\",\"red\",\"green\",\"green\",\"green\",\"green\",\"green\",\"green\",\"green\",\"green\",\"green\",\"green\",\"red\",\"green\",\"green\",\"green\",\"green\",\"green\",\"green\",\"red\",\"green\",\"green\",\"green\",\"red\",\"green\",\"green\",\"green\",\"green\",\"green\",\"green\",\"green\",\"green\",\"green\",\"green\",\"green\",\"green\",\"green\",\"green\",\"green\",\"green\",\"green\",\"red\",\"red\",\"green\",\"green\",\"green\",\"green\",\"green\",\"green\",\"green\",\"green\",\"green\",\"green\",\"green\",\"green\",\"red\",\"green\",\"red\",\"green\",\"green\",\"green\",\"green\",\"green\",\"green\",\"green\",\"green\",\"red\",\"green\",\"green\",\"green\",\"green\",\"green\",\"green\",\"green\",\"red\",\"green\",\"green\",\"green\",\"green\",\"red\",\"green\",\"red\",\"green\",\"green\",\"red\",\"green\",\"green\",\"green\",\"green\",\"green\",\"green\",\"green\",\"red\",\"green\",\"green\",\"green\",\"red\",\"green\",\"green\",\"green\",\"green\",\"green\",\"green\",\"green\",\"green\",\"green\",\"green\",\"green\",\"red\",\"red\",\"green\",\"green\",\"green\",\"green\",\"green\",\"green\",\"green\",\"green\",\"green\",\"green\",\"green\",\"green\",\"green\",\"green\",\"green\",\"green\",\"red\",\"red\",\"green\",\"green\",\"green\",\"red\",\"green\",\"green\",\"green\",\"green\",\"green\",\"green\",\"green\",\"green\",\"green\",\"green\",\"green\",\"red\",\"green\",\"red\",\"red\",\"green\",\"green\",\"green\",\"green\",\"green\",\"green\",\"green\",\"green\",\"green\",\"green\",\"green\",\"green\",\"green\",\"green\",\"green\",\"green\",\"red\",\"green\",\"green\",\"green\",\"green\",\"green\",\"red\",\"green\",\"green\",\"green\",\"green\",\"green\",\"green\",\"green\",\"green\",\"green\",\"green\",\"green\",\"green\",\"red\",\"green\",\"green\",\"green\",\"green\",\"green\",\"green\",\"green\",\"red\",\"green\",\"green\",\"green\",\"green\",\"green\",\"red\",\"green\",\"green\",\"green\",\"green\",\"green\",\"green\",\"green\",\"green\",\"red\",\"red\",\"green\",\"red\",\"green\",\"green\",\"green\",\"green\",\"green\",\"green\",\"red\",\"green\",\"green\",\"green\",\"red\",\"green\",\"red\",\"green\",\"green\",\"green\",\"green\",\"green\",\"green\",\"green\",\"green\",\"green\",\"green\",\"green\",\"red\",\"green\",\"green\",\"green\",\"green\",\"red\",\"green\",\"green\",\"green\",\"green\",\"green\",\"green\",\"green\",\"red\",\"green\",\"green\",\"red\",\"green\",\"red\",\"green\",\"green\",\"red\",\"green\",\"green\",\"red\",\"green\",\"green\",\"green\",\"green\",\"green\",\"green\",\"green\",\"green\",\"green\",\"green\",\"green\",\"green\",\"green\",\"green\",\"green\",\"green\",\"green\",\"green\",\"green\",\"green\",\"red\",\"green\",\"green\",\"green\",\"red\",\"green\",\"green\",\"green\",\"green\",\"green\",\"green\",\"green\",\"red\",\"green\",\"red\",\"green\",\"green\",\"red\",\"green\",\"green\",\"green\",\"green\",\"red\",\"green\",\"green\",\"green\",\"green\",\"green\",\"green\",\"green\",\"green\",\"green\",\"green\",\"green\",\"green\",\"green\",\"green\",\"green\",\"green\",\"red\",\"green\",\"green\",\"green\",\"red\",\"green\",\"green\",\"green\",\"green\",\"green\",\"red\",\"green\",\"green\",\"green\",\"green\",\"green\",\"green\",\"green\",\"green\",\"green\",\"green\",\"green\",\"green\",\"green\",\"green\",\"green\",\"green\",\"red\",\"green\",\"green\",\"green\",\"green\",\"green\",\"green\",\"green\",\"green\",\"green\",\"green\",\"green\",\"green\",\"green\",\"red\",\"green\",\"green\",\"green\",\"green\",\"green\",\"green\",\"green\",\"green\",\"green\",\"green\",\"red\",\"red\",\"green\",\"green\",\"green\",\"green\",\"green\",\"red\",\"green\",\"green\",\"green\",\"red\",\"red\",\"green\",\"green\",\"green\",\"red\",\"green\",\"green\",\"green\",\"green\",\"green\",\"green\",\"green\",\"green\",\"red\",\"green\",\"green\",\"green\",\"green\",\"green\",\"green\",\"green\",\"green\",\"green\",\"green\",\"green\",\"green\",\"green\",\"red\",\"green\",\"green\",\"green\",\"red\",\"green\",\"green\",\"green\",\"green\",\"red\",\"green\",\"green\",\"green\",\"green\",\"green\",\"green\",\"green\",\"green\",\"green\",\"green\",\"green\",\"green\",\"red\",\"green\",\"green\",\"green\",\"green\",\"green\",\"green\",\"green\",\"green\",\"green\",\"green\",\"green\",\"green\",\"green\",\"green\",\"green\",\"green\",\"green\",\"green\",\"red\",\"green\",\"green\",\"green\",\"green\",\"green\",\"green\",\"green\",\"green\",\"red\",\"green\",\"green\",\"green\",\"green\",\"green\",\"green\",\"red\",\"green\",\"green\",\"green\",\"green\",\"green\",\"green\",\"red\",\"green\",\"red\",\"green\",\"green\",\"green\",\"green\",\"green\",\"green\",\"green\",\"green\",\"green\",\"green\",\"green\",\"green\",\"green\",\"green\",\"green\",\"green\",\"green\",\"green\",\"green\",\"red\",\"green\",\"green\",\"green\",\"green\",\"green\",\"green\",\"green\",\"green\",\"green\",\"green\",\"green\",\"green\",\"green\",\"green\",\"green\",\"green\",\"green\",\"green\",\"green\",\"green\",\"green\",\"green\",\"green\",\"green\",\"green\",\"green\",\"green\",\"red\",\"green\",\"green\",\"green\",\"green\",\"green\",\"green\",\"green\",\"green\",\"green\",\"green\",\"green\",\"green\",\"green\",\"green\",\"green\",\"green\",\"green\",\"green\",\"green\",\"green\",\"green\",\"red\",\"red\",\"red\",\"green\",\"red\",\"green\",\"red\",\"green\",\"green\",\"green\",\"green\",\"green\",\"green\",\"red\",\"red\",\"green\",\"green\",\"red\",\"green\",\"green\",\"green\",\"green\",\"green\",\"green\",\"green\",\"green\",\"green\",\"green\",\"green\",\"green\",\"green\",\"green\",\"green\",\"green\",\"green\",\"green\",\"green\",\"green\",\"green\",\"green\",\"green\",\"green\",\"green\",\"green\",\"green\",\"green\",\"green\",\"green\",\"green\",\"green\",\"green\",\"green\",\"green\",\"green\",\"green\",\"green\",\"green\",\"green\",\"green\",\"green\",\"green\",\"green\",\"green\",\"red\",\"green\",\"green\",\"green\",\"green\",\"green\",\"green\",\"green\",\"green\",\"green\",\"green\",\"green\",\"green\",\"green\",\"green\",\"green\",\"red\",\"green\",\"green\",\"green\",\"green\",\"green\",\"red\",\"green\",\"green\",\"green\",\"green\",\"green\",\"green\",\"red\",\"green\",\"green\",\"green\",\"red\",\"green\",\"red\",\"green\",\"green\",\"green\",\"red\",\"red\",\"red\",\"green\",\"green\",\"green\",\"green\",\"green\",\"green\",\"green\",\"green\",\"green\",\"green\",\"green\",\"green\",\"green\",\"red\",\"green\",\"green\",\"green\",\"green\",\"red\",\"green\",\"green\",\"green\",\"green\",\"red\",\"green\",\"green\",\"green\",\"green\",\"red\",\"green\",\"green\",\"green\",\"red\",\"green\",\"green\",\"green\",\"green\",\"green\",\"green\",\"green\",\"green\",\"green\",\"green\",\"green\",\"green\",\"green\",\"green\",\"green\",\"green\",\"green\",\"green\",\"green\",\"green\",\"green\",\"green\",\"red\",\"green\",\"red\",\"green\",\"green\",\"green\",\"green\",\"green\",\"green\",\"green\",\"green\",\"green\",\"green\",\"red\",\"green\",\"green\",\"red\",\"green\",\"green\",\"green\",\"green\",\"green\",\"green\",\"red\",\"green\",\"green\",\"green\",\"green\",\"green\",\"green\",\"green\",\"green\",\"green\",\"green\",\"green\",\"green\",\"green\",\"green\",\"green\",\"green\",\"green\",\"green\",\"red\",\"red\",\"green\",\"green\",\"green\",\"green\"]},\"name\":\"\",\"showlegend\":true,\"type\":\"pie\",\"textinfo\":\"value+percent\"}],                        {\"template\":{\"data\":{\"bar\":[{\"error_x\":{\"color\":\"#2a3f5f\"},\"error_y\":{\"color\":\"#2a3f5f\"},\"marker\":{\"line\":{\"color\":\"#E5ECF6\",\"width\":0.5},\"pattern\":{\"fillmode\":\"overlay\",\"size\":10,\"solidity\":0.2}},\"type\":\"bar\"}],\"barpolar\":[{\"marker\":{\"line\":{\"color\":\"#E5ECF6\",\"width\":0.5},\"pattern\":{\"fillmode\":\"overlay\",\"size\":10,\"solidity\":0.2}},\"type\":\"barpolar\"}],\"carpet\":[{\"aaxis\":{\"endlinecolor\":\"#2a3f5f\",\"gridcolor\":\"white\",\"linecolor\":\"white\",\"minorgridcolor\":\"white\",\"startlinecolor\":\"#2a3f5f\"},\"baxis\":{\"endlinecolor\":\"#2a3f5f\",\"gridcolor\":\"white\",\"linecolor\":\"white\",\"minorgridcolor\":\"white\",\"startlinecolor\":\"#2a3f5f\"},\"type\":\"carpet\"}],\"choropleth\":[{\"colorbar\":{\"outlinewidth\":0,\"ticks\":\"\"},\"type\":\"choropleth\"}],\"contour\":[{\"colorbar\":{\"outlinewidth\":0,\"ticks\":\"\"},\"colorscale\":[[0.0,\"#0d0887\"],[0.1111111111111111,\"#46039f\"],[0.2222222222222222,\"#7201a8\"],[0.3333333333333333,\"#9c179e\"],[0.4444444444444444,\"#bd3786\"],[0.5555555555555556,\"#d8576b\"],[0.6666666666666666,\"#ed7953\"],[0.7777777777777778,\"#fb9f3a\"],[0.8888888888888888,\"#fdca26\"],[1.0,\"#f0f921\"]],\"type\":\"contour\"}],\"contourcarpet\":[{\"colorbar\":{\"outlinewidth\":0,\"ticks\":\"\"},\"type\":\"contourcarpet\"}],\"heatmap\":[{\"colorbar\":{\"outlinewidth\":0,\"ticks\":\"\"},\"colorscale\":[[0.0,\"#0d0887\"],[0.1111111111111111,\"#46039f\"],[0.2222222222222222,\"#7201a8\"],[0.3333333333333333,\"#9c179e\"],[0.4444444444444444,\"#bd3786\"],[0.5555555555555556,\"#d8576b\"],[0.6666666666666666,\"#ed7953\"],[0.7777777777777778,\"#fb9f3a\"],[0.8888888888888888,\"#fdca26\"],[1.0,\"#f0f921\"]],\"type\":\"heatmap\"}],\"heatmapgl\":[{\"colorbar\":{\"outlinewidth\":0,\"ticks\":\"\"},\"colorscale\":[[0.0,\"#0d0887\"],[0.1111111111111111,\"#46039f\"],[0.2222222222222222,\"#7201a8\"],[0.3333333333333333,\"#9c179e\"],[0.4444444444444444,\"#bd3786\"],[0.5555555555555556,\"#d8576b\"],[0.6666666666666666,\"#ed7953\"],[0.7777777777777778,\"#fb9f3a\"],[0.8888888888888888,\"#fdca26\"],[1.0,\"#f0f921\"]],\"type\":\"heatmapgl\"}],\"histogram\":[{\"marker\":{\"pattern\":{\"fillmode\":\"overlay\",\"size\":10,\"solidity\":0.2}},\"type\":\"histogram\"}],\"histogram2d\":[{\"colorbar\":{\"outlinewidth\":0,\"ticks\":\"\"},\"colorscale\":[[0.0,\"#0d0887\"],[0.1111111111111111,\"#46039f\"],[0.2222222222222222,\"#7201a8\"],[0.3333333333333333,\"#9c179e\"],[0.4444444444444444,\"#bd3786\"],[0.5555555555555556,\"#d8576b\"],[0.6666666666666666,\"#ed7953\"],[0.7777777777777778,\"#fb9f3a\"],[0.8888888888888888,\"#fdca26\"],[1.0,\"#f0f921\"]],\"type\":\"histogram2d\"}],\"histogram2dcontour\":[{\"colorbar\":{\"outlinewidth\":0,\"ticks\":\"\"},\"colorscale\":[[0.0,\"#0d0887\"],[0.1111111111111111,\"#46039f\"],[0.2222222222222222,\"#7201a8\"],[0.3333333333333333,\"#9c179e\"],[0.4444444444444444,\"#bd3786\"],[0.5555555555555556,\"#d8576b\"],[0.6666666666666666,\"#ed7953\"],[0.7777777777777778,\"#fb9f3a\"],[0.8888888888888888,\"#fdca26\"],[1.0,\"#f0f921\"]],\"type\":\"histogram2dcontour\"}],\"mesh3d\":[{\"colorbar\":{\"outlinewidth\":0,\"ticks\":\"\"},\"type\":\"mesh3d\"}],\"parcoords\":[{\"line\":{\"colorbar\":{\"outlinewidth\":0,\"ticks\":\"\"}},\"type\":\"parcoords\"}],\"pie\":[{\"automargin\":true,\"type\":\"pie\"}],\"scatter\":[{\"marker\":{\"colorbar\":{\"outlinewidth\":0,\"ticks\":\"\"}},\"type\":\"scatter\"}],\"scatter3d\":[{\"line\":{\"colorbar\":{\"outlinewidth\":0,\"ticks\":\"\"}},\"marker\":{\"colorbar\":{\"outlinewidth\":0,\"ticks\":\"\"}},\"type\":\"scatter3d\"}],\"scattercarpet\":[{\"marker\":{\"colorbar\":{\"outlinewidth\":0,\"ticks\":\"\"}},\"type\":\"scattercarpet\"}],\"scattergeo\":[{\"marker\":{\"colorbar\":{\"outlinewidth\":0,\"ticks\":\"\"}},\"type\":\"scattergeo\"}],\"scattergl\":[{\"marker\":{\"colorbar\":{\"outlinewidth\":0,\"ticks\":\"\"}},\"type\":\"scattergl\"}],\"scattermapbox\":[{\"marker\":{\"colorbar\":{\"outlinewidth\":0,\"ticks\":\"\"}},\"type\":\"scattermapbox\"}],\"scatterpolar\":[{\"marker\":{\"colorbar\":{\"outlinewidth\":0,\"ticks\":\"\"}},\"type\":\"scatterpolar\"}],\"scatterpolargl\":[{\"marker\":{\"colorbar\":{\"outlinewidth\":0,\"ticks\":\"\"}},\"type\":\"scatterpolargl\"}],\"scatterternary\":[{\"marker\":{\"colorbar\":{\"outlinewidth\":0,\"ticks\":\"\"}},\"type\":\"scatterternary\"}],\"surface\":[{\"colorbar\":{\"outlinewidth\":0,\"ticks\":\"\"},\"colorscale\":[[0.0,\"#0d0887\"],[0.1111111111111111,\"#46039f\"],[0.2222222222222222,\"#7201a8\"],[0.3333333333333333,\"#9c179e\"],[0.4444444444444444,\"#bd3786\"],[0.5555555555555556,\"#d8576b\"],[0.6666666666666666,\"#ed7953\"],[0.7777777777777778,\"#fb9f3a\"],[0.8888888888888888,\"#fdca26\"],[1.0,\"#f0f921\"]],\"type\":\"surface\"}],\"table\":[{\"cells\":{\"fill\":{\"color\":\"#EBF0F8\"},\"line\":{\"color\":\"white\"}},\"header\":{\"fill\":{\"color\":\"#C8D4E3\"},\"line\":{\"color\":\"white\"}},\"type\":\"table\"}]},\"layout\":{\"annotationdefaults\":{\"arrowcolor\":\"#2a3f5f\",\"arrowhead\":0,\"arrowwidth\":1},\"autotypenumbers\":\"strict\",\"coloraxis\":{\"colorbar\":{\"outlinewidth\":0,\"ticks\":\"\"}},\"colorscale\":{\"diverging\":[[0,\"#8e0152\"],[0.1,\"#c51b7d\"],[0.2,\"#de77ae\"],[0.3,\"#f1b6da\"],[0.4,\"#fde0ef\"],[0.5,\"#f7f7f7\"],[0.6,\"#e6f5d0\"],[0.7,\"#b8e186\"],[0.8,\"#7fbc41\"],[0.9,\"#4d9221\"],[1,\"#276419\"]],\"sequential\":[[0.0,\"#0d0887\"],[0.1111111111111111,\"#46039f\"],[0.2222222222222222,\"#7201a8\"],[0.3333333333333333,\"#9c179e\"],[0.4444444444444444,\"#bd3786\"],[0.5555555555555556,\"#d8576b\"],[0.6666666666666666,\"#ed7953\"],[0.7777777777777778,\"#fb9f3a\"],[0.8888888888888888,\"#fdca26\"],[1.0,\"#f0f921\"]],\"sequentialminus\":[[0.0,\"#0d0887\"],[0.1111111111111111,\"#46039f\"],[0.2222222222222222,\"#7201a8\"],[0.3333333333333333,\"#9c179e\"],[0.4444444444444444,\"#bd3786\"],[0.5555555555555556,\"#d8576b\"],[0.6666666666666666,\"#ed7953\"],[0.7777777777777778,\"#fb9f3a\"],[0.8888888888888888,\"#fdca26\"],[1.0,\"#f0f921\"]]},\"colorway\":[\"#636efa\",\"#EF553B\",\"#00cc96\",\"#ab63fa\",\"#FFA15A\",\"#19d3f3\",\"#FF6692\",\"#B6E880\",\"#FF97FF\",\"#FECB52\"],\"font\":{\"color\":\"#2a3f5f\"},\"geo\":{\"bgcolor\":\"white\",\"lakecolor\":\"white\",\"landcolor\":\"#E5ECF6\",\"showlakes\":true,\"showland\":true,\"subunitcolor\":\"white\"},\"hoverlabel\":{\"align\":\"left\"},\"hovermode\":\"closest\",\"mapbox\":{\"style\":\"light\"},\"paper_bgcolor\":\"white\",\"plot_bgcolor\":\"#E5ECF6\",\"polar\":{\"angularaxis\":{\"gridcolor\":\"white\",\"linecolor\":\"white\",\"ticks\":\"\"},\"bgcolor\":\"#E5ECF6\",\"radialaxis\":{\"gridcolor\":\"white\",\"linecolor\":\"white\",\"ticks\":\"\"}},\"scene\":{\"xaxis\":{\"backgroundcolor\":\"#E5ECF6\",\"gridcolor\":\"white\",\"gridwidth\":2,\"linecolor\":\"white\",\"showbackground\":true,\"ticks\":\"\",\"zerolinecolor\":\"white\"},\"yaxis\":{\"backgroundcolor\":\"#E5ECF6\",\"gridcolor\":\"white\",\"gridwidth\":2,\"linecolor\":\"white\",\"showbackground\":true,\"ticks\":\"\",\"zerolinecolor\":\"white\"},\"zaxis\":{\"backgroundcolor\":\"#E5ECF6\",\"gridcolor\":\"white\",\"gridwidth\":2,\"linecolor\":\"white\",\"showbackground\":true,\"ticks\":\"\",\"zerolinecolor\":\"white\"}},\"shapedefaults\":{\"line\":{\"color\":\"#2a3f5f\"}},\"ternary\":{\"aaxis\":{\"gridcolor\":\"white\",\"linecolor\":\"white\",\"ticks\":\"\"},\"baxis\":{\"gridcolor\":\"white\",\"linecolor\":\"white\",\"ticks\":\"\"},\"bgcolor\":\"#E5ECF6\",\"caxis\":{\"gridcolor\":\"white\",\"linecolor\":\"white\",\"ticks\":\"\"}},\"title\":{\"x\":0.05},\"xaxis\":{\"automargin\":true,\"gridcolor\":\"white\",\"linecolor\":\"white\",\"ticks\":\"\",\"title\":{\"standoff\":15},\"zerolinecolor\":\"white\",\"zerolinewidth\":2},\"yaxis\":{\"automargin\":true,\"gridcolor\":\"white\",\"linecolor\":\"white\",\"ticks\":\"\",\"title\":{\"standoff\":15},\"zerolinecolor\":\"white\",\"zerolinewidth\":2}}},\"legend\":{\"tracegroupgap\":0},\"title\":{\"text\":\"Spam Ratio\",\"x\":0.48}},                        {\"responsive\": true}                    ).then(function(){\n",
              "                            \n",
              "var gd = document.getElementById('ff36ab71-18fd-45f2-a0eb-1a6d3c897fb0');\n",
              "var x = new MutationObserver(function (mutations, observer) {{\n",
              "        var display = window.getComputedStyle(gd).display;\n",
              "        if (!display || display === 'none') {{\n",
              "            console.log([gd, 'removed!']);\n",
              "            Plotly.purge(gd);\n",
              "            observer.disconnect();\n",
              "        }}\n",
              "}});\n",
              "\n",
              "// Listen for the removal of the full notebook cells\n",
              "var notebookContainer = gd.closest('#notebook-container');\n",
              "if (notebookContainer) {{\n",
              "    x.observe(notebookContainer, {childList: true});\n",
              "}}\n",
              "\n",
              "// Listen for the clearing of the current output cell\n",
              "var outputEl = gd.closest('.output');\n",
              "if (outputEl) {{\n",
              "    x.observe(outputEl, {childList: true});\n",
              "}}\n",
              "\n",
              "                        })                };                            </script>        </div>\n",
              "</body>\n",
              "</html>"
            ]
          },
          "metadata": {},
          "output_type": "display_data"
        }
      ],
      "source": [
        "# Column \"v1\" is the label : \"ham\" means honest message, and \"spam\" are the ones we need to detect.\n",
        "# Checking the proportion of spams on the dataset\n",
        "fig = px.pie(dataset, names=\"v1\", title=\"Spam Ratio\", hole=0.4,\n",
        "            color=dataset[\"v1\"],\n",
        "            color_discrete_map={'ham':'green','spam':'red'})\n",
        "fig.update_layout(title_x=0.48)\n",
        "fig.update_traces(textinfo=\"value+percent\")\n",
        "fig.show()"
      ]
    },
    {
      "cell_type": "code",
      "execution_count": 7,
      "metadata": {
        "colab": {
          "base_uri": "https://localhost:8080/",
          "height": 542
        },
        "id": "NNkNmS6FKfmw",
        "outputId": "7981467b-5f52-4730-e915-cfc51bcfd226"
      },
      "outputs": [
        {
          "data": {
            "image/png": "[encoded data removed]",
            "text/plain": [
              "<IPython.core.display.Image object>"
            ]
          },
          "execution_count": 7,
          "metadata": {},
          "output_type": "execute_result"
        }
      ],
      "source": [
        "Image(filename='pie-spam-ratio.png') "
      ]
    },
    {
      "cell_type": "markdown",
      "metadata": {
        "id": "kTFsc8yYubRi"
      },
      "source": [
        "# 3- Preprocessing"
      ]
    },
    {
      "cell_type": "code",
      "execution_count": 8,
      "metadata": {
        "colab": {
          "base_uri": "https://localhost:8080/",
          "height": 424
        },
        "id": "KYTs1ENU8a3j",
        "outputId": "6da32a02-14b2-4a35-f40b-b9a161d6712e"
      },
      "outputs": [
        {
          "data": {
            "text/html": [
              "\n",
              "  <div id=\"df-041968d4-46fe-4d01-b56c-8757e69bb11e\">\n",
              "    <div class=\"colab-df-container\">\n",
              "      <div>\n",
              "<style scoped>\n",
              "    .dataframe tbody tr th:only-of-type {\n",
              "        vertical-align: middle;\n",
              "    }\n",
              "\n",
              "    .dataframe tbody tr th {\n",
              "        vertical-align: top;\n",
              "    }\n",
              "\n",
              "    .dataframe thead th {\n",
              "        text-align: right;\n",
              "    }\n",
              "</style>\n",
              "<table border=\"1\" class=\"dataframe\">\n",
              "  <thead>\n",
              "    <tr style=\"text-align: right;\">\n",
              "      <th></th>\n",
              "      <th>text</th>\n",
              "      <th>target</th>\n",
              "    </tr>\n",
              "  </thead>\n",
              "  <tbody>\n",
              "    <tr>\n",
              "      <th>0</th>\n",
              "      <td>Go until jurong point, crazy.. Available only ...</td>\n",
              "      <td>0</td>\n",
              "    </tr>\n",
              "    <tr>\n",
              "      <th>1</th>\n",
              "      <td>Ok lar... Joking wif u oni...</td>\n",
              "      <td>0</td>\n",
              "    </tr>\n",
              "    <tr>\n",
              "      <th>2</th>\n",
              "      <td>Free entry in 2 a wkly comp to win FA Cup fina...</td>\n",
              "      <td>1</td>\n",
              "    </tr>\n",
              "    <tr>\n",
              "      <th>3</th>\n",
              "      <td>U dun say so early hor... U c already then say...</td>\n",
              "      <td>0</td>\n",
              "    </tr>\n",
              "    <tr>\n",
              "      <th>4</th>\n",
              "      <td>Nah I don't think he goes to usf, he lives aro...</td>\n",
              "      <td>0</td>\n",
              "    </tr>\n",
              "    <tr>\n",
              "      <th>...</th>\n",
              "      <td>...</td>\n",
              "      <td>...</td>\n",
              "    </tr>\n",
              "    <tr>\n",
              "      <th>5567</th>\n",
              "      <td>This is the 2nd time we have tried 2 contact u...</td>\n",
              "      <td>1</td>\n",
              "    </tr>\n",
              "    <tr>\n",
              "      <th>5568</th>\n",
              "      <td>Will Ì_ b going to esplanade fr home?</td>\n",
              "      <td>0</td>\n",
              "    </tr>\n",
              "    <tr>\n",
              "      <th>5569</th>\n",
              "      <td>Pity, * was in mood for that. So...any other s...</td>\n",
              "      <td>0</td>\n",
              "    </tr>\n",
              "    <tr>\n",
              "      <th>5570</th>\n",
              "      <td>The guy did some bitching but I acted like i'd...</td>\n",
              "      <td>0</td>\n",
              "    </tr>\n",
              "    <tr>\n",
              "      <th>5571</th>\n",
              "      <td>Rofl. Its true to its name</td>\n",
              "      <td>0</td>\n",
              "    </tr>\n",
              "  </tbody>\n",
              "</table>\n",
              "<p>5572 rows × 2 columns</p>\n",
              "</div>\n",
              "      <button class=\"colab-df-convert\" onclick=\"convertToInteractive('df-041968d4-46fe-4d01-b56c-8757e69bb11e')\"\n",
              "              title=\"Convert this dataframe to an interactive table.\"\n",
              "              style=\"display:none;\">\n",
              "        \n",
              "  <svg xmlns=\"http://www.w3.org/2000/svg\" height=\"24px\"viewBox=\"0 0 24 24\"\n",
              "       width=\"24px\">\n",
              "    <path d=\"M0 0h24v24H0V0z\" fill=\"none\"/>\n",
              "    <path d=\"M18.56 5.44l.94 2.06.94-2.06 2.06-.94-2.06-.94-.94-2.06-.94 2.06-2.06.94zm-11 1L8.5 8.5l.94-2.06 2.06-.94-2.06-.94L8.5 2.5l-.94 2.06-2.06.94zm10 10l.94 2.06.94-2.06 2.06-.94-2.06-.94-.94-2.06-.94 2.06-2.06.94z\"/><path d=\"M17.41 7.96l-1.37-1.37c-.4-.4-.92-.59-1.43-.59-.52 0-1.04.2-1.43.59L10.3 9.45l-7.72 7.72c-.78.78-.78 2.05 0 2.83L4 21.41c.39.39.9.59 1.41.59.51 0 1.02-.2 1.41-.59l7.78-7.78 2.81-2.81c.8-.78.8-2.07 0-2.86zM5.41 20L4 18.59l7.72-7.72 1.47 1.35L5.41 20z\"/>\n",
              "  </svg>\n",
              "      </button>\n",
              "      \n",
              "  <style>\n",
              "    .colab-df-container {\n",
              "      display:flex;\n",
              "      flex-wrap:wrap;\n",
              "      gap: 12px;\n",
              "    }\n",
              "\n",
              "    .colab-df-convert {\n",
              "      background-color: #E8F0FE;\n",
              "      border: none;\n",
              "      border-radius: 50%;\n",
              "      cursor: pointer;\n",
              "      display: none;\n",
              "      fill: #1967D2;\n",
              "      height: 32px;\n",
              "      padding: 0 0 0 0;\n",
              "      width: 32px;\n",
              "    }\n",
              "\n",
              "    .colab-df-convert:hover {\n",
              "      background-color: #E2EBFA;\n",
              "      box-shadow: 0px 1px 2px rgba(60, 64, 67, 0.3), 0px 1px 3px 1px rgba(60, 64, 67, 0.15);\n",
              "      fill: #174EA6;\n",
              "    }\n",
              "\n",
              "    [theme=dark] .colab-df-convert {\n",
              "      background-color: #3B4455;\n",
              "      fill: #D2E3FC;\n",
              "    }\n",
              "\n",
              "    [theme=dark] .colab-df-convert:hover {\n",
              "      background-color: #434B5C;\n",
              "      box-shadow: 0px 1px 3px 1px rgba(0, 0, 0, 0.15);\n",
              "      filter: drop-shadow(0px 1px 2px rgba(0, 0, 0, 0.3));\n",
              "      fill: #FFFFFF;\n",
              "    }\n",
              "  </style>\n",
              "\n",
              "      <script>\n",
              "        const buttonEl =\n",
              "          document.querySelector('#df-041968d4-46fe-4d01-b56c-8757e69bb11e button.colab-df-convert');\n",
              "        buttonEl.style.display =\n",
              "          google.colab.kernel.accessAllowed ? 'block' : 'none';\n",
              "\n",
              "        async function convertToInteractive(key) {\n",
              "          const element = document.querySelector('#df-041968d4-46fe-4d01-b56c-8757e69bb11e');\n",
              "          const dataTable =\n",
              "            await google.colab.kernel.invokeFunction('convertToInteractive',\n",
              "                                                     [key], {});\n",
              "          if (!dataTable) return;\n",
              "\n",
              "          const docLinkHtml = 'Like what you see? Visit the ' +\n",
              "            '<a target=\"_blank\" href=https://colab.research.google.com/notebooks/data_table.ipynb>data table notebook</a>'\n",
              "            + ' to learn more about interactive tables.';\n",
              "          element.innerHTML = '';\n",
              "          dataTable['output_type'] = 'display_data';\n",
              "          await google.colab.output.renderOutput(dataTable, element);\n",
              "          const docLink = document.createElement('div');\n",
              "          docLink.innerHTML = docLinkHtml;\n",
              "          element.appendChild(docLink);\n",
              "        }\n",
              "      </script>\n",
              "    </div>\n",
              "  </div>\n",
              "  "
            ],
            "text/plain": [
              "                                                   text  target\n",
              "0     Go until jurong point, crazy.. Available only ...       0\n",
              "1                      Ok lar... Joking wif u oni...          0\n",
              "2     Free entry in 2 a wkly comp to win FA Cup fina...       1\n",
              "3     U dun say so early hor... U c already then say...       0\n",
              "4     Nah I don't think he goes to usf, he lives aro...       0\n",
              "...                                                 ...     ...\n",
              "5567  This is the 2nd time we have tried 2 contact u...       1\n",
              "5568           Will Ì_ b going to esplanade fr home?          0\n",
              "5569  Pity, * was in mood for that. So...any other s...       0\n",
              "5570  The guy did some bitching but I acted like i'd...       0\n",
              "5571                      Rofl. Its true to its name          0\n",
              "\n",
              "[5572 rows x 2 columns]"
            ]
          },
          "execution_count": 8,
          "metadata": {},
          "output_type": "execute_result"
        }
      ],
      "source": [
        "# Manually encoding the target column with 0 and 1\n",
        "dataset['target'] = dataset['v1'].apply(lambda x: 0 if x == 'ham' else 1)\n",
        "dataset = dataset.drop(\"v1\", axis=1)\n",
        "dataset"
      ]
    },
    {
      "cell_type": "code",
      "execution_count": 9,
      "metadata": {
        "id": "aAahDn1pUzuK"
      },
      "outputs": [],
      "source": [
        "# Downloading English packages\n",
        "import en_core_web_sm\n",
        "nlp = en_core_web_sm.load()\n",
        "\n",
        "# Importing English Stop words \n",
        "from spacy.lang.en.stop_words import STOP_WORDS"
      ]
    },
    {
      "cell_type": "code",
      "execution_count": 10,
      "metadata": {
        "id": "WTtpkbhyUzli"
      },
      "outputs": [],
      "source": [
        "# Removing all non alphanumeric characters except whitespaces\n",
        "dataset[\"text_clean\"] = dataset[\"text\"].apply(lambda x:''.join(ch for ch in x if ch.isalnum() or ch==\" \"))\n",
        "# Removing double spaces and spaces at the beginning and end of strings\n",
        "dataset[\"text_clean\"] = dataset[\"text_clean\"].apply(lambda x: x.replace(\" +\",\" \").lower().strip())\n",
        "# Removing stop words and replacing every word with their lemma\n",
        "dataset[\"text_clean\"] = dataset[\"text_clean\"].apply(lambda x: \" \".join([token.lemma_ for token in nlp(x) if (token.lemma_ not in STOP_WORDS) & (token.text not in STOP_WORDS)]))"
      ]
    },
    {
      "cell_type": "code",
      "execution_count": 11,
      "metadata": {
        "colab": {
          "base_uri": "https://localhost:8080/",
          "height": 206
        },
        "id": "RDeQSuZDV6fP",
        "outputId": "419cd57e-33b7-4198-8e06-77c358fb8101"
      },
      "outputs": [
        {
          "data": {
            "text/html": [
              "\n",
              "  <div id=\"df-99f9a0cd-a4e5-4ac3-8dcb-73bd66a4dff9\">\n",
              "    <div class=\"colab-df-container\">\n",
              "      <div>\n",
              "<style scoped>\n",
              "    .dataframe tbody tr th:only-of-type {\n",
              "        vertical-align: middle;\n",
              "    }\n",
              "\n",
              "    .dataframe tbody tr th {\n",
              "        vertical-align: top;\n",
              "    }\n",
              "\n",
              "    .dataframe thead th {\n",
              "        text-align: right;\n",
              "    }\n",
              "</style>\n",
              "<table border=\"1\" class=\"dataframe\">\n",
              "  <thead>\n",
              "    <tr style=\"text-align: right;\">\n",
              "      <th></th>\n",
              "      <th>index</th>\n",
              "      <th>text</th>\n",
              "      <th>target</th>\n",
              "      <th>text_clean</th>\n",
              "      <th>text_clean_encoded</th>\n",
              "      <th>len_text</th>\n",
              "    </tr>\n",
              "  </thead>\n",
              "  <tbody>\n",
              "    <tr>\n",
              "      <th>0</th>\n",
              "      <td>0</td>\n",
              "      <td>Go until jurong point, crazy.. Available only ...</td>\n",
              "      <td>0</td>\n",
              "      <td>jurong point crazy available bugis n great wor...</td>\n",
              "      <td>[3625, 234, 447, 462, 948, 36, 53, 206, 949, 8...</td>\n",
              "      <td>14</td>\n",
              "    </tr>\n",
              "    <tr>\n",
              "      <th>1</th>\n",
              "      <td>1</td>\n",
              "      <td>Ok lar... Joking wif u oni...</td>\n",
              "      <td>0</td>\n",
              "      <td>ok lar joking wif u oni</td>\n",
              "      <td>[10, 194, 3627, 291, 2, 1461]</td>\n",
              "      <td>6</td>\n",
              "    </tr>\n",
              "    <tr>\n",
              "      <th>2</th>\n",
              "      <td>2</td>\n",
              "      <td>Free entry in 2 a wkly comp to win FA Cup fina...</td>\n",
              "      <td>1</td>\n",
              "      <td>free entry 2 wkly comp win fa cup final tkts 2...</td>\n",
              "      <td>[13, 301, 4, 536, 660, 34, 1462, 859, 424, 146...</td>\n",
              "      <td>22</td>\n",
              "    </tr>\n",
              "    <tr>\n",
              "      <th>3</th>\n",
              "      <td>3</td>\n",
              "      <td>U dun say so early hor... U c already then say...</td>\n",
              "      <td>0</td>\n",
              "      <td>u dun early hor u c</td>\n",
              "      <td>[2, 126, 151, 2379, 2, 86]</td>\n",
              "      <td>6</td>\n",
              "    </tr>\n",
              "    <tr>\n",
              "      <th>4</th>\n",
              "      <td>4</td>\n",
              "      <td>Nah I don't think he goes to usf, he lives aro...</td>\n",
              "      <td>0</td>\n",
              "      <td>nah think usf live</td>\n",
              "      <td>[711, 23, 661, 129]</td>\n",
              "      <td>4</td>\n",
              "    </tr>\n",
              "  </tbody>\n",
              "</table>\n",
              "</div>\n",
              "      <button class=\"colab-df-convert\" onclick=\"convertToInteractive('df-99f9a0cd-a4e5-4ac3-8dcb-73bd66a4dff9')\"\n",
              "              title=\"Convert this dataframe to an interactive table.\"\n",
              "              style=\"display:none;\">\n",
              "        \n",
              "  <svg xmlns=\"http://www.w3.org/2000/svg\" height=\"24px\"viewBox=\"0 0 24 24\"\n",
              "       width=\"24px\">\n",
              "    <path d=\"M0 0h24v24H0V0z\" fill=\"none\"/>\n",
              "    <path d=\"M18.56 5.44l.94 2.06.94-2.06 2.06-.94-2.06-.94-.94-2.06-.94 2.06-2.06.94zm-11 1L8.5 8.5l.94-2.06 2.06-.94-2.06-.94L8.5 2.5l-.94 2.06-2.06.94zm10 10l.94 2.06.94-2.06 2.06-.94-2.06-.94-.94-2.06-.94 2.06-2.06.94z\"/><path d=\"M17.41 7.96l-1.37-1.37c-.4-.4-.92-.59-1.43-.59-.52 0-1.04.2-1.43.59L10.3 9.45l-7.72 7.72c-.78.78-.78 2.05 0 2.83L4 21.41c.39.39.9.59 1.41.59.51 0 1.02-.2 1.41-.59l7.78-7.78 2.81-2.81c.8-.78.8-2.07 0-2.86zM5.41 20L4 18.59l7.72-7.72 1.47 1.35L5.41 20z\"/>\n",
              "  </svg>\n",
              "      </button>\n",
              "      \n",
              "  <style>\n",
              "    .colab-df-container {\n",
              "      display:flex;\n",
              "      flex-wrap:wrap;\n",
              "      gap: 12px;\n",
              "    }\n",
              "\n",
              "    .colab-df-convert {\n",
              "      background-color: #E8F0FE;\n",
              "      border: none;\n",
              "      border-radius: 50%;\n",
              "      cursor: pointer;\n",
              "      display: none;\n",
              "      fill: #1967D2;\n",
              "      height: 32px;\n",
              "      padding: 0 0 0 0;\n",
              "      width: 32px;\n",
              "    }\n",
              "\n",
              "    .colab-df-convert:hover {\n",
              "      background-color: #E2EBFA;\n",
              "      box-shadow: 0px 1px 2px rgba(60, 64, 67, 0.3), 0px 1px 3px 1px rgba(60, 64, 67, 0.15);\n",
              "      fill: #174EA6;\n",
              "    }\n",
              "\n",
              "    [theme=dark] .colab-df-convert {\n",
              "      background-color: #3B4455;\n",
              "      fill: #D2E3FC;\n",
              "    }\n",
              "\n",
              "    [theme=dark] .colab-df-convert:hover {\n",
              "      background-color: #434B5C;\n",
              "      box-shadow: 0px 1px 3px 1px rgba(0, 0, 0, 0.15);\n",
              "      filter: drop-shadow(0px 1px 2px rgba(0, 0, 0, 0.3));\n",
              "      fill: #FFFFFF;\n",
              "    }\n",
              "  </style>\n",
              "\n",
              "      <script>\n",
              "        const buttonEl =\n",
              "          document.querySelector('#df-99f9a0cd-a4e5-4ac3-8dcb-73bd66a4dff9 button.colab-df-convert');\n",
              "        buttonEl.style.display =\n",
              "          google.colab.kernel.accessAllowed ? 'block' : 'none';\n",
              "\n",
              "        async function convertToInteractive(key) {\n",
              "          const element = document.querySelector('#df-99f9a0cd-a4e5-4ac3-8dcb-73bd66a4dff9');\n",
              "          const dataTable =\n",
              "            await google.colab.kernel.invokeFunction('convertToInteractive',\n",
              "                                                     [key], {});\n",
              "          if (!dataTable) return;\n",
              "\n",
              "          const docLinkHtml = 'Like what you see? Visit the ' +\n",
              "            '<a target=\"_blank\" href=https://colab.research.google.com/notebooks/data_table.ipynb>data table notebook</a>'\n",
              "            + ' to learn more about interactive tables.';\n",
              "          element.innerHTML = '';\n",
              "          dataTable['output_type'] = 'display_data';\n",
              "          await google.colab.output.renderOutput(dataTable, element);\n",
              "          const docLink = document.createElement('div');\n",
              "          docLink.innerHTML = docLinkHtml;\n",
              "          element.appendChild(docLink);\n",
              "        }\n",
              "      </script>\n",
              "    </div>\n",
              "  </div>\n",
              "  "
            ],
            "text/plain": [
              "   index                                               text  target  \\\n",
              "0      0  Go until jurong point, crazy.. Available only ...       0   \n",
              "1      1                   Ok lar... Joking wif u oni...          0   \n",
              "2      2  Free entry in 2 a wkly comp to win FA Cup fina...       1   \n",
              "3      3  U dun say so early hor... U c already then say...       0   \n",
              "4      4  Nah I don't think he goes to usf, he lives aro...       0   \n",
              "\n",
              "                                          text_clean  \\\n",
              "0  jurong point crazy available bugis n great wor...   \n",
              "1                            ok lar joking wif u oni   \n",
              "2  free entry 2 wkly comp win fa cup final tkts 2...   \n",
              "3                                u dun early hor u c   \n",
              "4                                 nah think usf live   \n",
              "\n",
              "                                  text_clean_encoded  len_text  \n",
              "0  [3625, 234, 447, 462, 948, 36, 53, 206, 949, 8...        14  \n",
              "1                      [10, 194, 3627, 291, 2, 1461]         6  \n",
              "2  [13, 301, 4, 536, 660, 34, 1462, 859, 424, 146...        22  \n",
              "3                         [2, 126, 151, 2379, 2, 86]         6  \n",
              "4                                [711, 23, 661, 129]         4  "
            ]
          },
          "execution_count": 11,
          "metadata": {},
          "output_type": "execute_result"
        }
      ],
      "source": [
        "# Encoding words\n",
        "tokenizer = tf.keras.preprocessing.text.Tokenizer(num_words=10000, oov_token=\"UNKNOWN_WORD\") # will replace any unknown word by this\n",
        "tokenizer.fit_on_texts(dataset['text_clean'])\n",
        "dataset['text_clean_encoded'] = tokenizer.texts_to_sequences(dataset['text_clean'])\n",
        "\n",
        "# Sometimes the preprocessing removes all the words in a string (because they contain only stopwords for example) so we calculate the length in order to filter out those records\n",
        "dataset[\"len_text\"] = dataset[\"text_clean_encoded\"].apply(lambda x: len(x))\n",
        "dataset = (dataset[dataset[\"len_text\"]!=0]).reset_index()\n",
        "dataset.head()"
      ]
    },
    {
      "cell_type": "code",
      "execution_count": 12,
      "metadata": {
        "id": "_MbnBX4tV6cx"
      },
      "outputs": [],
      "source": [
        "# Padding sequences for them to have the same length\n",
        "dataset_pad = tf.keras.preprocessing.sequence.pad_sequences(dataset['text_clean_encoded'], padding=\"post\")"
      ]
    },
    {
      "cell_type": "code",
      "execution_count": 13,
      "metadata": {
        "id": "iO_sOvu7tVCw"
      },
      "outputs": [],
      "source": [
        "# Train Test Split\n",
        "xtrain, xval, ytrain, yval = train_test_split(dataset_pad,dataset['target'], test_size=0.2, random_state= 7, stratify = dataset['target'])"
      ]
    },
    {
      "cell_type": "code",
      "execution_count": 14,
      "metadata": {
        "id": "9ALQqC4FtU_b"
      },
      "outputs": [],
      "source": [
        "# Creating tensors\n",
        "train = tf.data.Dataset.from_tensor_slices((xtrain, ytrain))\n",
        "val = tf.data.Dataset.from_tensor_slices((xval, yval))"
      ]
    },
    {
      "cell_type": "code",
      "execution_count": 15,
      "metadata": {
        "id": "in6laMKhtU8a"
      },
      "outputs": [],
      "source": [
        "# Creating batches\n",
        "train_batch = train.shuffle(len(train)).batch(64)\n",
        "val_batch = val.shuffle(len(val)).batch(64)"
      ]
    },
    {
      "cell_type": "markdown",
      "metadata": {
        "id": "tLm2mneKBJXz"
      },
      "source": [
        "# 4- Model"
      ]
    },
    {
      "cell_type": "code",
      "execution_count": 16,
      "metadata": {
        "colab": {
          "base_uri": "https://localhost:8080/"
        },
        "id": "vwahEV6oBm7P",
        "outputId": "609df8f5-d334-4429-8ddb-7a2d8b04026f"
      },
      "outputs": [
        {
          "name": "stdout",
          "output_type": "stream",
          "text": [
            "Model: \"sequential\"\n",
            "_________________________________________________________________\n",
            " Layer (type)                Output Shape              Param #   \n",
            "=================================================================\n",
            " embedding (Embedding)       (None, None, 128)         1280128   \n",
            "                                                                 \n",
            " global_average_pooling1d (G  (None, 128)              0         \n",
            " lobalAveragePooling1D)                                          \n",
            "                                                                 \n",
            " dense (Dense)               (None, 64)                8256      \n",
            "                                                                 \n",
            " dense_1 (Dense)             (None, 32)                2080      \n",
            "                                                                 \n",
            " dense_2 (Dense)             (None, 1)                 33        \n",
            "                                                                 \n",
            "=================================================================\n",
            "Total params: 1,290,497\n",
            "Trainable params: 1,290,497\n",
            "Non-trainable params: 0\n",
            "_________________________________________________________________\n"
          ]
        }
      ],
      "source": [
        "# Creating our Deep Learning model\n",
        "vocab_size = tokenizer.num_words\n",
        "embedding_dim = 128\n",
        "\n",
        "model = Sequential([         \n",
        "                  Embedding(vocab_size+1, embedding_dim,name=\"embedding\"), # Word Embedding layer\n",
        "                  GlobalAveragePooling1D(), # Gobal average pooling\n",
        "                  Dense(64, activation='relu'), # Dense layer\n",
        "                  Dense(32, activation='relu'), # Dense layer\n",
        "                  Dense(1, activation=\"sigmoid\") # Prediction layer\n",
        "])\n",
        "\n",
        "model.summary()"
      ]
    },
    {
      "cell_type": "code",
      "execution_count": 17,
      "metadata": {
        "id": "hYihdCRKBmpi"
      },
      "outputs": [],
      "source": [
        "# Compiling with loss and metrics\n",
        "model.compile(optimizer='adam',\n",
        "              loss=BinaryCrossentropy(),\n",
        "              metrics=['accuracy'])"
      ]
    },
    {
      "cell_type": "code",
      "execution_count": 18,
      "metadata": {
        "colab": {
          "base_uri": "https://localhost:8080/"
        },
        "id": "e42Dqbp3LuwT",
        "outputId": "b5c99300-da47-43f9-8c7c-5b763e1b4784"
      },
      "outputs": [
        {
          "data": {
            "text/plain": [
              "{0: 0.23107321131447586, 1: 1.4872824631860777}"
            ]
          },
          "execution_count": 18,
          "metadata": {},
          "output_type": "execute_result"
        }
      ],
      "source": [
        "# Calcultaing weight since the dataset is unbalanced with much more 0 (ham) than 1 (spam)\n",
        "weights = 1/(dataset[\"target\"]).value_counts()\n",
        "weights = weights * len(dataset)/5\n",
        "weights = {index : values for index , values in zip(weights.index,weights.values)}\n",
        "weights"
      ]
    },
    {
      "cell_type": "code",
      "execution_count": 19,
      "metadata": {
        "colab": {
          "base_uri": "https://localhost:8080/"
        },
        "id": "50Qe3Ny4LuqE",
        "outputId": "2e052e1b-b79b-477a-ac94-5edcf13bbf34"
      },
      "outputs": [
        {
          "name": "stdout",
          "output_type": "stream",
          "text": [
            "Epoch 1/20\n",
            "70/70 [==============================] - 13s 148ms/step - loss: 0.2730 - accuracy: 0.8616 - val_loss: 0.5925 - val_accuracy: 0.8956\n",
            "Epoch 2/20\n",
            "70/70 [==============================] - 7s 99ms/step - loss: 0.1968 - accuracy: 0.9507 - val_loss: 0.1722 - val_accuracy: 0.9748\n",
            "Epoch 3/20\n",
            "70/70 [==============================] - 3s 49ms/step - loss: 0.0600 - accuracy: 0.9865 - val_loss: 0.0977 - val_accuracy: 0.9829\n",
            "Epoch 4/20\n",
            "70/70 [==============================] - 2s 33ms/step - loss: 0.0309 - accuracy: 0.9917 - val_loss: 0.1048 - val_accuracy: 0.9775\n",
            "Epoch 5/20\n",
            "70/70 [==============================] - 2s 29ms/step - loss: 0.0177 - accuracy: 0.9950 - val_loss: 0.0449 - val_accuracy: 0.9883\n",
            "Epoch 6/20\n",
            "70/70 [==============================] - 3s 36ms/step - loss: 0.0119 - accuracy: 0.9968 - val_loss: 0.0484 - val_accuracy: 0.9883\n",
            "Epoch 7/20\n",
            "70/70 [==============================] - 1s 17ms/step - loss: 0.0088 - accuracy: 0.9966 - val_loss: 0.0473 - val_accuracy: 0.9865\n",
            "Epoch 8/20\n",
            "70/70 [==============================] - 1s 17ms/step - loss: 0.0063 - accuracy: 0.9982 - val_loss: 0.0431 - val_accuracy: 0.9874\n",
            "Epoch 9/20\n",
            "70/70 [==============================] - 2s 22ms/step - loss: 0.0047 - accuracy: 0.9986 - val_loss: 0.0590 - val_accuracy: 0.9856\n",
            "Epoch 10/20\n",
            "70/70 [==============================] - 0s 5ms/step - loss: 0.0034 - accuracy: 0.9989 - val_loss: 0.0434 - val_accuracy: 0.9892\n",
            "Epoch 11/20\n",
            "70/70 [==============================] - 1s 12ms/step - loss: 0.0032 - accuracy: 0.9991 - val_loss: 0.0426 - val_accuracy: 0.9874\n",
            "Epoch 12/20\n",
            "70/70 [==============================] - 1s 7ms/step - loss: 0.0027 - accuracy: 0.9991 - val_loss: 0.0467 - val_accuracy: 0.9892\n",
            "Epoch 13/20\n",
            "70/70 [==============================] - 1s 12ms/step - loss: 0.0024 - accuracy: 0.9984 - val_loss: 0.0436 - val_accuracy: 0.9874\n",
            "Epoch 14/20\n",
            "70/70 [==============================] - 1s 15ms/step - loss: 0.0014 - accuracy: 0.9993 - val_loss: 0.0458 - val_accuracy: 0.9883\n",
            "Epoch 15/20\n",
            "70/70 [==============================] - 1s 12ms/step - loss: 0.0014 - accuracy: 0.9995 - val_loss: 0.0453 - val_accuracy: 0.9874\n",
            "Epoch 16/20\n",
            "70/70 [==============================] - 1s 12ms/step - loss: 9.8543e-04 - accuracy: 0.9995 - val_loss: 0.0491 - val_accuracy: 0.9892\n",
            "Epoch 17/20\n",
            "70/70 [==============================] - 1s 12ms/step - loss: 0.0011 - accuracy: 0.9998 - val_loss: 0.0482 - val_accuracy: 0.9883\n",
            "Epoch 18/20\n",
            "70/70 [==============================] - 1s 12ms/step - loss: 8.9923e-04 - accuracy: 0.9998 - val_loss: 0.0483 - val_accuracy: 0.9883\n",
            "Epoch 19/20\n",
            "70/70 [==============================] - 1s 8ms/step - loss: 6.9654e-04 - accuracy: 0.9998 - val_loss: 0.0480 - val_accuracy: 0.9874\n",
            "Epoch 20/20\n",
            "70/70 [==============================] - 1s 11ms/step - loss: 5.1408e-04 - accuracy: 1.0000 - val_loss: 0.0495 - val_accuracy: 0.9883\n"
          ]
        }
      ],
      "source": [
        "# Lauching model\n",
        "history = model.fit(train_batch, \n",
        "                    epochs=20, \n",
        "                    validation_data=val_batch,\n",
        "                    class_weight=weights)"
      ]
    },
    {
      "cell_type": "code",
      "execution_count": 20,
      "metadata": {
        "colab": {
          "base_uri": "https://localhost:8080/",
          "height": 279
        },
        "id": "8fLtpI2PL7_u",
        "outputId": "9b0f4e8d-4d07-45c4-d6de-0c50888c6791"
      },
      "outputs": [
        {
          "data": {
            "image/png": "[encoded data removed]",
            "text/plain": [
              "<Figure size 432x288 with 1 Axes>"
            ]
          },
          "metadata": {
            "needs_background": "light"
          },
          "output_type": "display_data"
        }
      ],
      "source": [
        "# Visualization of the training process on the loss function \n",
        "plt.plot(history.history[\"loss\"], color=\"b\", label=\"train loss\")\n",
        "plt.plot(history.history[\"val_loss\"], color=\"r\", label=\"val loss\")\n",
        "plt.ylabel(\"loss\")\n",
        "plt.xlabel(\"Epochs\")\n",
        "plt.legend()\n",
        "plt.show()"
      ]
    },
    {
      "cell_type": "code",
      "execution_count": 21,
      "metadata": {
        "colab": {
          "base_uri": "https://localhost:8080/",
          "height": 279
        },
        "id": "1B1FziP_Mv_j",
        "outputId": "5743bb00-77b8-45b2-8ce5-1ce5d410adb2"
      },
      "outputs": [
        {
          "data": {
            "image/png": "[encoded data removed]",
            "text/plain": [
              "<Figure size 432x288 with 1 Axes>"
            ]
          },
          "metadata": {
            "needs_background": "light"
          },
          "output_type": "display_data"
        }
      ],
      "source": [
        "# Visualization of accuracy training \n",
        "plt.plot(history.history[\"accuracy\"], color=\"b\", label=\"train accuracy\")\n",
        "plt.plot(history.history[\"val_accuracy\"], color=\"r\", label=\"val accuracy\")\n",
        "plt.ylabel(\"accuracy\")\n",
        "plt.xlabel(\"Epochs\")\n",
        "plt.legend()\n",
        "plt.show()"
      ]
    },
    {
      "cell_type": "code",
      "execution_count": 22,
      "metadata": {
        "colab": {
          "base_uri": "https://localhost:8080/"
        },
        "id": "loq7z_goMv89",
        "outputId": "cfe86c93-6a47-44a2-a130-728dd997d2db"
      },
      "outputs": [
        {
          "name": "stdout",
          "output_type": "stream",
          "text": [
            "35/35 [==============================] - 0s 2ms/step\n",
            "              precision    recall  f1-score   support\n",
            "\n",
            "           0       0.99      1.00      0.99       962\n",
            "           1       0.99      0.93      0.96       149\n",
            "\n",
            "    accuracy                           0.99      1111\n",
            "   macro avg       0.99      0.96      0.97      1111\n",
            "weighted avg       0.99      0.99      0.99      1111\n",
            "\n"
          ]
        }
      ],
      "source": [
        "# Checking all results\n",
        "prediction = model.predict(xval)\n",
        "classes_pred = [round(pred[0]) for pred in prediction]\n",
        "\n",
        "print(classification_report(yval, classes_pred))"
      ]
    },
    {
      "cell_type": "code",
      "execution_count": 23,
      "metadata": {
        "colab": {
          "base_uri": "https://localhost:8080/",
          "height": 265
        },
        "id": "LLjNbFLoOxHe",
        "outputId": "ed7515c4-549a-407a-868e-f35851370f6b"
      },
      "outputs": [
        {
          "data": {
            "image/png": "[encoded data removed]",
            "text/plain": [
              "<Figure size 432x288 with 2 Axes>"
            ]
          },
          "metadata": {
            "needs_background": "light"
          },
          "output_type": "display_data"
        }
      ],
      "source": [
        "# Visualizing True Positives, True Negatives, False Positives, False Negatives with a confusion matrix\n",
        "confusion_matrix = confusion_matrix(yval, classes_pred)\n",
        "\n",
        "sns.heatmap(confusion_matrix, annot = True, fmt=\".1f\")\n",
        "plt.show()"
      ]
    },
    {
      "cell_type": "markdown",
      "metadata": {
        "id": "G0BvUXH2Belg"
      },
      "source": [
        "# Conclusion"
      ]
    },
    {
      "attachments": {},
      "cell_type": "markdown",
      "metadata": {
        "id": "XSYVYx7P-yl6"
      },
      "source": [
        "As we can see, our model has a good prediction rate for spam messages: it detected 138 spam out of 149 (96%).\n",
        "And it did not block too many honest/ham messages: only 2 out of 962 were identified as spam."
      ]
    }
  ],
  "metadata": {
    "accelerator": "GPU",
    "colab": {
      "provenance": []
    },
    "gpuClass": "standard",
    "kernelspec": {
      "display_name": "Python 3",
      "name": "python3"
    },
    "language_info": {
      "name": "python"
    }
  },
  "nbformat": 4,
  "nbformat_minor": 0
}
